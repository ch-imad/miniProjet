{
 "cells": [
  {
   "cell_type": "markdown",
   "metadata": {
    "collapsed": true
   },
   "source": [
    "# Challenge on predicting of resolvability of crimes for BATMAN\n"
   ]
  },
  {
   "cell_type": "markdown",
   "metadata": {},
   "source": [
    "### Socio Team  or \"Bat\"Team "
   ]
  },
  {
   "cell_type": "markdown",
   "metadata": {},
   "source": [
    "<i>Goukam , Imad , Mohamed , Nassim (M2 AIC Paris_Sud) </i>"
   ]
  },
  {
   "cell_type": "markdown",
   "metadata": {},
   "source": [
    "## Introduction\n",
    "The data set was download in this url:<a>https://data.sfgov.org/Public-Safety/SFPD-Incidents-Current-Year-2015-/ritf-b9ki</a>. \n",
    "The data is thin, it contains\n",
    "\n",
    "* Dates - timestamp of the crime incident\n",
    "* Category - category of the crime incident (only in train.csv). This is the target variable you are going to predict.\n",
    "* Descript - detailed description of the crime incident (only in train.csv)\n",
    "* DayOfWeek - the day of the week\n",
    "* PdDistrict - name of the Police Department District\n",
    "* Resolution - how the crime incident was resolved (only in train.csv)\n",
    "* Address - the approximate street address of the crime incident \n",
    "* X - Longitude\n",
    "* Y - Latitude\n",
    "\n",
    "\n",
    "\n",
    "\n",
    "** The goal is to predict the <code>Resolution</code> column. The prediction quality is measured by RMSE**. \n",
    "\n"
   ]
  },
  {
   "cell_type": "code",
   "execution_count": 3,
   "metadata": {
    "collapsed": false
   },
   "outputs": [],
   "source": [
    "%matplotlib inline\n",
    "import numpy as np\n",
    "import pandas as pd\n",
    "import matplotlib.pyplot as plt\n",
    "import seaborn as sns; sns.set()"
   ]
  },
  {
   "cell_type": "markdown",
   "metadata": {},
   "source": [
    "## Fetch the data and load it in pandas"
   ]
  },
  {
   "cell_type": "code",
   "execution_count": 4,
   "metadata": {
    "collapsed": false
   },
   "outputs": [],
   "source": [
    "import os"
   ]
  },
  {
   "cell_type": "code",
   "execution_count": 5,
   "metadata": {
    "collapsed": false
   },
   "outputs": [],
   "source": [
    "local_filename = 'data/original_data.csv'\n",
    "data = pd.read_csv(local_filename, index_col=0)"
   ]
  },
  {
   "cell_type": "code",
   "execution_count": 6,
   "metadata": {
    "collapsed": false
   },
   "outputs": [
    {
     "data": {
      "text/plain": [
       "(153618, 11)"
      ]
     },
     "execution_count": 6,
     "metadata": {},
     "output_type": "execute_result"
    }
   ],
   "source": [
    "data.shape"
   ]
  },
  {
   "cell_type": "code",
   "execution_count": 7,
   "metadata": {
    "collapsed": false
   },
   "outputs": [
    {
     "data": {
      "text/plain": [
       "array(['Category', 'Descript', 'DayOfWeek', 'Date', 'Time', 'PdDistrict',\n",
       "       'Resolution', 'Address', 'X', 'Y', 'Location'], dtype=object)"
      ]
     },
     "execution_count": 7,
     "metadata": {},
     "output_type": "execute_result"
    }
   ],
   "source": [
    "data.columns.values\n"
   ]
  },
  {
   "cell_type": "code",
   "execution_count": 8,
   "metadata": {
    "collapsed": false
   },
   "outputs": [
    {
     "data": {
      "text/html": [
       "<div>\n",
       "<table border=\"1\" class=\"dataframe\">\n",
       "  <thead>\n",
       "    <tr style=\"text-align: right;\">\n",
       "      <th></th>\n",
       "      <th>Category</th>\n",
       "      <th>Descript</th>\n",
       "      <th>DayOfWeek</th>\n",
       "      <th>Date</th>\n",
       "      <th>Time</th>\n",
       "      <th>PdDistrict</th>\n",
       "      <th>Resolution</th>\n",
       "      <th>Address</th>\n",
       "      <th>X</th>\n",
       "      <th>Y</th>\n",
       "      <th>Location</th>\n",
       "    </tr>\n",
       "    <tr>\n",
       "      <th>IncidntNum</th>\n",
       "      <th></th>\n",
       "      <th></th>\n",
       "      <th></th>\n",
       "      <th></th>\n",
       "      <th></th>\n",
       "      <th></th>\n",
       "      <th></th>\n",
       "      <th></th>\n",
       "      <th></th>\n",
       "      <th></th>\n",
       "      <th></th>\n",
       "    </tr>\n",
       "  </thead>\n",
       "  <tbody>\n",
       "    <tr>\n",
       "      <th>160000108</th>\n",
       "      <td>ASSAULT</td>\n",
       "      <td>BATTERY</td>\n",
       "      <td>Thursday</td>\n",
       "      <td>12/31/2015</td>\n",
       "      <td>23:58</td>\n",
       "      <td>SOUTHERN</td>\n",
       "      <td>ARREST, BOOKED</td>\n",
       "      <td>800 Block of BRYANT ST</td>\n",
       "      <td>-122.403405</td>\n",
       "      <td>37.775421</td>\n",
       "      <td>(37.775420706711, -122.403404791479)</td>\n",
       "    </tr>\n",
       "    <tr>\n",
       "      <th>166004914</th>\n",
       "      <td>VANDALISM</td>\n",
       "      <td>MALICIOUS MISCHIEF, VANDALISM</td>\n",
       "      <td>Thursday</td>\n",
       "      <td>12/31/2015</td>\n",
       "      <td>23:55</td>\n",
       "      <td>SOUTHERN</td>\n",
       "      <td>NONE</td>\n",
       "      <td>1100 Block of MISSION ST</td>\n",
       "      <td>-122.411626</td>\n",
       "      <td>37.778590</td>\n",
       "      <td>(37.7785895740312, -122.411626152299)</td>\n",
       "    </tr>\n",
       "    <tr>\n",
       "      <th>160000095</th>\n",
       "      <td>ASSAULT</td>\n",
       "      <td>INFLICT INJURY ON COHABITEE</td>\n",
       "      <td>Thursday</td>\n",
       "      <td>12/31/2015</td>\n",
       "      <td>23:54</td>\n",
       "      <td>INGLESIDE</td>\n",
       "      <td>ARREST, BOOKED</td>\n",
       "      <td>0 Block of LELAND AV</td>\n",
       "      <td>-122.404263</td>\n",
       "      <td>37.711339</td>\n",
       "      <td>(37.7113387848327, -122.404262861765)</td>\n",
       "    </tr>\n",
       "    <tr>\n",
       "      <th>160038137</th>\n",
       "      <td>OTHER OFFENSES</td>\n",
       "      <td>VIOLATION OF RESTRAINING ORDER</td>\n",
       "      <td>Thursday</td>\n",
       "      <td>12/31/2015</td>\n",
       "      <td>23:51</td>\n",
       "      <td>INGLESIDE</td>\n",
       "      <td>NONE</td>\n",
       "      <td>200 Block of BLYTHDALE AV</td>\n",
       "      <td>-122.420557</td>\n",
       "      <td>37.710895</td>\n",
       "      <td>(37.7108945814914, -122.420556751442)</td>\n",
       "    </tr>\n",
       "    <tr>\n",
       "      <th>166002930</th>\n",
       "      <td>NON-CRIMINAL</td>\n",
       "      <td>LOST PROPERTY</td>\n",
       "      <td>Thursday</td>\n",
       "      <td>12/31/2015</td>\n",
       "      <td>23:50</td>\n",
       "      <td>CENTRAL</td>\n",
       "      <td>NONE</td>\n",
       "      <td>800 Block of POST ST</td>\n",
       "      <td>-122.415844</td>\n",
       "      <td>37.787402</td>\n",
       "      <td>(37.7874017655636, -122.41584375719)</td>\n",
       "    </tr>\n",
       "  </tbody>\n",
       "</table>\n",
       "</div>"
      ],
      "text/plain": [
       "                  Category                        Descript DayOfWeek  \\\n",
       "IncidntNum                                                             \n",
       "160000108          ASSAULT                         BATTERY  Thursday   \n",
       "166004914        VANDALISM   MALICIOUS MISCHIEF, VANDALISM  Thursday   \n",
       "160000095          ASSAULT     INFLICT INJURY ON COHABITEE  Thursday   \n",
       "160038137   OTHER OFFENSES  VIOLATION OF RESTRAINING ORDER  Thursday   \n",
       "166002930     NON-CRIMINAL                   LOST PROPERTY  Thursday   \n",
       "\n",
       "                  Date   Time PdDistrict      Resolution  \\\n",
       "IncidntNum                                                 \n",
       "160000108   12/31/2015  23:58   SOUTHERN  ARREST, BOOKED   \n",
       "166004914   12/31/2015  23:55   SOUTHERN            NONE   \n",
       "160000095   12/31/2015  23:54  INGLESIDE  ARREST, BOOKED   \n",
       "160038137   12/31/2015  23:51  INGLESIDE            NONE   \n",
       "166002930   12/31/2015  23:50    CENTRAL            NONE   \n",
       "\n",
       "                              Address           X          Y  \\\n",
       "IncidntNum                                                     \n",
       "160000108      800 Block of BRYANT ST -122.403405  37.775421   \n",
       "166004914    1100 Block of MISSION ST -122.411626  37.778590   \n",
       "160000095        0 Block of LELAND AV -122.404263  37.711339   \n",
       "160038137   200 Block of BLYTHDALE AV -122.420557  37.710895   \n",
       "166002930        800 Block of POST ST -122.415844  37.787402   \n",
       "\n",
       "                                         Location  \n",
       "IncidntNum                                         \n",
       "160000108    (37.775420706711, -122.403404791479)  \n",
       "166004914   (37.7785895740312, -122.411626152299)  \n",
       "160000095   (37.7113387848327, -122.404262861765)  \n",
       "160038137   (37.7108945814914, -122.420556751442)  \n",
       "166002930    (37.7874017655636, -122.41584375719)  "
      ]
     },
     "execution_count": 8,
     "metadata": {},
     "output_type": "execute_result"
    }
   ],
   "source": [
    "data.head()"
   ]
  },
  {
   "cell_type": "code",
   "execution_count": 9,
   "metadata": {
    "collapsed": false,
    "scrolled": true
   },
   "outputs": [
    {
     "name": "stdout",
     "output_type": "stream",
     "text": [
      "01/01/2015\n",
      "12/31/2015\n"
     ]
    }
   ],
   "source": [
    "print min(data['Date'])\n",
    "print max(data['Date'])"
   ]
  },
  {
   "cell_type": "code",
   "execution_count": 10,
   "metadata": {
    "collapsed": false
   },
   "outputs": [
    {
     "data": {
      "text/plain": [
       "array(['SOUTHERN', 'INGLESIDE', 'CENTRAL', 'BAYVIEW', 'PARK', 'NORTHERN',\n",
       "       'MISSION', 'TENDERLOIN', 'TARAVAL', 'RICHMOND'], dtype=object)"
      ]
     },
     "execution_count": 10,
     "metadata": {},
     "output_type": "execute_result"
    }
   ],
   "source": [
    "data['PdDistrict'].unique()"
   ]
  },
  {
   "cell_type": "code",
   "execution_count": 11,
   "metadata": {
    "collapsed": false
   },
   "outputs": [
    {
     "data": {
      "text/plain": [
       "array(['ASSAULT', 'VANDALISM', 'OTHER OFFENSES', 'NON-CRIMINAL',\n",
       "       'LARCENY/THEFT', 'VEHICLE THEFT', 'BURGLARY', 'ROBBERY', 'WARRANTS',\n",
       "       'SUSPICIOUS OCC', 'WEAPON LAWS', 'DRUNKENNESS', 'TRESPASS',\n",
       "       'FORGERY/COUNTERFEITING', 'DRUG/NARCOTIC', 'MISSING PERSON',\n",
       "       'SECONDARY CODES', 'FRAUD', 'EMBEZZLEMENT',\n",
       "       'SEX OFFENSES, FORCIBLE', 'BRIBERY', 'STOLEN PROPERTY',\n",
       "       'DISORDERLY CONDUCT', 'ARSON', 'FAMILY OFFENSES', 'RUNAWAY',\n",
       "       'DRIVING UNDER THE INFLUENCE', 'KIDNAPPING', 'PROSTITUTION',\n",
       "       'SUICIDE', 'LIQUOR LAWS', 'EXTORTION', 'GAMBLING', 'BAD CHECKS',\n",
       "       'SEX OFFENSES, NON FORCIBLE', 'LOITERING',\n",
       "       'PORNOGRAPHY/OBSCENE MAT', 'TREA'], dtype=object)"
      ]
     },
     "execution_count": 11,
     "metadata": {},
     "output_type": "execute_result"
    }
   ],
   "source": [
    "data['Category'].unique()"
   ]
  },
  {
   "cell_type": "code",
   "execution_count": 12,
   "metadata": {
    "collapsed": false,
    "scrolled": true
   },
   "outputs": [
    {
     "data": {
      "text/html": [
       "<div>\n",
       "<table border=\"1\" class=\"dataframe\">\n",
       "  <thead>\n",
       "    <tr style=\"text-align: right;\">\n",
       "      <th></th>\n",
       "      <th>Category</th>\n",
       "      <th>Descript</th>\n",
       "      <th>DayOfWeek</th>\n",
       "      <th>Date</th>\n",
       "      <th>Time</th>\n",
       "      <th>PdDistrict</th>\n",
       "      <th>Resolution</th>\n",
       "      <th>Address</th>\n",
       "      <th>X</th>\n",
       "      <th>Y</th>\n",
       "      <th>Location</th>\n",
       "    </tr>\n",
       "    <tr>\n",
       "      <th>IncidntNum</th>\n",
       "      <th></th>\n",
       "      <th></th>\n",
       "      <th></th>\n",
       "      <th></th>\n",
       "      <th></th>\n",
       "      <th></th>\n",
       "      <th></th>\n",
       "      <th></th>\n",
       "      <th></th>\n",
       "      <th></th>\n",
       "      <th></th>\n",
       "    </tr>\n",
       "  </thead>\n",
       "  <tbody>\n",
       "    <tr>\n",
       "      <th>160000108</th>\n",
       "      <td>ASSAULT</td>\n",
       "      <td>BATTERY</td>\n",
       "      <td>Thursday</td>\n",
       "      <td>12/31/2015</td>\n",
       "      <td>23:58</td>\n",
       "      <td>SOUTHERN</td>\n",
       "      <td>ARREST, BOOKED</td>\n",
       "      <td>800 Block of BRYANT ST</td>\n",
       "      <td>-122.403405</td>\n",
       "      <td>37.775421</td>\n",
       "      <td>(37.775420706711, -122.403404791479)</td>\n",
       "    </tr>\n",
       "    <tr>\n",
       "      <th>166004914</th>\n",
       "      <td>VANDALISM</td>\n",
       "      <td>MALICIOUS MISCHIEF, VANDALISM</td>\n",
       "      <td>Thursday</td>\n",
       "      <td>12/31/2015</td>\n",
       "      <td>23:55</td>\n",
       "      <td>SOUTHERN</td>\n",
       "      <td>NONE</td>\n",
       "      <td>1100 Block of MISSION ST</td>\n",
       "      <td>-122.411626</td>\n",
       "      <td>37.778590</td>\n",
       "      <td>(37.7785895740312, -122.411626152299)</td>\n",
       "    </tr>\n",
       "    <tr>\n",
       "      <th>160000095</th>\n",
       "      <td>ASSAULT</td>\n",
       "      <td>INFLICT INJURY ON COHABITEE</td>\n",
       "      <td>Thursday</td>\n",
       "      <td>12/31/2015</td>\n",
       "      <td>23:54</td>\n",
       "      <td>INGLESIDE</td>\n",
       "      <td>ARREST, BOOKED</td>\n",
       "      <td>0 Block of LELAND AV</td>\n",
       "      <td>-122.404263</td>\n",
       "      <td>37.711339</td>\n",
       "      <td>(37.7113387848327, -122.404262861765)</td>\n",
       "    </tr>\n",
       "    <tr>\n",
       "      <th>160038137</th>\n",
       "      <td>OTHER OFFENSES</td>\n",
       "      <td>VIOLATION OF RESTRAINING ORDER</td>\n",
       "      <td>Thursday</td>\n",
       "      <td>12/31/2015</td>\n",
       "      <td>23:51</td>\n",
       "      <td>INGLESIDE</td>\n",
       "      <td>NONE</td>\n",
       "      <td>200 Block of BLYTHDALE AV</td>\n",
       "      <td>-122.420557</td>\n",
       "      <td>37.710895</td>\n",
       "      <td>(37.7108945814914, -122.420556751442)</td>\n",
       "    </tr>\n",
       "    <tr>\n",
       "      <th>166002930</th>\n",
       "      <td>NON-CRIMINAL</td>\n",
       "      <td>LOST PROPERTY</td>\n",
       "      <td>Thursday</td>\n",
       "      <td>12/31/2015</td>\n",
       "      <td>23:50</td>\n",
       "      <td>CENTRAL</td>\n",
       "      <td>NONE</td>\n",
       "      <td>800 Block of POST ST</td>\n",
       "      <td>-122.415844</td>\n",
       "      <td>37.787402</td>\n",
       "      <td>(37.7874017655636, -122.41584375719)</td>\n",
       "    </tr>\n",
       "  </tbody>\n",
       "</table>\n",
       "</div>"
      ],
      "text/plain": [
       "                  Category                        Descript DayOfWeek  \\\n",
       "IncidntNum                                                             \n",
       "160000108          ASSAULT                         BATTERY  Thursday   \n",
       "166004914        VANDALISM   MALICIOUS MISCHIEF, VANDALISM  Thursday   \n",
       "160000095          ASSAULT     INFLICT INJURY ON COHABITEE  Thursday   \n",
       "160038137   OTHER OFFENSES  VIOLATION OF RESTRAINING ORDER  Thursday   \n",
       "166002930     NON-CRIMINAL                   LOST PROPERTY  Thursday   \n",
       "\n",
       "                  Date   Time PdDistrict      Resolution  \\\n",
       "IncidntNum                                                 \n",
       "160000108   12/31/2015  23:58   SOUTHERN  ARREST, BOOKED   \n",
       "166004914   12/31/2015  23:55   SOUTHERN            NONE   \n",
       "160000095   12/31/2015  23:54  INGLESIDE  ARREST, BOOKED   \n",
       "160038137   12/31/2015  23:51  INGLESIDE            NONE   \n",
       "166002930   12/31/2015  23:50    CENTRAL            NONE   \n",
       "\n",
       "                              Address           X          Y  \\\n",
       "IncidntNum                                                     \n",
       "160000108      800 Block of BRYANT ST -122.403405  37.775421   \n",
       "166004914    1100 Block of MISSION ST -122.411626  37.778590   \n",
       "160000095        0 Block of LELAND AV -122.404263  37.711339   \n",
       "160038137   200 Block of BLYTHDALE AV -122.420557  37.710895   \n",
       "166002930        800 Block of POST ST -122.415844  37.787402   \n",
       "\n",
       "                                         Location  \n",
       "IncidntNum                                         \n",
       "160000108    (37.775420706711, -122.403404791479)  \n",
       "166004914   (37.7785895740312, -122.411626152299)  \n",
       "160000095   (37.7113387848327, -122.404262861765)  \n",
       "160038137   (37.7108945814914, -122.420556751442)  \n",
       "166002930    (37.7874017655636, -122.41584375719)  "
      ]
     },
     "execution_count": 12,
     "metadata": {},
     "output_type": "execute_result"
    }
   ],
   "source": [
    "data.head()"
   ]
  },
  {
   "cell_type": "code",
   "execution_count": 13,
   "metadata": {
    "collapsed": false
   },
   "outputs": [
    {
     "data": {
      "text/plain": [
       "array(['ARREST, BOOKED', 'NONE', 'UNFOUNDED', 'ARREST, CITED',\n",
       "       'JUVENILE BOOKED', 'EXCEPTIONAL CLEARANCE', 'PSYCHOPATHIC CASE',\n",
       "       'NOT PROSECUTED', 'LOCATED',\n",
       "       'CLEARED-CONTACT JUVENILE FOR MORE INFO', 'JUVENILE DIVERTED',\n",
       "       'JUVENILE CITED', 'COMPLAINANT REFUSES TO PROSECUTE',\n",
       "       'JUVENILE ADMONISHED'], dtype=object)"
      ]
     },
     "execution_count": 13,
     "metadata": {},
     "output_type": "execute_result"
    }
   ],
   "source": [
    "data['Resolution'].unique()"
   ]
  },
  {
   "cell_type": "code",
   "execution_count": 14,
   "metadata": {
    "collapsed": false
   },
   "outputs": [],
   "source": [
    "data = data.replace(to_replace=\"ARREST, BOOKED\", value=1)\n",
    "data = data.replace(to_replace=\"ARREST, CITED\", value=1)\n",
    "data = data.replace(to_replace=\"NONE\", value=0)\n",
    "data = data.replace(to_replace=\"UNFOUNDED\", value=0)\n",
    "data = data.replace(to_replace=\"JUVENILE BOOKED\", value=0)\n",
    "data = data.replace(to_replace=\"EXCEPTIONAL CLEARANCE\", value=0)\n",
    "data = data.replace(to_replace=\"PSYCHOPATHIC CASE\", value=0)\n",
    "data = data.replace(to_replace=\"NOT PROSECUTED\", value=0)\n",
    "data = data.replace(to_replace=\"LOCATED\", value=0)\n",
    "data = data.replace(to_replace=\"CLEARED-CONTACT JUVENILE FOR MORE INFO\", value=0)\n",
    "data = data.replace(to_replace=\"COMPLAINANT REFUSES TO PROSECUTE\", value=0)\n",
    "data = data.replace(to_replace=\"JUVENILE ADMONISHED\", value=0)\n",
    "data = data.replace(to_replace=\"JUVENILE DIVERTED\", value=0)\n",
    "data = data.replace(to_replace=\"JUVENILE CITED\", value=0)\n"
   ]
  },
  {
   "cell_type": "markdown",
   "metadata": {},
   "source": [
    "*** Remove a \"Address\" To samplifier***"
   ]
  },
  {
   "cell_type": "code",
   "execution_count": 15,
   "metadata": {
    "collapsed": false
   },
   "outputs": [],
   "source": [
    "data = data.drop('Address', 1)\n",
    "data = data.drop('Location', 1)\n"
   ]
  },
  {
   "cell_type": "code",
   "execution_count": 16,
   "metadata": {
    "collapsed": false
   },
   "outputs": [
    {
     "data": {
      "text/html": [
       "<div>\n",
       "<table border=\"1\" class=\"dataframe\">\n",
       "  <thead>\n",
       "    <tr style=\"text-align: right;\">\n",
       "      <th></th>\n",
       "      <th>Category</th>\n",
       "      <th>Descript</th>\n",
       "      <th>DayOfWeek</th>\n",
       "      <th>Date</th>\n",
       "      <th>Time</th>\n",
       "      <th>PdDistrict</th>\n",
       "      <th>Resolution</th>\n",
       "      <th>X</th>\n",
       "      <th>Y</th>\n",
       "    </tr>\n",
       "    <tr>\n",
       "      <th>IncidntNum</th>\n",
       "      <th></th>\n",
       "      <th></th>\n",
       "      <th></th>\n",
       "      <th></th>\n",
       "      <th></th>\n",
       "      <th></th>\n",
       "      <th></th>\n",
       "      <th></th>\n",
       "      <th></th>\n",
       "    </tr>\n",
       "  </thead>\n",
       "  <tbody>\n",
       "    <tr>\n",
       "      <th>160000108</th>\n",
       "      <td>ASSAULT</td>\n",
       "      <td>BATTERY</td>\n",
       "      <td>Thursday</td>\n",
       "      <td>12/31/2015</td>\n",
       "      <td>23:58</td>\n",
       "      <td>SOUTHERN</td>\n",
       "      <td>1</td>\n",
       "      <td>-122.403405</td>\n",
       "      <td>37.775421</td>\n",
       "    </tr>\n",
       "    <tr>\n",
       "      <th>166004914</th>\n",
       "      <td>VANDALISM</td>\n",
       "      <td>MALICIOUS MISCHIEF, VANDALISM</td>\n",
       "      <td>Thursday</td>\n",
       "      <td>12/31/2015</td>\n",
       "      <td>23:55</td>\n",
       "      <td>SOUTHERN</td>\n",
       "      <td>0</td>\n",
       "      <td>-122.411626</td>\n",
       "      <td>37.778590</td>\n",
       "    </tr>\n",
       "    <tr>\n",
       "      <th>160000095</th>\n",
       "      <td>ASSAULT</td>\n",
       "      <td>INFLICT INJURY ON COHABITEE</td>\n",
       "      <td>Thursday</td>\n",
       "      <td>12/31/2015</td>\n",
       "      <td>23:54</td>\n",
       "      <td>INGLESIDE</td>\n",
       "      <td>1</td>\n",
       "      <td>-122.404263</td>\n",
       "      <td>37.711339</td>\n",
       "    </tr>\n",
       "    <tr>\n",
       "      <th>160038137</th>\n",
       "      <td>OTHER OFFENSES</td>\n",
       "      <td>VIOLATION OF RESTRAINING ORDER</td>\n",
       "      <td>Thursday</td>\n",
       "      <td>12/31/2015</td>\n",
       "      <td>23:51</td>\n",
       "      <td>INGLESIDE</td>\n",
       "      <td>0</td>\n",
       "      <td>-122.420557</td>\n",
       "      <td>37.710895</td>\n",
       "    </tr>\n",
       "    <tr>\n",
       "      <th>166002930</th>\n",
       "      <td>NON-CRIMINAL</td>\n",
       "      <td>LOST PROPERTY</td>\n",
       "      <td>Thursday</td>\n",
       "      <td>12/31/2015</td>\n",
       "      <td>23:50</td>\n",
       "      <td>CENTRAL</td>\n",
       "      <td>0</td>\n",
       "      <td>-122.415844</td>\n",
       "      <td>37.787402</td>\n",
       "    </tr>\n",
       "  </tbody>\n",
       "</table>\n",
       "</div>"
      ],
      "text/plain": [
       "                  Category                        Descript DayOfWeek  \\\n",
       "IncidntNum                                                             \n",
       "160000108          ASSAULT                         BATTERY  Thursday   \n",
       "166004914        VANDALISM   MALICIOUS MISCHIEF, VANDALISM  Thursday   \n",
       "160000095          ASSAULT     INFLICT INJURY ON COHABITEE  Thursday   \n",
       "160038137   OTHER OFFENSES  VIOLATION OF RESTRAINING ORDER  Thursday   \n",
       "166002930     NON-CRIMINAL                   LOST PROPERTY  Thursday   \n",
       "\n",
       "                  Date   Time PdDistrict  Resolution           X          Y  \n",
       "IncidntNum                                                                   \n",
       "160000108   12/31/2015  23:58   SOUTHERN           1 -122.403405  37.775421  \n",
       "166004914   12/31/2015  23:55   SOUTHERN           0 -122.411626  37.778590  \n",
       "160000095   12/31/2015  23:54  INGLESIDE           1 -122.404263  37.711339  \n",
       "160038137   12/31/2015  23:51  INGLESIDE           0 -122.420557  37.710895  \n",
       "166002930   12/31/2015  23:50    CENTRAL           0 -122.415844  37.787402  "
      ]
     },
     "execution_count": 16,
     "metadata": {},
     "output_type": "execute_result"
    }
   ],
   "source": [
    "data.head()"
   ]
  },
  {
   "cell_type": "code",
   "execution_count": 17,
   "metadata": {
    "collapsed": false
   },
   "outputs": [
    {
     "data": {
      "text/plain": [
       "Category       object\n",
       "Descript       object\n",
       "DayOfWeek      object\n",
       "Date           object\n",
       "Time           object\n",
       "PdDistrict     object\n",
       "Resolution      int64\n",
       "X             float64\n",
       "Y             float64\n",
       "dtype: object"
      ]
     },
     "execution_count": 17,
     "metadata": {},
     "output_type": "execute_result"
    }
   ],
   "source": [
    "data.dtypes"
   ]
  },
  {
   "cell_type": "markdown",
   "metadata": {
    "collapsed": false
   },
   "source": [
    "*** Replace a San f PdDistrict with Gotham city district *** (<a>https://en.wikipedia.org/wiki/Gotham_City</a>)"
   ]
  },
  {
   "cell_type": "code",
   "execution_count": 18,
   "metadata": {
    "collapsed": false
   },
   "outputs": [
    {
     "data": {
      "text/plain": [
       "array(['SOUTHERN', 'INGLESIDE', 'CENTRAL', 'BAYVIEW', 'PARK', 'NORTHERN',\n",
       "       'MISSION', 'TENDERLOIN', 'TARAVAL', 'RICHMOND'], dtype=object)"
      ]
     },
     "execution_count": 18,
     "metadata": {},
     "output_type": "execute_result"
    }
   ],
   "source": [
    "data['PdDistrict'].unique()"
   ]
  },
  {
   "cell_type": "code",
   "execution_count": 19,
   "metadata": {
    "collapsed": true
   },
   "outputs": [],
   "source": [
    "data = data.replace(to_replace=\"SOUTHERN\", value=\"Otisburg\")\n",
    "data = data.replace(to_replace=\"INGLESIDE\", value=\"Burnley\")\n",
    "data = data.replace(to_replace=\"CENTRAL\", value=\"East End\")\n",
    "data = data.replace(to_replace=\"BAYVIEW\", value=\"Old Gotham\")\n",
    "data = data.replace(to_replace=\"PARK\", value=\"Robinson Park\")\n",
    "data = data.replace(to_replace=\"NORTHERN\", value=\"Chinatown\")\n",
    "data = data.replace(to_replace=\"MISSION\", value=\"Bristol County\")\n",
    "data = data.replace(to_replace=\"TENDERLOIN\", value=\"The Bowery\")\n",
    "data = data.replace(to_replace=\"TARAVAL\", value=\"Diamond\")\n",
    "data = data.replace(to_replace=\"RICHMOND\", value=\"Falcone Penthouse\")"
   ]
  },
  {
   "cell_type": "code",
   "execution_count": 20,
   "metadata": {
    "collapsed": false
   },
   "outputs": [
    {
     "data": {
      "text/html": [
       "<div>\n",
       "<table border=\"1\" class=\"dataframe\">\n",
       "  <thead>\n",
       "    <tr style=\"text-align: right;\">\n",
       "      <th></th>\n",
       "      <th>IncidntNum</th>\n",
       "      <th>Category</th>\n",
       "      <th>Descript</th>\n",
       "      <th>DayOfWeek</th>\n",
       "      <th>Date</th>\n",
       "      <th>Time</th>\n",
       "      <th>PdDistrict</th>\n",
       "      <th>Resolution</th>\n",
       "      <th>X</th>\n",
       "      <th>Y</th>\n",
       "    </tr>\n",
       "  </thead>\n",
       "  <tbody>\n",
       "    <tr>\n",
       "      <th>0</th>\n",
       "      <td>160000108</td>\n",
       "      <td>ASSAULT</td>\n",
       "      <td>BATTERY</td>\n",
       "      <td>Thursday</td>\n",
       "      <td>12/31/2015</td>\n",
       "      <td>23:58</td>\n",
       "      <td>Otisburg</td>\n",
       "      <td>1</td>\n",
       "      <td>-122.403405</td>\n",
       "      <td>37.775421</td>\n",
       "    </tr>\n",
       "    <tr>\n",
       "      <th>1</th>\n",
       "      <td>166004914</td>\n",
       "      <td>VANDALISM</td>\n",
       "      <td>MALICIOUS MISCHIEF, VANDALISM</td>\n",
       "      <td>Thursday</td>\n",
       "      <td>12/31/2015</td>\n",
       "      <td>23:55</td>\n",
       "      <td>Otisburg</td>\n",
       "      <td>0</td>\n",
       "      <td>-122.411626</td>\n",
       "      <td>37.778590</td>\n",
       "    </tr>\n",
       "    <tr>\n",
       "      <th>2</th>\n",
       "      <td>160000095</td>\n",
       "      <td>ASSAULT</td>\n",
       "      <td>INFLICT INJURY ON COHABITEE</td>\n",
       "      <td>Thursday</td>\n",
       "      <td>12/31/2015</td>\n",
       "      <td>23:54</td>\n",
       "      <td>Burnley</td>\n",
       "      <td>1</td>\n",
       "      <td>-122.404263</td>\n",
       "      <td>37.711339</td>\n",
       "    </tr>\n",
       "    <tr>\n",
       "      <th>3</th>\n",
       "      <td>160038137</td>\n",
       "      <td>OTHER OFFENSES</td>\n",
       "      <td>VIOLATION OF RESTRAINING ORDER</td>\n",
       "      <td>Thursday</td>\n",
       "      <td>12/31/2015</td>\n",
       "      <td>23:51</td>\n",
       "      <td>Burnley</td>\n",
       "      <td>0</td>\n",
       "      <td>-122.420557</td>\n",
       "      <td>37.710895</td>\n",
       "    </tr>\n",
       "    <tr>\n",
       "      <th>4</th>\n",
       "      <td>166002930</td>\n",
       "      <td>NON-CRIMINAL</td>\n",
       "      <td>LOST PROPERTY</td>\n",
       "      <td>Thursday</td>\n",
       "      <td>12/31/2015</td>\n",
       "      <td>23:50</td>\n",
       "      <td>East End</td>\n",
       "      <td>0</td>\n",
       "      <td>-122.415844</td>\n",
       "      <td>37.787402</td>\n",
       "    </tr>\n",
       "  </tbody>\n",
       "</table>\n",
       "</div>"
      ],
      "text/plain": [
       "   IncidntNum        Category                        Descript DayOfWeek  \\\n",
       "0   160000108         ASSAULT                         BATTERY  Thursday   \n",
       "1   166004914       VANDALISM   MALICIOUS MISCHIEF, VANDALISM  Thursday   \n",
       "2   160000095         ASSAULT     INFLICT INJURY ON COHABITEE  Thursday   \n",
       "3   160038137  OTHER OFFENSES  VIOLATION OF RESTRAINING ORDER  Thursday   \n",
       "4   166002930    NON-CRIMINAL                   LOST PROPERTY  Thursday   \n",
       "\n",
       "         Date   Time PdDistrict  Resolution           X          Y  \n",
       "0  12/31/2015  23:58   Otisburg           1 -122.403405  37.775421  \n",
       "1  12/31/2015  23:55   Otisburg           0 -122.411626  37.778590  \n",
       "2  12/31/2015  23:54    Burnley           1 -122.404263  37.711339  \n",
       "3  12/31/2015  23:51    Burnley           0 -122.420557  37.710895  \n",
       "4  12/31/2015  23:50   East End           0 -122.415844  37.787402  "
      ]
     },
     "execution_count": 20,
     "metadata": {},
     "output_type": "execute_result"
    }
   ],
   "source": [
    "data = data.reset_index()\n",
    "data.head()\n"
   ]
  },
  {
   "cell_type": "markdown",
   "metadata": {},
   "source": [
    "# Save a new data "
   ]
  },
  {
   "cell_type": "code",
   "execution_count": null,
   "metadata": {
    "collapsed": true
   },
   "outputs": [],
   "source": []
  },
  {
   "cell_type": "code",
   "execution_count": 21,
   "metadata": {
    "collapsed": false
   },
   "outputs": [],
   "source": [
    "data.to_csv('data/data_set.csv')"
   ]
  },
  {
   "cell_type": "code",
   "execution_count": 34,
   "metadata": {
    "collapsed": false
   },
   "outputs": [
    {
     "data": {
      "text/html": [
       "<div>\n",
       "<table border=\"1\" class=\"dataframe\">\n",
       "  <thead>\n",
       "    <tr style=\"text-align: right;\">\n",
       "      <th></th>\n",
       "      <th>IncidntNum</th>\n",
       "      <th>Category</th>\n",
       "      <th>Descript</th>\n",
       "      <th>DayOfWeek</th>\n",
       "      <th>Date</th>\n",
       "      <th>Time</th>\n",
       "      <th>PdDistrict</th>\n",
       "      <th>Resolution</th>\n",
       "      <th>X</th>\n",
       "      <th>Y</th>\n",
       "    </tr>\n",
       "  </thead>\n",
       "  <tbody>\n",
       "    <tr>\n",
       "      <th>0</th>\n",
       "      <td>160000108</td>\n",
       "      <td>ASSAULT</td>\n",
       "      <td>BATTERY</td>\n",
       "      <td>Thursday</td>\n",
       "      <td>12/31/2015</td>\n",
       "      <td>23:58</td>\n",
       "      <td>Otisburg</td>\n",
       "      <td>1</td>\n",
       "      <td>-122.403405</td>\n",
       "      <td>37.775421</td>\n",
       "    </tr>\n",
       "    <tr>\n",
       "      <th>1</th>\n",
       "      <td>166004914</td>\n",
       "      <td>VANDALISM</td>\n",
       "      <td>MALICIOUS MISCHIEF, VANDALISM</td>\n",
       "      <td>Thursday</td>\n",
       "      <td>12/31/2015</td>\n",
       "      <td>23:55</td>\n",
       "      <td>Otisburg</td>\n",
       "      <td>0</td>\n",
       "      <td>-122.411626</td>\n",
       "      <td>37.778590</td>\n",
       "    </tr>\n",
       "    <tr>\n",
       "      <th>2</th>\n",
       "      <td>160000095</td>\n",
       "      <td>ASSAULT</td>\n",
       "      <td>INFLICT INJURY ON COHABITEE</td>\n",
       "      <td>Thursday</td>\n",
       "      <td>12/31/2015</td>\n",
       "      <td>23:54</td>\n",
       "      <td>Burnley</td>\n",
       "      <td>1</td>\n",
       "      <td>-122.404263</td>\n",
       "      <td>37.711339</td>\n",
       "    </tr>\n",
       "    <tr>\n",
       "      <th>3</th>\n",
       "      <td>160038137</td>\n",
       "      <td>OTHER OFFENSES</td>\n",
       "      <td>VIOLATION OF RESTRAINING ORDER</td>\n",
       "      <td>Thursday</td>\n",
       "      <td>12/31/2015</td>\n",
       "      <td>23:51</td>\n",
       "      <td>Burnley</td>\n",
       "      <td>0</td>\n",
       "      <td>-122.420557</td>\n",
       "      <td>37.710895</td>\n",
       "    </tr>\n",
       "    <tr>\n",
       "      <th>4</th>\n",
       "      <td>166002930</td>\n",
       "      <td>NON-CRIMINAL</td>\n",
       "      <td>LOST PROPERTY</td>\n",
       "      <td>Thursday</td>\n",
       "      <td>12/31/2015</td>\n",
       "      <td>23:50</td>\n",
       "      <td>East End</td>\n",
       "      <td>0</td>\n",
       "      <td>-122.415844</td>\n",
       "      <td>37.787402</td>\n",
       "    </tr>\n",
       "  </tbody>\n",
       "</table>\n",
       "</div>"
      ],
      "text/plain": [
       "   IncidntNum        Category                        Descript DayOfWeek  \\\n",
       "0   160000108         ASSAULT                         BATTERY  Thursday   \n",
       "1   166004914       VANDALISM   MALICIOUS MISCHIEF, VANDALISM  Thursday   \n",
       "2   160000095         ASSAULT     INFLICT INJURY ON COHABITEE  Thursday   \n",
       "3   160038137  OTHER OFFENSES  VIOLATION OF RESTRAINING ORDER  Thursday   \n",
       "4   166002930    NON-CRIMINAL                   LOST PROPERTY  Thursday   \n",
       "\n",
       "         Date   Time PdDistrict  Resolution           X          Y  \n",
       "0  12/31/2015  23:58   Otisburg           1 -122.403405  37.775421  \n",
       "1  12/31/2015  23:55   Otisburg           0 -122.411626  37.778590  \n",
       "2  12/31/2015  23:54    Burnley           1 -122.404263  37.711339  \n",
       "3  12/31/2015  23:51    Burnley           0 -122.420557  37.710895  \n",
       "4  12/31/2015  23:50   East End           0 -122.415844  37.787402  "
      ]
     },
     "execution_count": 34,
     "metadata": {},
     "output_type": "execute_result"
    }
   ],
   "source": [
    "data.head()"
   ]
  },
  {
   "cell_type": "markdown",
   "metadata": {},
   "source": [
    "### Split data\n"
   ]
  },
  {
   "cell_type": "code",
   "execution_count": 65,
   "metadata": {
    "collapsed": false
   },
   "outputs": [
    {
     "name": "stdout",
     "output_type": "stream",
     "text": [
      "(153618,)\n"
     ]
    },
    {
     "ename": "KeyError",
     "evalue": "90048",
     "output_type": "error",
     "traceback": [
      "\u001b[0;31m---------------------------------------------------------------------------\u001b[0m",
      "\u001b[0;31mKeyError\u001b[0m                                  Traceback (most recent call last)",
      "\u001b[0;32m<ipython-input-65-7dd79afe7101>\u001b[0m in \u001b[0;36m<module>\u001b[0;34m()\u001b[0m\n\u001b[1;32m      5\u001b[0m \u001b[0mskf\u001b[0m \u001b[0;34m=\u001b[0m \u001b[0mlist\u001b[0m\u001b[0;34m(\u001b[0m\u001b[0mShuffleSplit\u001b[0m\u001b[0;34m(\u001b[0m\u001b[0ma\u001b[0m\u001b[0;34m[\u001b[0m\u001b[0;36m0\u001b[0m\u001b[0;34m]\u001b[0m\u001b[0;34m,\u001b[0m\u001b[0mtest_size\u001b[0m\u001b[0;34m=\u001b[0m\u001b[0;36m0.5\u001b[0m\u001b[0;34m,\u001b[0m\u001b[0mrandom_state\u001b[0m\u001b[0;34m=\u001b[0m\u001b[0;36m17\u001b[0m\u001b[0;34m)\u001b[0m\u001b[0;34m)\u001b[0m\u001b[0;34m[\u001b[0m\u001b[0;36m0\u001b[0m\u001b[0;34m]\u001b[0m\u001b[0;34m\u001b[0m\u001b[0m\n\u001b[1;32m      6\u001b[0m \u001b[0ml\u001b[0m\u001b[0;34m,\u001b[0m\u001b[0m_\u001b[0m \u001b[0;34m=\u001b[0m \u001b[0mskf\u001b[0m\u001b[0;34m\u001b[0m\u001b[0m\n\u001b[0;32m----> 7\u001b[0;31m \u001b[0md\u001b[0m \u001b[0;34m=\u001b[0m \u001b[0;34m[\u001b[0m\u001b[0mdata\u001b[0m\u001b[0;34m[\u001b[0m\u001b[0mi\u001b[0m\u001b[0;34m]\u001b[0m \u001b[0;32mfor\u001b[0m \u001b[0mi\u001b[0m \u001b[0;32min\u001b[0m \u001b[0ml\u001b[0m\u001b[0;34m]\u001b[0m\u001b[0;34m\u001b[0m\u001b[0m\n\u001b[0m",
      "\u001b[0;32m/Users/azougarm/anaconda/lib/python2.7/site-packages/pandas/core/frame.pyc\u001b[0m in \u001b[0;36m__getitem__\u001b[0;34m(self, key)\u001b[0m\n\u001b[1;32m   1967\u001b[0m             \u001b[0;32mreturn\u001b[0m \u001b[0mself\u001b[0m\u001b[0;34m.\u001b[0m\u001b[0m_getitem_multilevel\u001b[0m\u001b[0;34m(\u001b[0m\u001b[0mkey\u001b[0m\u001b[0;34m)\u001b[0m\u001b[0;34m\u001b[0m\u001b[0m\n\u001b[1;32m   1968\u001b[0m         \u001b[0;32melse\u001b[0m\u001b[0;34m:\u001b[0m\u001b[0;34m\u001b[0m\u001b[0m\n\u001b[0;32m-> 1969\u001b[0;31m             \u001b[0;32mreturn\u001b[0m \u001b[0mself\u001b[0m\u001b[0;34m.\u001b[0m\u001b[0m_getitem_column\u001b[0m\u001b[0;34m(\u001b[0m\u001b[0mkey\u001b[0m\u001b[0;34m)\u001b[0m\u001b[0;34m\u001b[0m\u001b[0m\n\u001b[0m\u001b[1;32m   1970\u001b[0m \u001b[0;34m\u001b[0m\u001b[0m\n\u001b[1;32m   1971\u001b[0m     \u001b[0;32mdef\u001b[0m \u001b[0m_getitem_column\u001b[0m\u001b[0;34m(\u001b[0m\u001b[0mself\u001b[0m\u001b[0;34m,\u001b[0m \u001b[0mkey\u001b[0m\u001b[0;34m)\u001b[0m\u001b[0;34m:\u001b[0m\u001b[0;34m\u001b[0m\u001b[0m\n",
      "\u001b[0;32m/Users/azougarm/anaconda/lib/python2.7/site-packages/pandas/core/frame.pyc\u001b[0m in \u001b[0;36m_getitem_column\u001b[0;34m(self, key)\u001b[0m\n\u001b[1;32m   1974\u001b[0m         \u001b[0;31m# get column\u001b[0m\u001b[0;34m\u001b[0m\u001b[0;34m\u001b[0m\u001b[0m\n\u001b[1;32m   1975\u001b[0m         \u001b[0;32mif\u001b[0m \u001b[0mself\u001b[0m\u001b[0;34m.\u001b[0m\u001b[0mcolumns\u001b[0m\u001b[0;34m.\u001b[0m\u001b[0mis_unique\u001b[0m\u001b[0;34m:\u001b[0m\u001b[0;34m\u001b[0m\u001b[0m\n\u001b[0;32m-> 1976\u001b[0;31m             \u001b[0;32mreturn\u001b[0m \u001b[0mself\u001b[0m\u001b[0;34m.\u001b[0m\u001b[0m_get_item_cache\u001b[0m\u001b[0;34m(\u001b[0m\u001b[0mkey\u001b[0m\u001b[0;34m)\u001b[0m\u001b[0;34m\u001b[0m\u001b[0m\n\u001b[0m\u001b[1;32m   1977\u001b[0m \u001b[0;34m\u001b[0m\u001b[0m\n\u001b[1;32m   1978\u001b[0m         \u001b[0;31m# duplicate columns & possible reduce dimensionality\u001b[0m\u001b[0;34m\u001b[0m\u001b[0;34m\u001b[0m\u001b[0m\n",
      "\u001b[0;32m/Users/azougarm/anaconda/lib/python2.7/site-packages/pandas/core/generic.pyc\u001b[0m in \u001b[0;36m_get_item_cache\u001b[0;34m(self, item)\u001b[0m\n\u001b[1;32m   1089\u001b[0m         \u001b[0mres\u001b[0m \u001b[0;34m=\u001b[0m \u001b[0mcache\u001b[0m\u001b[0;34m.\u001b[0m\u001b[0mget\u001b[0m\u001b[0;34m(\u001b[0m\u001b[0mitem\u001b[0m\u001b[0;34m)\u001b[0m\u001b[0;34m\u001b[0m\u001b[0m\n\u001b[1;32m   1090\u001b[0m         \u001b[0;32mif\u001b[0m \u001b[0mres\u001b[0m \u001b[0;32mis\u001b[0m \u001b[0mNone\u001b[0m\u001b[0;34m:\u001b[0m\u001b[0;34m\u001b[0m\u001b[0m\n\u001b[0;32m-> 1091\u001b[0;31m             \u001b[0mvalues\u001b[0m \u001b[0;34m=\u001b[0m \u001b[0mself\u001b[0m\u001b[0;34m.\u001b[0m\u001b[0m_data\u001b[0m\u001b[0;34m.\u001b[0m\u001b[0mget\u001b[0m\u001b[0;34m(\u001b[0m\u001b[0mitem\u001b[0m\u001b[0;34m)\u001b[0m\u001b[0;34m\u001b[0m\u001b[0m\n\u001b[0m\u001b[1;32m   1092\u001b[0m             \u001b[0mres\u001b[0m \u001b[0;34m=\u001b[0m \u001b[0mself\u001b[0m\u001b[0;34m.\u001b[0m\u001b[0m_box_item_values\u001b[0m\u001b[0;34m(\u001b[0m\u001b[0mitem\u001b[0m\u001b[0;34m,\u001b[0m \u001b[0mvalues\u001b[0m\u001b[0;34m)\u001b[0m\u001b[0;34m\u001b[0m\u001b[0m\n\u001b[1;32m   1093\u001b[0m             \u001b[0mcache\u001b[0m\u001b[0;34m[\u001b[0m\u001b[0mitem\u001b[0m\u001b[0;34m]\u001b[0m \u001b[0;34m=\u001b[0m \u001b[0mres\u001b[0m\u001b[0;34m\u001b[0m\u001b[0m\n",
      "\u001b[0;32m/Users/azougarm/anaconda/lib/python2.7/site-packages/pandas/core/internals.pyc\u001b[0m in \u001b[0;36mget\u001b[0;34m(self, item, fastpath)\u001b[0m\n\u001b[1;32m   3209\u001b[0m \u001b[0;34m\u001b[0m\u001b[0m\n\u001b[1;32m   3210\u001b[0m             \u001b[0;32mif\u001b[0m \u001b[0;32mnot\u001b[0m \u001b[0misnull\u001b[0m\u001b[0;34m(\u001b[0m\u001b[0mitem\u001b[0m\u001b[0;34m)\u001b[0m\u001b[0;34m:\u001b[0m\u001b[0;34m\u001b[0m\u001b[0m\n\u001b[0;32m-> 3211\u001b[0;31m                 \u001b[0mloc\u001b[0m \u001b[0;34m=\u001b[0m \u001b[0mself\u001b[0m\u001b[0;34m.\u001b[0m\u001b[0mitems\u001b[0m\u001b[0;34m.\u001b[0m\u001b[0mget_loc\u001b[0m\u001b[0;34m(\u001b[0m\u001b[0mitem\u001b[0m\u001b[0;34m)\u001b[0m\u001b[0;34m\u001b[0m\u001b[0m\n\u001b[0m\u001b[1;32m   3212\u001b[0m             \u001b[0;32melse\u001b[0m\u001b[0;34m:\u001b[0m\u001b[0;34m\u001b[0m\u001b[0m\n\u001b[1;32m   3213\u001b[0m                 \u001b[0mindexer\u001b[0m \u001b[0;34m=\u001b[0m \u001b[0mnp\u001b[0m\u001b[0;34m.\u001b[0m\u001b[0marange\u001b[0m\u001b[0;34m(\u001b[0m\u001b[0mlen\u001b[0m\u001b[0;34m(\u001b[0m\u001b[0mself\u001b[0m\u001b[0;34m.\u001b[0m\u001b[0mitems\u001b[0m\u001b[0;34m)\u001b[0m\u001b[0;34m)\u001b[0m\u001b[0;34m[\u001b[0m\u001b[0misnull\u001b[0m\u001b[0;34m(\u001b[0m\u001b[0mself\u001b[0m\u001b[0;34m.\u001b[0m\u001b[0mitems\u001b[0m\u001b[0;34m)\u001b[0m\u001b[0;34m]\u001b[0m\u001b[0;34m\u001b[0m\u001b[0m\n",
      "\u001b[0;32m/Users/azougarm/anaconda/lib/python2.7/site-packages/pandas/core/index.pyc\u001b[0m in \u001b[0;36mget_loc\u001b[0;34m(self, key, method, tolerance)\u001b[0m\n\u001b[1;32m   1757\u001b[0m                                  'backfill or nearest lookups')\n\u001b[1;32m   1758\u001b[0m             \u001b[0mkey\u001b[0m \u001b[0;34m=\u001b[0m \u001b[0m_values_from_object\u001b[0m\u001b[0;34m(\u001b[0m\u001b[0mkey\u001b[0m\u001b[0;34m)\u001b[0m\u001b[0;34m\u001b[0m\u001b[0m\n\u001b[0;32m-> 1759\u001b[0;31m             \u001b[0;32mreturn\u001b[0m \u001b[0mself\u001b[0m\u001b[0;34m.\u001b[0m\u001b[0m_engine\u001b[0m\u001b[0;34m.\u001b[0m\u001b[0mget_loc\u001b[0m\u001b[0;34m(\u001b[0m\u001b[0mkey\u001b[0m\u001b[0;34m)\u001b[0m\u001b[0;34m\u001b[0m\u001b[0m\n\u001b[0m\u001b[1;32m   1760\u001b[0m \u001b[0;34m\u001b[0m\u001b[0m\n\u001b[1;32m   1761\u001b[0m         indexer = self.get_indexer([key], method=method,\n",
      "\u001b[0;32mpandas/index.pyx\u001b[0m in \u001b[0;36mpandas.index.IndexEngine.get_loc (pandas/index.c:3979)\u001b[0;34m()\u001b[0m\n",
      "\u001b[0;32mpandas/index.pyx\u001b[0m in \u001b[0;36mpandas.index.IndexEngine.get_loc (pandas/index.c:3843)\u001b[0;34m()\u001b[0m\n",
      "\u001b[0;32mpandas/hashtable.pyx\u001b[0m in \u001b[0;36mpandas.hashtable.PyObjectHashTable.get_item (pandas/hashtable.c:12265)\u001b[0;34m()\u001b[0m\n",
      "\u001b[0;32mpandas/hashtable.pyx\u001b[0m in \u001b[0;36mpandas.hashtable.PyObjectHashTable.get_item (pandas/hashtable.c:12216)\u001b[0;34m()\u001b[0m\n",
      "\u001b[0;31mKeyError\u001b[0m: 90048"
     ]
    }
   ],
   "source": [
    "from sklearn.cross_validation import ShuffleSplit\n",
    "len(np.array(data['Resolution']))\n",
    "a=np.array(data['Resolution'].values).shape\n",
    "print a\n",
    "skf = list(ShuffleSplit(a[0],test_size=0.5,random_state=17))[0]\n"
   ]
  },
  {
   "cell_type": "code",
   "execution_count": 22,
   "metadata": {
    "collapsed": false
   },
   "outputs": [],
   "source": [
    "data_Train, data2  = np.array_split(data,2)\n",
    "data_Test, data_Valid = np.array_split(data2,2)"
   ]
  },
  {
   "cell_type": "markdown",
   "metadata": {},
   "source": [
    "# Train"
   ]
  },
  {
   "cell_type": "code",
   "execution_count": 23,
   "metadata": {
    "collapsed": false
   },
   "outputs": [],
   "source": [
    "y_train = data_Train.Resolution\n",
    "x_train = data_Train.drop([\"Resolution\"],axis = 1)"
   ]
  },
  {
   "cell_type": "code",
   "execution_count": 24,
   "metadata": {
    "collapsed": false
   },
   "outputs": [],
   "source": [
    "y_train.to_csv('data/ref_train.solution')"
   ]
  },
  {
   "cell_type": "code",
   "execution_count": 25,
   "metadata": {
    "collapsed": false
   },
   "outputs": [],
   "source": [
    "x_train.to_csv('data/x_train.data')"
   ]
  },
  {
   "cell_type": "code",
   "execution_count": null,
   "metadata": {
    "collapsed": false
   },
   "outputs": [],
   "source": []
  },
  {
   "cell_type": "markdown",
   "metadata": {},
   "source": [
    "# Test"
   ]
  },
  {
   "cell_type": "code",
   "execution_count": 26,
   "metadata": {
    "collapsed": false,
    "scrolled": true
   },
   "outputs": [],
   "source": [
    "y_test = data_Test.Resolution\n",
    "x_test = data_Test.drop([\"Resolution\"],axis = 1)"
   ]
  },
  {
   "cell_type": "code",
   "execution_count": 27,
   "metadata": {
    "collapsed": false,
    "scrolled": true
   },
   "outputs": [],
   "source": [
    "y_test.to_csv('data/ref_test.solution')"
   ]
  },
  {
   "cell_type": "code",
   "execution_count": 28,
   "metadata": {
    "collapsed": false,
    "scrolled": true
   },
   "outputs": [],
   "source": [
    "x_test.to_csv('data/x_test.data')"
   ]
  },
  {
   "cell_type": "markdown",
   "metadata": {
    "collapsed": true
   },
   "source": [
    "# Validation"
   ]
  },
  {
   "cell_type": "code",
   "execution_count": 29,
   "metadata": {
    "collapsed": true
   },
   "outputs": [],
   "source": [
    "y_valid = data_Valid.Resolution\n",
    "x_valid = data_Valid.drop([\"Resolution\"],axis = 1)"
   ]
  },
  {
   "cell_type": "code",
   "execution_count": 30,
   "metadata": {
    "collapsed": true
   },
   "outputs": [],
   "source": [
    "y_valid.to_csv('data/ref_valid.solution')"
   ]
  },
  {
   "cell_type": "code",
   "execution_count": 31,
   "metadata": {
    "collapsed": true
   },
   "outputs": [],
   "source": [
    "x_valid.to_csv('data/x_valid.data')"
   ]
  },
  {
   "cell_type": "code",
   "execution_count": null,
   "metadata": {
    "collapsed": false
   },
   "outputs": [],
   "source": []
  },
  {
   "cell_type": "code",
   "execution_count": null,
   "metadata": {
    "collapsed": false
   },
   "outputs": [],
   "source": []
  },
  {
   "cell_type": "code",
   "execution_count": null,
   "metadata": {
    "collapsed": true
   },
   "outputs": [],
   "source": []
  },
  {
   "cell_type": "code",
   "execution_count": null,
   "metadata": {
    "collapsed": true
   },
   "outputs": [],
   "source": []
  },
  {
   "cell_type": "code",
   "execution_count": null,
   "metadata": {
    "collapsed": true
   },
   "outputs": [],
   "source": []
  }
 ],
 "metadata": {
  "kernelspec": {
   "display_name": "Python 2",
   "language": "python",
   "name": "python2"
  },
  "language_info": {
   "codemirror_mode": {
    "name": "ipython",
    "version": 2
   },
   "file_extension": ".py",
   "mimetype": "text/x-python",
   "name": "python",
   "nbconvert_exporter": "python",
   "pygments_lexer": "ipython2",
   "version": "2.7.11"
  }
 },
 "nbformat": 4,
 "nbformat_minor": 0
}
