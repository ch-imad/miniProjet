{
 "cells": [
  {
   "cell_type": "markdown",
   "metadata": {},
   "source": [
    "# Challenge on predicting of resolvability of crimes for BATMAN\n"
   ]
  },
  {
   "cell_type": "markdown",
   "metadata": {},
   "source": [
    "### Socio Team  or \"Bat\"Team "
   ]
  },
  {
   "cell_type": "markdown",
   "metadata": {},
   "source": [
    "<i>Goukam , Imad , Mohamed , Nassim (M2 AIC Paris_Sud) </i>"
   ]
  },
  {
   "cell_type": "markdown",
   "metadata": {},
   "source": [
    "## Introduction\n",
    "The data set was download in this url:<a>https://data.sfgov.org/Public-Safety/SFPD-Incidents-Current-Year-2015-/ritf-b9ki</a>. \n",
    "The data is thin, it contains\n",
    "\n",
    "* Dates - timestamp of the crime incident\n",
    "* Category - category of the crime incident (only in train.csv). This is the target variable you are going to predict.\n",
    "* Descript - detailed description of the crime incident (only in train.csv)\n",
    "* DayOfWeek - the day of the week\n",
    "* PdDistrict - name of the Police Department District\n",
    "* Resolution - how the crime incident was resolved (only in train.csv)\n",
    "* Address - the approximate street address of the crime incident \n",
    "* X - Longitude\n",
    "* Y - Latitude\n",
    "\n",
    "\n",
    "\n",
    "\n",
    "** The goal is to predict the <code>Resolution</code> column. The prediction quality is measured by RMSE**. \n",
    "\n"
   ]
  },
  {
   "cell_type": "code",
   "execution_count": 84,
   "metadata": {
    "collapsed": false
   },
   "outputs": [],
   "source": [
    "%matplotlib inline\n",
    "import numpy as np\n",
    "import pandas as pd\n",
    "import matplotlib.pyplot as plt"
   ]
  },
  {
   "cell_type": "markdown",
   "metadata": {},
   "source": [
    "## Fetch the data and load it in pandas"
   ]
  },
  {
   "cell_type": "code",
   "execution_count": 85,
   "metadata": {
    "collapsed": false
   },
   "outputs": [],
   "source": [
    "import os"
   ]
  },
  {
   "cell_type": "code",
   "execution_count": 86,
   "metadata": {
    "collapsed": false
   },
   "outputs": [],
   "source": [
    "local_filename = 'data/train.csv'\n",
    "data = pd.read_csv(local_filename, index_col=0)"
   ]
  },
  {
   "cell_type": "code",
   "execution_count": 87,
   "metadata": {
    "collapsed": false
   },
   "outputs": [
    {
     "data": {
      "text/plain": [
       "(153618, 11)"
      ]
     },
     "execution_count": 87,
     "metadata": {},
     "output_type": "execute_result"
    }
   ],
   "source": [
    "data.shape"
   ]
  },
  {
   "cell_type": "code",
   "execution_count": 88,
   "metadata": {
    "collapsed": false
   },
   "outputs": [
    {
     "data": {
      "text/plain": [
       "array(['Category', 'Descript', 'DayOfWeek', 'Date', 'Time', 'PdDistrict',\n",
       "       'Resolution', 'Address', 'X', 'Y', 'Location'], dtype=object)"
      ]
     },
     "execution_count": 88,
     "metadata": {},
     "output_type": "execute_result"
    }
   ],
   "source": [
    "data.columns.values\n"
   ]
  },
  {
   "cell_type": "code",
   "execution_count": 89,
   "metadata": {
    "collapsed": false
   },
   "outputs": [
    {
     "data": {
      "text/html": [
       "<div>\n",
       "<table border=\"1\" class=\"dataframe\">\n",
       "  <thead>\n",
       "    <tr style=\"text-align: right;\">\n",
       "      <th></th>\n",
       "      <th>Category</th>\n",
       "      <th>Descript</th>\n",
       "      <th>DayOfWeek</th>\n",
       "      <th>Date</th>\n",
       "      <th>Time</th>\n",
       "      <th>PdDistrict</th>\n",
       "      <th>Resolution</th>\n",
       "      <th>Address</th>\n",
       "      <th>X</th>\n",
       "      <th>Y</th>\n",
       "      <th>Location</th>\n",
       "    </tr>\n",
       "    <tr>\n",
       "      <th>IncidntNum</th>\n",
       "      <th></th>\n",
       "      <th></th>\n",
       "      <th></th>\n",
       "      <th></th>\n",
       "      <th></th>\n",
       "      <th></th>\n",
       "      <th></th>\n",
       "      <th></th>\n",
       "      <th></th>\n",
       "      <th></th>\n",
       "      <th></th>\n",
       "    </tr>\n",
       "  </thead>\n",
       "  <tbody>\n",
       "    <tr>\n",
       "      <th>160000108</th>\n",
       "      <td>ASSAULT</td>\n",
       "      <td>BATTERY</td>\n",
       "      <td>Thursday</td>\n",
       "      <td>12/31/2015</td>\n",
       "      <td>23:58</td>\n",
       "      <td>SOUTHERN</td>\n",
       "      <td>ARREST, BOOKED</td>\n",
       "      <td>800 Block of BRYANT ST</td>\n",
       "      <td>-122.403405</td>\n",
       "      <td>37.775421</td>\n",
       "      <td>(37.775420706711, -122.403404791479)</td>\n",
       "    </tr>\n",
       "    <tr>\n",
       "      <th>166004914</th>\n",
       "      <td>VANDALISM</td>\n",
       "      <td>MALICIOUS MISCHIEF, VANDALISM</td>\n",
       "      <td>Thursday</td>\n",
       "      <td>12/31/2015</td>\n",
       "      <td>23:55</td>\n",
       "      <td>SOUTHERN</td>\n",
       "      <td>NONE</td>\n",
       "      <td>1100 Block of MISSION ST</td>\n",
       "      <td>-122.411626</td>\n",
       "      <td>37.778590</td>\n",
       "      <td>(37.7785895740312, -122.411626152299)</td>\n",
       "    </tr>\n",
       "    <tr>\n",
       "      <th>160000095</th>\n",
       "      <td>ASSAULT</td>\n",
       "      <td>INFLICT INJURY ON COHABITEE</td>\n",
       "      <td>Thursday</td>\n",
       "      <td>12/31/2015</td>\n",
       "      <td>23:54</td>\n",
       "      <td>INGLESIDE</td>\n",
       "      <td>ARREST, BOOKED</td>\n",
       "      <td>0 Block of LELAND AV</td>\n",
       "      <td>-122.404263</td>\n",
       "      <td>37.711339</td>\n",
       "      <td>(37.7113387848327, -122.404262861765)</td>\n",
       "    </tr>\n",
       "    <tr>\n",
       "      <th>160038137</th>\n",
       "      <td>OTHER OFFENSES</td>\n",
       "      <td>VIOLATION OF RESTRAINING ORDER</td>\n",
       "      <td>Thursday</td>\n",
       "      <td>12/31/2015</td>\n",
       "      <td>23:51</td>\n",
       "      <td>INGLESIDE</td>\n",
       "      <td>NONE</td>\n",
       "      <td>200 Block of BLYTHDALE AV</td>\n",
       "      <td>-122.420557</td>\n",
       "      <td>37.710895</td>\n",
       "      <td>(37.7108945814914, -122.420556751442)</td>\n",
       "    </tr>\n",
       "    <tr>\n",
       "      <th>166002930</th>\n",
       "      <td>NON-CRIMINAL</td>\n",
       "      <td>LOST PROPERTY</td>\n",
       "      <td>Thursday</td>\n",
       "      <td>12/31/2015</td>\n",
       "      <td>23:50</td>\n",
       "      <td>CENTRAL</td>\n",
       "      <td>NONE</td>\n",
       "      <td>800 Block of POST ST</td>\n",
       "      <td>-122.415844</td>\n",
       "      <td>37.787402</td>\n",
       "      <td>(37.7874017655636, -122.41584375719)</td>\n",
       "    </tr>\n",
       "  </tbody>\n",
       "</table>\n",
       "</div>"
      ],
      "text/plain": [
       "                  Category                        Descript DayOfWeek  \\\n",
       "IncidntNum                                                             \n",
       "160000108          ASSAULT                         BATTERY  Thursday   \n",
       "166004914        VANDALISM   MALICIOUS MISCHIEF, VANDALISM  Thursday   \n",
       "160000095          ASSAULT     INFLICT INJURY ON COHABITEE  Thursday   \n",
       "160038137   OTHER OFFENSES  VIOLATION OF RESTRAINING ORDER  Thursday   \n",
       "166002930     NON-CRIMINAL                   LOST PROPERTY  Thursday   \n",
       "\n",
       "                  Date   Time PdDistrict      Resolution  \\\n",
       "IncidntNum                                                 \n",
       "160000108   12/31/2015  23:58   SOUTHERN  ARREST, BOOKED   \n",
       "166004914   12/31/2015  23:55   SOUTHERN            NONE   \n",
       "160000095   12/31/2015  23:54  INGLESIDE  ARREST, BOOKED   \n",
       "160038137   12/31/2015  23:51  INGLESIDE            NONE   \n",
       "166002930   12/31/2015  23:50    CENTRAL            NONE   \n",
       "\n",
       "                              Address           X          Y  \\\n",
       "IncidntNum                                                     \n",
       "160000108      800 Block of BRYANT ST -122.403405  37.775421   \n",
       "166004914    1100 Block of MISSION ST -122.411626  37.778590   \n",
       "160000095        0 Block of LELAND AV -122.404263  37.711339   \n",
       "160038137   200 Block of BLYTHDALE AV -122.420557  37.710895   \n",
       "166002930        800 Block of POST ST -122.415844  37.787402   \n",
       "\n",
       "                                         Location  \n",
       "IncidntNum                                         \n",
       "160000108    (37.775420706711, -122.403404791479)  \n",
       "166004914   (37.7785895740312, -122.411626152299)  \n",
       "160000095   (37.7113387848327, -122.404262861765)  \n",
       "160038137   (37.7108945814914, -122.420556751442)  \n",
       "166002930    (37.7874017655636, -122.41584375719)  "
      ]
     },
     "execution_count": 89,
     "metadata": {},
     "output_type": "execute_result"
    }
   ],
   "source": [
    "data.head()"
   ]
  },
  {
   "cell_type": "code",
   "execution_count": 90,
   "metadata": {
    "collapsed": false,
    "scrolled": true
   },
   "outputs": [
    {
     "name": "stdout",
     "output_type": "stream",
     "text": [
      "01/01/2015\n",
      "12/31/2015\n"
     ]
    }
   ],
   "source": [
    "print min(data['Date'])\n",
    "print max(data['Date'])"
   ]
  },
  {
   "cell_type": "code",
   "execution_count": 91,
   "metadata": {
    "collapsed": false
   },
   "outputs": [
    {
     "data": {
      "text/plain": [
       "array(['SOUTHERN', 'INGLESIDE', 'CENTRAL', 'BAYVIEW', 'PARK', 'NORTHERN',\n",
       "       'MISSION', 'TENDERLOIN', 'TARAVAL', 'RICHMOND'], dtype=object)"
      ]
     },
     "execution_count": 91,
     "metadata": {},
     "output_type": "execute_result"
    }
   ],
   "source": [
    "data['PdDistrict'].unique()"
   ]
  },
  {
   "cell_type": "code",
   "execution_count": 92,
   "metadata": {
    "collapsed": false
   },
   "outputs": [
    {
     "data": {
      "text/plain": [
       "array(['ASSAULT', 'VANDALISM', 'OTHER OFFENSES', 'NON-CRIMINAL',\n",
       "       'LARCENY/THEFT', 'VEHICLE THEFT', 'BURGLARY', 'ROBBERY', 'WARRANTS',\n",
       "       'SUSPICIOUS OCC', 'WEAPON LAWS', 'DRUNKENNESS', 'TRESPASS',\n",
       "       'FORGERY/COUNTERFEITING', 'DRUG/NARCOTIC', 'MISSING PERSON',\n",
       "       'SECONDARY CODES', 'FRAUD', 'EMBEZZLEMENT',\n",
       "       'SEX OFFENSES, FORCIBLE', 'BRIBERY', 'STOLEN PROPERTY',\n",
       "       'DISORDERLY CONDUCT', 'ARSON', 'FAMILY OFFENSES', 'RUNAWAY',\n",
       "       'DRIVING UNDER THE INFLUENCE', 'KIDNAPPING', 'PROSTITUTION',\n",
       "       'SUICIDE', 'LIQUOR LAWS', 'EXTORTION', 'GAMBLING', 'BAD CHECKS',\n",
       "       'SEX OFFENSES, NON FORCIBLE', 'LOITERING',\n",
       "       'PORNOGRAPHY/OBSCENE MAT', 'TREA'], dtype=object)"
      ]
     },
     "execution_count": 92,
     "metadata": {},
     "output_type": "execute_result"
    }
   ],
   "source": [
    "data['Category'].unique()"
   ]
  },
  {
   "cell_type": "code",
   "execution_count": 93,
   "metadata": {
    "collapsed": false,
    "scrolled": true
   },
   "outputs": [
    {
     "data": {
      "text/html": [
       "<div>\n",
       "<table border=\"1\" class=\"dataframe\">\n",
       "  <thead>\n",
       "    <tr style=\"text-align: right;\">\n",
       "      <th></th>\n",
       "      <th>Category</th>\n",
       "      <th>Descript</th>\n",
       "      <th>DayOfWeek</th>\n",
       "      <th>Date</th>\n",
       "      <th>Time</th>\n",
       "      <th>PdDistrict</th>\n",
       "      <th>Resolution</th>\n",
       "      <th>Address</th>\n",
       "      <th>X</th>\n",
       "      <th>Y</th>\n",
       "      <th>Location</th>\n",
       "    </tr>\n",
       "    <tr>\n",
       "      <th>IncidntNum</th>\n",
       "      <th></th>\n",
       "      <th></th>\n",
       "      <th></th>\n",
       "      <th></th>\n",
       "      <th></th>\n",
       "      <th></th>\n",
       "      <th></th>\n",
       "      <th></th>\n",
       "      <th></th>\n",
       "      <th></th>\n",
       "      <th></th>\n",
       "    </tr>\n",
       "  </thead>\n",
       "  <tbody>\n",
       "    <tr>\n",
       "      <th>160000108</th>\n",
       "      <td>ASSAULT</td>\n",
       "      <td>BATTERY</td>\n",
       "      <td>Thursday</td>\n",
       "      <td>12/31/2015</td>\n",
       "      <td>23:58</td>\n",
       "      <td>SOUTHERN</td>\n",
       "      <td>ARREST, BOOKED</td>\n",
       "      <td>800 Block of BRYANT ST</td>\n",
       "      <td>-122.403405</td>\n",
       "      <td>37.775421</td>\n",
       "      <td>(37.775420706711, -122.403404791479)</td>\n",
       "    </tr>\n",
       "    <tr>\n",
       "      <th>166004914</th>\n",
       "      <td>VANDALISM</td>\n",
       "      <td>MALICIOUS MISCHIEF, VANDALISM</td>\n",
       "      <td>Thursday</td>\n",
       "      <td>12/31/2015</td>\n",
       "      <td>23:55</td>\n",
       "      <td>SOUTHERN</td>\n",
       "      <td>NONE</td>\n",
       "      <td>1100 Block of MISSION ST</td>\n",
       "      <td>-122.411626</td>\n",
       "      <td>37.778590</td>\n",
       "      <td>(37.7785895740312, -122.411626152299)</td>\n",
       "    </tr>\n",
       "    <tr>\n",
       "      <th>160000095</th>\n",
       "      <td>ASSAULT</td>\n",
       "      <td>INFLICT INJURY ON COHABITEE</td>\n",
       "      <td>Thursday</td>\n",
       "      <td>12/31/2015</td>\n",
       "      <td>23:54</td>\n",
       "      <td>INGLESIDE</td>\n",
       "      <td>ARREST, BOOKED</td>\n",
       "      <td>0 Block of LELAND AV</td>\n",
       "      <td>-122.404263</td>\n",
       "      <td>37.711339</td>\n",
       "      <td>(37.7113387848327, -122.404262861765)</td>\n",
       "    </tr>\n",
       "    <tr>\n",
       "      <th>160038137</th>\n",
       "      <td>OTHER OFFENSES</td>\n",
       "      <td>VIOLATION OF RESTRAINING ORDER</td>\n",
       "      <td>Thursday</td>\n",
       "      <td>12/31/2015</td>\n",
       "      <td>23:51</td>\n",
       "      <td>INGLESIDE</td>\n",
       "      <td>NONE</td>\n",
       "      <td>200 Block of BLYTHDALE AV</td>\n",
       "      <td>-122.420557</td>\n",
       "      <td>37.710895</td>\n",
       "      <td>(37.7108945814914, -122.420556751442)</td>\n",
       "    </tr>\n",
       "    <tr>\n",
       "      <th>166002930</th>\n",
       "      <td>NON-CRIMINAL</td>\n",
       "      <td>LOST PROPERTY</td>\n",
       "      <td>Thursday</td>\n",
       "      <td>12/31/2015</td>\n",
       "      <td>23:50</td>\n",
       "      <td>CENTRAL</td>\n",
       "      <td>NONE</td>\n",
       "      <td>800 Block of POST ST</td>\n",
       "      <td>-122.415844</td>\n",
       "      <td>37.787402</td>\n",
       "      <td>(37.7874017655636, -122.41584375719)</td>\n",
       "    </tr>\n",
       "  </tbody>\n",
       "</table>\n",
       "</div>"
      ],
      "text/plain": [
       "                  Category                        Descript DayOfWeek  \\\n",
       "IncidntNum                                                             \n",
       "160000108          ASSAULT                         BATTERY  Thursday   \n",
       "166004914        VANDALISM   MALICIOUS MISCHIEF, VANDALISM  Thursday   \n",
       "160000095          ASSAULT     INFLICT INJURY ON COHABITEE  Thursday   \n",
       "160038137   OTHER OFFENSES  VIOLATION OF RESTRAINING ORDER  Thursday   \n",
       "166002930     NON-CRIMINAL                   LOST PROPERTY  Thursday   \n",
       "\n",
       "                  Date   Time PdDistrict      Resolution  \\\n",
       "IncidntNum                                                 \n",
       "160000108   12/31/2015  23:58   SOUTHERN  ARREST, BOOKED   \n",
       "166004914   12/31/2015  23:55   SOUTHERN            NONE   \n",
       "160000095   12/31/2015  23:54  INGLESIDE  ARREST, BOOKED   \n",
       "160038137   12/31/2015  23:51  INGLESIDE            NONE   \n",
       "166002930   12/31/2015  23:50    CENTRAL            NONE   \n",
       "\n",
       "                              Address           X          Y  \\\n",
       "IncidntNum                                                     \n",
       "160000108      800 Block of BRYANT ST -122.403405  37.775421   \n",
       "166004914    1100 Block of MISSION ST -122.411626  37.778590   \n",
       "160000095        0 Block of LELAND AV -122.404263  37.711339   \n",
       "160038137   200 Block of BLYTHDALE AV -122.420557  37.710895   \n",
       "166002930        800 Block of POST ST -122.415844  37.787402   \n",
       "\n",
       "                                         Location  \n",
       "IncidntNum                                         \n",
       "160000108    (37.775420706711, -122.403404791479)  \n",
       "166004914   (37.7785895740312, -122.411626152299)  \n",
       "160000095   (37.7113387848327, -122.404262861765)  \n",
       "160038137   (37.7108945814914, -122.420556751442)  \n",
       "166002930    (37.7874017655636, -122.41584375719)  "
      ]
     },
     "execution_count": 93,
     "metadata": {},
     "output_type": "execute_result"
    }
   ],
   "source": [
    "data.head()"
   ]
  },
  {
   "cell_type": "code",
   "execution_count": 94,
   "metadata": {
    "collapsed": false
   },
   "outputs": [
    {
     "data": {
      "text/plain": [
       "array(['ARREST, BOOKED', 'NONE', 'UNFOUNDED', 'ARREST, CITED',\n",
       "       'JUVENILE BOOKED', 'EXCEPTIONAL CLEARANCE', 'PSYCHOPATHIC CASE',\n",
       "       'NOT PROSECUTED', 'LOCATED',\n",
       "       'CLEARED-CONTACT JUVENILE FOR MORE INFO', 'JUVENILE DIVERTED',\n",
       "       'JUVENILE CITED', 'COMPLAINANT REFUSES TO PROSECUTE',\n",
       "       'JUVENILE ADMONISHED'], dtype=object)"
      ]
     },
     "execution_count": 94,
     "metadata": {},
     "output_type": "execute_result"
    }
   ],
   "source": [
    "data['Resolution'].unique()"
   ]
  },
  {
   "cell_type": "code",
   "execution_count": 95,
   "metadata": {
    "collapsed": false
   },
   "outputs": [],
   "source": [
    "data = data.replace(to_replace=\"ARREST, BOOKED\", value=1)\n",
    "data = data.replace(to_replace=\"ARREST, CITED\", value=1)\n",
    "data = data.replace(to_replace=\"NONE\", value=0)\n",
    "data = data.replace(to_replace=\"UNFOUNDED\", value=0)\n",
    "data = data.replace(to_replace=\"JUVENILE BOOKED\", value=0)\n",
    "data = data.replace(to_replace=\"EXCEPTIONAL CLEARANCE\", value=0)\n",
    "data = data.replace(to_replace=\"PSYCHOPATHIC CASE\", value=0)\n",
    "data = data.replace(to_replace=\"NOT PROSECUTED\", value=0)\n",
    "data = data.replace(to_replace=\"LOCATED\", value=0)\n",
    "data = data.replace(to_replace=\"CLEARED-CONTACT JUVENILE FOR MORE INFO\", value=0)\n",
    "data = data.replace(to_replace=\"COMPLAINANT REFUSES TO PROSECUTE\", value=0)\n",
    "data = data.replace(to_replace=\"JUVENILE ADMONISHED\", value=0)\n",
    "data = data.replace(to_replace=\"JUVENILE DIVERTED\", value=0)\n",
    "data = data.replace(to_replace=\"JUVENILE CITED\", value=0)\n"
   ]
  },
  {
   "cell_type": "markdown",
   "metadata": {},
   "source": [
    "*** Remove a \"Address\" To samplifier***"
   ]
  },
  {
   "cell_type": "code",
   "execution_count": 116,
   "metadata": {
    "collapsed": false
   },
   "outputs": [
    {
     "ename": "ValueError",
     "evalue": "labels ['Address'] not contained in axis",
     "output_type": "error",
     "traceback": [
      "\u001b[1;31m---------------------------------------------------------------------------\u001b[0m",
      "\u001b[1;31mValueError\u001b[0m                                Traceback (most recent call last)",
      "\u001b[1;32m<ipython-input-116-eb118ea3859d>\u001b[0m in \u001b[0;36m<module>\u001b[1;34m()\u001b[0m\n\u001b[1;32m----> 1\u001b[1;33m \u001b[0mdata\u001b[0m \u001b[1;33m=\u001b[0m \u001b[0mdata\u001b[0m\u001b[1;33m.\u001b[0m\u001b[0mdrop\u001b[0m\u001b[1;33m(\u001b[0m\u001b[1;34m'Address'\u001b[0m\u001b[1;33m,\u001b[0m \u001b[1;36m1\u001b[0m\u001b[1;33m)\u001b[0m\u001b[1;33m\u001b[0m\u001b[0m\n\u001b[0m",
      "\u001b[1;32m/home/tp-home006/ichaaba/.conda/envs/superbad/lib/python2.7/site-packages/pandas/core/generic.pyc\u001b[0m in \u001b[0;36mdrop\u001b[1;34m(self, labels, axis, level, inplace, errors)\u001b[0m\n\u001b[0;32m   1615\u001b[0m                 \u001b[0mnew_axis\u001b[0m \u001b[1;33m=\u001b[0m \u001b[0maxis\u001b[0m\u001b[1;33m.\u001b[0m\u001b[0mdrop\u001b[0m\u001b[1;33m(\u001b[0m\u001b[0mlabels\u001b[0m\u001b[1;33m,\u001b[0m \u001b[0mlevel\u001b[0m\u001b[1;33m=\u001b[0m\u001b[0mlevel\u001b[0m\u001b[1;33m,\u001b[0m \u001b[0merrors\u001b[0m\u001b[1;33m=\u001b[0m\u001b[0merrors\u001b[0m\u001b[1;33m)\u001b[0m\u001b[1;33m\u001b[0m\u001b[0m\n\u001b[0;32m   1616\u001b[0m             \u001b[1;32melse\u001b[0m\u001b[1;33m:\u001b[0m\u001b[1;33m\u001b[0m\u001b[0m\n\u001b[1;32m-> 1617\u001b[1;33m                 \u001b[0mnew_axis\u001b[0m \u001b[1;33m=\u001b[0m \u001b[0maxis\u001b[0m\u001b[1;33m.\u001b[0m\u001b[0mdrop\u001b[0m\u001b[1;33m(\u001b[0m\u001b[0mlabels\u001b[0m\u001b[1;33m,\u001b[0m \u001b[0merrors\u001b[0m\u001b[1;33m=\u001b[0m\u001b[0merrors\u001b[0m\u001b[1;33m)\u001b[0m\u001b[1;33m\u001b[0m\u001b[0m\n\u001b[0m\u001b[0;32m   1618\u001b[0m             \u001b[0mdropped\u001b[0m \u001b[1;33m=\u001b[0m \u001b[0mself\u001b[0m\u001b[1;33m.\u001b[0m\u001b[0mreindex\u001b[0m\u001b[1;33m(\u001b[0m\u001b[1;33m**\u001b[0m\u001b[1;33m{\u001b[0m\u001b[0maxis_name\u001b[0m\u001b[1;33m:\u001b[0m \u001b[0mnew_axis\u001b[0m\u001b[1;33m}\u001b[0m\u001b[1;33m)\u001b[0m\u001b[1;33m\u001b[0m\u001b[0m\n\u001b[0;32m   1619\u001b[0m             \u001b[1;32mtry\u001b[0m\u001b[1;33m:\u001b[0m\u001b[1;33m\u001b[0m\u001b[0m\n",
      "\u001b[1;32m/home/tp-home006/ichaaba/.conda/envs/superbad/lib/python2.7/site-packages/pandas/core/index.pyc\u001b[0m in \u001b[0;36mdrop\u001b[1;34m(self, labels, errors)\u001b[0m\n\u001b[0;32m   2801\u001b[0m         \u001b[1;32mif\u001b[0m \u001b[0mmask\u001b[0m\u001b[1;33m.\u001b[0m\u001b[0many\u001b[0m\u001b[1;33m(\u001b[0m\u001b[1;33m)\u001b[0m\u001b[1;33m:\u001b[0m\u001b[1;33m\u001b[0m\u001b[0m\n\u001b[0;32m   2802\u001b[0m             \u001b[1;32mif\u001b[0m \u001b[0merrors\u001b[0m \u001b[1;33m!=\u001b[0m \u001b[1;34m'ignore'\u001b[0m\u001b[1;33m:\u001b[0m\u001b[1;33m\u001b[0m\u001b[0m\n\u001b[1;32m-> 2803\u001b[1;33m                 \u001b[1;32mraise\u001b[0m \u001b[0mValueError\u001b[0m\u001b[1;33m(\u001b[0m\u001b[1;34m'labels %s not contained in axis'\u001b[0m \u001b[1;33m%\u001b[0m \u001b[0mlabels\u001b[0m\u001b[1;33m[\u001b[0m\u001b[0mmask\u001b[0m\u001b[1;33m]\u001b[0m\u001b[1;33m)\u001b[0m\u001b[1;33m\u001b[0m\u001b[0m\n\u001b[0m\u001b[0;32m   2804\u001b[0m             \u001b[0mindexer\u001b[0m \u001b[1;33m=\u001b[0m \u001b[0mindexer\u001b[0m\u001b[1;33m[\u001b[0m\u001b[1;33m~\u001b[0m\u001b[0mmask\u001b[0m\u001b[1;33m]\u001b[0m\u001b[1;33m\u001b[0m\u001b[0m\n\u001b[0;32m   2805\u001b[0m         \u001b[1;32mreturn\u001b[0m \u001b[0mself\u001b[0m\u001b[1;33m.\u001b[0m\u001b[0mdelete\u001b[0m\u001b[1;33m(\u001b[0m\u001b[0mindexer\u001b[0m\u001b[1;33m)\u001b[0m\u001b[1;33m\u001b[0m\u001b[0m\n",
      "\u001b[1;31mValueError\u001b[0m: labels ['Address'] not contained in axis"
     ]
    }
   ],
   "source": [
    "data = data.drop('Address', 1)\n"
   ]
  },
  {
   "cell_type": "code",
   "execution_count": 114,
   "metadata": {
    "collapsed": false
   },
   "outputs": [
    {
     "data": {
      "text/html": [
       "<div>\n",
       "<table border=\"1\" class=\"dataframe\">\n",
       "  <thead>\n",
       "    <tr style=\"text-align: right;\">\n",
       "      <th></th>\n",
       "      <th>Category</th>\n",
       "      <th>Descript</th>\n",
       "      <th>DayOfWeek</th>\n",
       "      <th>Date</th>\n",
       "      <th>Time</th>\n",
       "      <th>PdDistrict</th>\n",
       "      <th>Resolution</th>\n",
       "      <th>X</th>\n",
       "      <th>Y</th>\n",
       "      <th>Location</th>\n",
       "    </tr>\n",
       "    <tr>\n",
       "      <th>IncidntNum</th>\n",
       "      <th></th>\n",
       "      <th></th>\n",
       "      <th></th>\n",
       "      <th></th>\n",
       "      <th></th>\n",
       "      <th></th>\n",
       "      <th></th>\n",
       "      <th></th>\n",
       "      <th></th>\n",
       "      <th></th>\n",
       "    </tr>\n",
       "  </thead>\n",
       "  <tbody>\n",
       "    <tr>\n",
       "      <th>160000108</th>\n",
       "      <td>ASSAULT</td>\n",
       "      <td>BATTERY</td>\n",
       "      <td>Thursday</td>\n",
       "      <td>12/31/2015</td>\n",
       "      <td>23:58</td>\n",
       "      <td>Otisburg</td>\n",
       "      <td>1</td>\n",
       "      <td>-122.403405</td>\n",
       "      <td>37.775421</td>\n",
       "      <td>(37.775420706711, -122.403404791479)</td>\n",
       "    </tr>\n",
       "    <tr>\n",
       "      <th>166004914</th>\n",
       "      <td>VANDALISM</td>\n",
       "      <td>MALICIOUS MISCHIEF, VANDALISM</td>\n",
       "      <td>Thursday</td>\n",
       "      <td>12/31/2015</td>\n",
       "      <td>23:55</td>\n",
       "      <td>Otisburg</td>\n",
       "      <td>0</td>\n",
       "      <td>-122.411626</td>\n",
       "      <td>37.778590</td>\n",
       "      <td>(37.7785895740312, -122.411626152299)</td>\n",
       "    </tr>\n",
       "    <tr>\n",
       "      <th>160000095</th>\n",
       "      <td>ASSAULT</td>\n",
       "      <td>INFLICT INJURY ON COHABITEE</td>\n",
       "      <td>Thursday</td>\n",
       "      <td>12/31/2015</td>\n",
       "      <td>23:54</td>\n",
       "      <td>Burnley</td>\n",
       "      <td>1</td>\n",
       "      <td>-122.404263</td>\n",
       "      <td>37.711339</td>\n",
       "      <td>(37.7113387848327, -122.404262861765)</td>\n",
       "    </tr>\n",
       "    <tr>\n",
       "      <th>160038137</th>\n",
       "      <td>OTHER OFFENSES</td>\n",
       "      <td>VIOLATION OF RESTRAINING ORDER</td>\n",
       "      <td>Thursday</td>\n",
       "      <td>12/31/2015</td>\n",
       "      <td>23:51</td>\n",
       "      <td>Burnley</td>\n",
       "      <td>0</td>\n",
       "      <td>-122.420557</td>\n",
       "      <td>37.710895</td>\n",
       "      <td>(37.7108945814914, -122.420556751442)</td>\n",
       "    </tr>\n",
       "    <tr>\n",
       "      <th>166002930</th>\n",
       "      <td>NON-CRIMINAL</td>\n",
       "      <td>LOST PROPERTY</td>\n",
       "      <td>Thursday</td>\n",
       "      <td>12/31/2015</td>\n",
       "      <td>23:50</td>\n",
       "      <td>East End</td>\n",
       "      <td>0</td>\n",
       "      <td>-122.415844</td>\n",
       "      <td>37.787402</td>\n",
       "      <td>(37.7874017655636, -122.41584375719)</td>\n",
       "    </tr>\n",
       "  </tbody>\n",
       "</table>\n",
       "</div>"
      ],
      "text/plain": [
       "                  Category                        Descript DayOfWeek  \\\n",
       "IncidntNum                                                             \n",
       "160000108          ASSAULT                         BATTERY  Thursday   \n",
       "166004914        VANDALISM   MALICIOUS MISCHIEF, VANDALISM  Thursday   \n",
       "160000095          ASSAULT     INFLICT INJURY ON COHABITEE  Thursday   \n",
       "160038137   OTHER OFFENSES  VIOLATION OF RESTRAINING ORDER  Thursday   \n",
       "166002930     NON-CRIMINAL                   LOST PROPERTY  Thursday   \n",
       "\n",
       "                  Date   Time PdDistrict  Resolution           X          Y  \\\n",
       "IncidntNum                                                                    \n",
       "160000108   12/31/2015  23:58   Otisburg           1 -122.403405  37.775421   \n",
       "166004914   12/31/2015  23:55   Otisburg           0 -122.411626  37.778590   \n",
       "160000095   12/31/2015  23:54    Burnley           1 -122.404263  37.711339   \n",
       "160038137   12/31/2015  23:51    Burnley           0 -122.420557  37.710895   \n",
       "166002930   12/31/2015  23:50   East End           0 -122.415844  37.787402   \n",
       "\n",
       "                                         Location  \n",
       "IncidntNum                                         \n",
       "160000108    (37.775420706711, -122.403404791479)  \n",
       "166004914   (37.7785895740312, -122.411626152299)  \n",
       "160000095   (37.7113387848327, -122.404262861765)  \n",
       "160038137   (37.7108945814914, -122.420556751442)  \n",
       "166002930    (37.7874017655636, -122.41584375719)  "
      ]
     },
     "execution_count": 114,
     "metadata": {},
     "output_type": "execute_result"
    }
   ],
   "source": [
    "data.head()"
   ]
  },
  {
   "cell_type": "code",
   "execution_count": 98,
   "metadata": {
    "collapsed": false
   },
   "outputs": [
    {
     "data": {
      "text/plain": [
       "Category       object\n",
       "Descript       object\n",
       "DayOfWeek      object\n",
       "Date           object\n",
       "Time           object\n",
       "PdDistrict     object\n",
       "Resolution      int64\n",
       "X             float64\n",
       "Y             float64\n",
       "Location       object\n",
       "dtype: object"
      ]
     },
     "execution_count": 98,
     "metadata": {},
     "output_type": "execute_result"
    }
   ],
   "source": [
    "data.dtypes"
   ]
  },
  {
   "cell_type": "markdown",
   "metadata": {
    "collapsed": false
   },
   "source": [
    "*** Replace a San f PdDistrict with Gotham city district *** (<a>https://en.wikipedia.org/wiki/Gotham_City</a>)"
   ]
  },
  {
   "cell_type": "code",
   "execution_count": 99,
   "metadata": {
    "collapsed": false
   },
   "outputs": [
    {
     "data": {
      "text/plain": [
       "array(['SOUTHERN', 'INGLESIDE', 'CENTRAL', 'BAYVIEW', 'PARK', 'NORTHERN',\n",
       "       'MISSION', 'TENDERLOIN', 'TARAVAL', 'RICHMOND'], dtype=object)"
      ]
     },
     "execution_count": 99,
     "metadata": {},
     "output_type": "execute_result"
    }
   ],
   "source": [
    "data['PdDistrict'].unique()"
   ]
  },
  {
   "cell_type": "code",
   "execution_count": 100,
   "metadata": {
    "collapsed": true
   },
   "outputs": [],
   "source": [
    "data = data.replace(to_replace=\"SOUTHERN\", value=\"Otisburg\")\n",
    "data = data.replace(to_replace=\"INGLESIDE\", value=\"Burnley\")\n",
    "data = data.replace(to_replace=\"CENTRAL\", value=\"East End\")\n",
    "data = data.replace(to_replace=\"BAYVIEW\", value=\"Old Gotham\")\n",
    "data = data.replace(to_replace=\"PARK\", value=\"Robinson Park\")\n",
    "data = data.replace(to_replace=\"NORTHERN\", value=\"Chinatown\")\n",
    "data = data.replace(to_replace=\"MISSION\", value=\"Bristol County\")\n",
    "data = data.replace(to_replace=\"TENDERLOIN\", value=\"The Bowery\")\n",
    "data = data.replace(to_replace=\"TARAVAL\", value=\"Diamond\")\n",
    "data = data.replace(to_replace=\"RICHMOND\", value=\"Falcone Penthouse\")"
   ]
  },
  {
   "cell_type": "code",
   "execution_count": 101,
   "metadata": {
    "collapsed": false
   },
   "outputs": [
    {
     "data": {
      "text/html": [
       "<div>\n",
       "<table border=\"1\" class=\"dataframe\">\n",
       "  <thead>\n",
       "    <tr style=\"text-align: right;\">\n",
       "      <th></th>\n",
       "      <th>Category</th>\n",
       "      <th>Descript</th>\n",
       "      <th>DayOfWeek</th>\n",
       "      <th>Date</th>\n",
       "      <th>Time</th>\n",
       "      <th>PdDistrict</th>\n",
       "      <th>Resolution</th>\n",
       "      <th>X</th>\n",
       "      <th>Y</th>\n",
       "      <th>Location</th>\n",
       "    </tr>\n",
       "    <tr>\n",
       "      <th>IncidntNum</th>\n",
       "      <th></th>\n",
       "      <th></th>\n",
       "      <th></th>\n",
       "      <th></th>\n",
       "      <th></th>\n",
       "      <th></th>\n",
       "      <th></th>\n",
       "      <th></th>\n",
       "      <th></th>\n",
       "      <th></th>\n",
       "    </tr>\n",
       "  </thead>\n",
       "  <tbody>\n",
       "    <tr>\n",
       "      <th>160000108</th>\n",
       "      <td>ASSAULT</td>\n",
       "      <td>BATTERY</td>\n",
       "      <td>Thursday</td>\n",
       "      <td>12/31/2015</td>\n",
       "      <td>23:58</td>\n",
       "      <td>Otisburg</td>\n",
       "      <td>1</td>\n",
       "      <td>-122.403405</td>\n",
       "      <td>37.775421</td>\n",
       "      <td>(37.775420706711, -122.403404791479)</td>\n",
       "    </tr>\n",
       "    <tr>\n",
       "      <th>166004914</th>\n",
       "      <td>VANDALISM</td>\n",
       "      <td>MALICIOUS MISCHIEF, VANDALISM</td>\n",
       "      <td>Thursday</td>\n",
       "      <td>12/31/2015</td>\n",
       "      <td>23:55</td>\n",
       "      <td>Otisburg</td>\n",
       "      <td>0</td>\n",
       "      <td>-122.411626</td>\n",
       "      <td>37.778590</td>\n",
       "      <td>(37.7785895740312, -122.411626152299)</td>\n",
       "    </tr>\n",
       "    <tr>\n",
       "      <th>160000095</th>\n",
       "      <td>ASSAULT</td>\n",
       "      <td>INFLICT INJURY ON COHABITEE</td>\n",
       "      <td>Thursday</td>\n",
       "      <td>12/31/2015</td>\n",
       "      <td>23:54</td>\n",
       "      <td>Burnley</td>\n",
       "      <td>1</td>\n",
       "      <td>-122.404263</td>\n",
       "      <td>37.711339</td>\n",
       "      <td>(37.7113387848327, -122.404262861765)</td>\n",
       "    </tr>\n",
       "    <tr>\n",
       "      <th>160038137</th>\n",
       "      <td>OTHER OFFENSES</td>\n",
       "      <td>VIOLATION OF RESTRAINING ORDER</td>\n",
       "      <td>Thursday</td>\n",
       "      <td>12/31/2015</td>\n",
       "      <td>23:51</td>\n",
       "      <td>Burnley</td>\n",
       "      <td>0</td>\n",
       "      <td>-122.420557</td>\n",
       "      <td>37.710895</td>\n",
       "      <td>(37.7108945814914, -122.420556751442)</td>\n",
       "    </tr>\n",
       "    <tr>\n",
       "      <th>166002930</th>\n",
       "      <td>NON-CRIMINAL</td>\n",
       "      <td>LOST PROPERTY</td>\n",
       "      <td>Thursday</td>\n",
       "      <td>12/31/2015</td>\n",
       "      <td>23:50</td>\n",
       "      <td>East End</td>\n",
       "      <td>0</td>\n",
       "      <td>-122.415844</td>\n",
       "      <td>37.787402</td>\n",
       "      <td>(37.7874017655636, -122.41584375719)</td>\n",
       "    </tr>\n",
       "  </tbody>\n",
       "</table>\n",
       "</div>"
      ],
      "text/plain": [
       "                  Category                        Descript DayOfWeek  \\\n",
       "IncidntNum                                                             \n",
       "160000108          ASSAULT                         BATTERY  Thursday   \n",
       "166004914        VANDALISM   MALICIOUS MISCHIEF, VANDALISM  Thursday   \n",
       "160000095          ASSAULT     INFLICT INJURY ON COHABITEE  Thursday   \n",
       "160038137   OTHER OFFENSES  VIOLATION OF RESTRAINING ORDER  Thursday   \n",
       "166002930     NON-CRIMINAL                   LOST PROPERTY  Thursday   \n",
       "\n",
       "                  Date   Time PdDistrict  Resolution           X          Y  \\\n",
       "IncidntNum                                                                    \n",
       "160000108   12/31/2015  23:58   Otisburg           1 -122.403405  37.775421   \n",
       "166004914   12/31/2015  23:55   Otisburg           0 -122.411626  37.778590   \n",
       "160000095   12/31/2015  23:54    Burnley           1 -122.404263  37.711339   \n",
       "160038137   12/31/2015  23:51    Burnley           0 -122.420557  37.710895   \n",
       "166002930   12/31/2015  23:50   East End           0 -122.415844  37.787402   \n",
       "\n",
       "                                         Location  \n",
       "IncidntNum                                         \n",
       "160000108    (37.775420706711, -122.403404791479)  \n",
       "166004914   (37.7785895740312, -122.411626152299)  \n",
       "160000095   (37.7113387848327, -122.404262861765)  \n",
       "160038137   (37.7108945814914, -122.420556751442)  \n",
       "166002930    (37.7874017655636, -122.41584375719)  "
      ]
     },
     "execution_count": 101,
     "metadata": {},
     "output_type": "execute_result"
    }
   ],
   "source": [
    "data.head()"
   ]
  },
  {
   "cell_type": "markdown",
   "metadata": {},
   "source": [
    "# Save a new data "
   ]
  },
  {
   "cell_type": "code",
   "execution_count": 117,
   "metadata": {
    "collapsed": true
   },
   "outputs": [],
   "source": [
    "data = data.reset_index()"
   ]
  },
  {
   "cell_type": "code",
   "execution_count": 118,
   "metadata": {
    "collapsed": true
   },
   "outputs": [],
   "source": [
    "data.to_csv('data/out.csv')"
   ]
  },
  {
   "cell_type": "markdown",
   "metadata": {},
   "source": [
    "### A baseline\n"
   ]
  },
  {
   "cell_type": "code",
   "execution_count": null,
   "metadata": {
    "collapsed": true
   },
   "outputs": [],
   "source": []
  },
  {
   "cell_type": "code",
   "execution_count": 119,
   "metadata": {
    "collapsed": false
   },
   "outputs": [],
   "source": [
    "data_encoded = data\n"
   ]
  },
  {
   "cell_type": "code",
   "execution_count": 120,
   "metadata": {
    "collapsed": false
   },
   "outputs": [],
   "source": [
    "features = data_encoded.drop(['Resolution'], axis=1)\n",
    "X_columns = data_encoded.columns.drop(['Resolution'])\n",
    "X = features.values\n",
    "y = data_encoded['Resolution'].values"
   ]
  },
  {
   "cell_type": "code",
   "execution_count": 121,
   "metadata": {
    "collapsed": false
   },
   "outputs": [],
   "source": [
    "from sklearn.cross_validation import train_test_split\n",
    "from sklearn import cross_validation\n",
    "\n",
    "X_train, X_test, y_train, y_test = train_test_split(\n",
    "    X, y, test_size=0.2, random_state=0)"
   ]
  },
  {
   "cell_type": "code",
   "execution_count": 122,
   "metadata": {
    "collapsed": false,
    "scrolled": true
   },
   "outputs": [],
   "source": [
    "from sklearn.linear_model import LogisticRegression\n",
    "reg = LogisticRegression(multi_class='ovr')"
   ]
  },
  {
   "cell_type": "code",
   "execution_count": null,
   "metadata": {
    "collapsed": false,
    "scrolled": true
   },
   "outputs": [],
   "source": [
    "\n",
    "\n"
   ]
  },
  {
   "cell_type": "code",
   "execution_count": null,
   "metadata": {
    "collapsed": true
   },
   "outputs": [],
   "source": []
  },
  {
   "cell_type": "code",
   "execution_count": null,
   "metadata": {
    "collapsed": true
   },
   "outputs": [],
   "source": []
  },
  {
   "cell_type": "code",
   "execution_count": null,
   "metadata": {
    "collapsed": true
   },
   "outputs": [],
   "source": []
  }
 ],
 "metadata": {
  "kernelspec": {
   "display_name": "Python 2",
   "language": "python",
   "name": "python2"
  },
  "language_info": {
   "codemirror_mode": {
    "name": "ipython",
    "version": 2
   },
   "file_extension": ".py",
   "mimetype": "text/x-python",
   "name": "python",
   "nbconvert_exporter": "python",
   "pygments_lexer": "ipython2",
   "version": "2.7.11"
  }
 },
 "nbformat": 4,
 "nbformat_minor": 0
}
