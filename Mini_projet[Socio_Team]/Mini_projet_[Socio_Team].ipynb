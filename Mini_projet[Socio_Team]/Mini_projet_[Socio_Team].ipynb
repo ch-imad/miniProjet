{
 "cells": [
  {
   "cell_type": "markdown",
   "metadata": {
    "collapsed": true
   },
   "source": [
    "# Challenge on predicting of resolvability of crimes for BATMAN\n"
   ]
  },
  {
   "cell_type": "markdown",
   "metadata": {},
   "source": [
    "### Socio Team  or \"Bat\"Team "
   ]
  },
  {
   "cell_type": "markdown",
   "metadata": {},
   "source": [
    "<i>Goukam , Imad , Mohamed , Nassim (M2 AIC Paris_Sud) </i>"
   ]
  },
  {
   "cell_type": "markdown",
   "metadata": {},
   "source": [
    "## Introduction\n",
    "The data set was download in this url:<a>https://data.sfgov.org/Public-Safety/SFPD-Incidents-Current-Year-2015-/ritf-b9ki</a>. \n",
    "The data is thin, it contains\n",
    "\n",
    "* Dates - timestamp of the crime incident\n",
    "* Category - category of the crime incident (only in train.csv). This is the target variable you are going to predict.\n",
    "* Descript - detailed description of the crime incident (only in train.csv)\n",
    "* DayOfWeek - the day of the week\n",
    "* PdDistrict - name of the Police Department District\n",
    "* Resolution - how the crime incident was resolved (only in train.csv)\n",
    "* Address - the approximate street address of the crime incident \n",
    "* X - Longitude\n",
    "* Y - Latitude\n",
    "\n",
    "\n",
    "\n",
    "\n",
    "** The goal is to predict the <code>Resolution</code> column. The prediction quality is measured by RMSE**. \n",
    "\n"
   ]
  },
  {
   "cell_type": "code",
   "execution_count": 189,
   "metadata": {
    "collapsed": false
   },
   "outputs": [],
   "source": [
    "%matplotlib inline\n",
    "import numpy as np\n",
    "import pandas as pd\n",
    "import matplotlib.pyplot as plt\n",
    "import seaborn as sns; sns.set()"
   ]
  },
  {
   "cell_type": "markdown",
   "metadata": {},
   "source": [
    "## Fetch the data and load it in pandas"
   ]
  },
  {
   "cell_type": "code",
   "execution_count": 190,
   "metadata": {
    "collapsed": false
   },
   "outputs": [],
   "source": [
    "import os"
   ]
  },
  {
   "cell_type": "code",
   "execution_count": 191,
   "metadata": {
    "collapsed": false
   },
   "outputs": [],
   "source": [
    "local_filename = 'data/original_data.csv'\n",
    "data = pd.read_csv(local_filename, index_col=0)"
   ]
  },
  {
   "cell_type": "code",
   "execution_count": 192,
   "metadata": {
    "collapsed": false
   },
   "outputs": [
    {
     "data": {
      "text/plain": [
       "(153618, 11)"
      ]
     },
     "execution_count": 192,
     "metadata": {},
     "output_type": "execute_result"
    }
   ],
   "source": [
    "data.shape"
   ]
  },
  {
   "cell_type": "code",
   "execution_count": 193,
   "metadata": {
    "collapsed": false
   },
   "outputs": [
    {
     "data": {
      "text/plain": [
       "array(['Category', 'Descript', 'DayOfWeek', 'Date', 'Time', 'PdDistrict',\n",
       "       'Resolution', 'Address', 'X', 'Y', 'Location'], dtype=object)"
      ]
     },
     "execution_count": 193,
     "metadata": {},
     "output_type": "execute_result"
    }
   ],
   "source": [
    "data.columns.values\n"
   ]
  },
  {
   "cell_type": "code",
   "execution_count": 194,
   "metadata": {
    "collapsed": false
   },
   "outputs": [
    {
     "data": {
      "text/html": [
       "<div>\n",
       "<table border=\"1\" class=\"dataframe\">\n",
       "  <thead>\n",
       "    <tr style=\"text-align: right;\">\n",
       "      <th></th>\n",
       "      <th>Category</th>\n",
       "      <th>Descript</th>\n",
       "      <th>DayOfWeek</th>\n",
       "      <th>Date</th>\n",
       "      <th>Time</th>\n",
       "      <th>PdDistrict</th>\n",
       "      <th>Resolution</th>\n",
       "      <th>Address</th>\n",
       "      <th>X</th>\n",
       "      <th>Y</th>\n",
       "      <th>Location</th>\n",
       "    </tr>\n",
       "    <tr>\n",
       "      <th>IncidntNum</th>\n",
       "      <th></th>\n",
       "      <th></th>\n",
       "      <th></th>\n",
       "      <th></th>\n",
       "      <th></th>\n",
       "      <th></th>\n",
       "      <th></th>\n",
       "      <th></th>\n",
       "      <th></th>\n",
       "      <th></th>\n",
       "      <th></th>\n",
       "    </tr>\n",
       "  </thead>\n",
       "  <tbody>\n",
       "    <tr>\n",
       "      <th>160000108</th>\n",
       "      <td>ASSAULT</td>\n",
       "      <td>BATTERY</td>\n",
       "      <td>Thursday</td>\n",
       "      <td>12/31/2015</td>\n",
       "      <td>23:58</td>\n",
       "      <td>SOUTHERN</td>\n",
       "      <td>ARREST, BOOKED</td>\n",
       "      <td>800 Block of BRYANT ST</td>\n",
       "      <td>-122.403405</td>\n",
       "      <td>37.775421</td>\n",
       "      <td>(37.775420706711, -122.403404791479)</td>\n",
       "    </tr>\n",
       "    <tr>\n",
       "      <th>166004914</th>\n",
       "      <td>VANDALISM</td>\n",
       "      <td>MALICIOUS MISCHIEF, VANDALISM</td>\n",
       "      <td>Thursday</td>\n",
       "      <td>12/31/2015</td>\n",
       "      <td>23:55</td>\n",
       "      <td>SOUTHERN</td>\n",
       "      <td>NONE</td>\n",
       "      <td>1100 Block of MISSION ST</td>\n",
       "      <td>-122.411626</td>\n",
       "      <td>37.778590</td>\n",
       "      <td>(37.7785895740312, -122.411626152299)</td>\n",
       "    </tr>\n",
       "    <tr>\n",
       "      <th>160000095</th>\n",
       "      <td>ASSAULT</td>\n",
       "      <td>INFLICT INJURY ON COHABITEE</td>\n",
       "      <td>Thursday</td>\n",
       "      <td>12/31/2015</td>\n",
       "      <td>23:54</td>\n",
       "      <td>INGLESIDE</td>\n",
       "      <td>ARREST, BOOKED</td>\n",
       "      <td>0 Block of LELAND AV</td>\n",
       "      <td>-122.404263</td>\n",
       "      <td>37.711339</td>\n",
       "      <td>(37.7113387848327, -122.404262861765)</td>\n",
       "    </tr>\n",
       "    <tr>\n",
       "      <th>160038137</th>\n",
       "      <td>OTHER OFFENSES</td>\n",
       "      <td>VIOLATION OF RESTRAINING ORDER</td>\n",
       "      <td>Thursday</td>\n",
       "      <td>12/31/2015</td>\n",
       "      <td>23:51</td>\n",
       "      <td>INGLESIDE</td>\n",
       "      <td>NONE</td>\n",
       "      <td>200 Block of BLYTHDALE AV</td>\n",
       "      <td>-122.420557</td>\n",
       "      <td>37.710895</td>\n",
       "      <td>(37.7108945814914, -122.420556751442)</td>\n",
       "    </tr>\n",
       "    <tr>\n",
       "      <th>166002930</th>\n",
       "      <td>NON-CRIMINAL</td>\n",
       "      <td>LOST PROPERTY</td>\n",
       "      <td>Thursday</td>\n",
       "      <td>12/31/2015</td>\n",
       "      <td>23:50</td>\n",
       "      <td>CENTRAL</td>\n",
       "      <td>NONE</td>\n",
       "      <td>800 Block of POST ST</td>\n",
       "      <td>-122.415844</td>\n",
       "      <td>37.787402</td>\n",
       "      <td>(37.7874017655636, -122.41584375719)</td>\n",
       "    </tr>\n",
       "  </tbody>\n",
       "</table>\n",
       "</div>"
      ],
      "text/plain": [
       "                  Category                        Descript DayOfWeek  \\\n",
       "IncidntNum                                                             \n",
       "160000108          ASSAULT                         BATTERY  Thursday   \n",
       "166004914        VANDALISM   MALICIOUS MISCHIEF, VANDALISM  Thursday   \n",
       "160000095          ASSAULT     INFLICT INJURY ON COHABITEE  Thursday   \n",
       "160038137   OTHER OFFENSES  VIOLATION OF RESTRAINING ORDER  Thursday   \n",
       "166002930     NON-CRIMINAL                   LOST PROPERTY  Thursday   \n",
       "\n",
       "                  Date   Time PdDistrict      Resolution  \\\n",
       "IncidntNum                                                 \n",
       "160000108   12/31/2015  23:58   SOUTHERN  ARREST, BOOKED   \n",
       "166004914   12/31/2015  23:55   SOUTHERN            NONE   \n",
       "160000095   12/31/2015  23:54  INGLESIDE  ARREST, BOOKED   \n",
       "160038137   12/31/2015  23:51  INGLESIDE            NONE   \n",
       "166002930   12/31/2015  23:50    CENTRAL            NONE   \n",
       "\n",
       "                              Address           X          Y  \\\n",
       "IncidntNum                                                     \n",
       "160000108      800 Block of BRYANT ST -122.403405  37.775421   \n",
       "166004914    1100 Block of MISSION ST -122.411626  37.778590   \n",
       "160000095        0 Block of LELAND AV -122.404263  37.711339   \n",
       "160038137   200 Block of BLYTHDALE AV -122.420557  37.710895   \n",
       "166002930        800 Block of POST ST -122.415844  37.787402   \n",
       "\n",
       "                                         Location  \n",
       "IncidntNum                                         \n",
       "160000108    (37.775420706711, -122.403404791479)  \n",
       "166004914   (37.7785895740312, -122.411626152299)  \n",
       "160000095   (37.7113387848327, -122.404262861765)  \n",
       "160038137   (37.7108945814914, -122.420556751442)  \n",
       "166002930    (37.7874017655636, -122.41584375719)  "
      ]
     },
     "execution_count": 194,
     "metadata": {},
     "output_type": "execute_result"
    }
   ],
   "source": [
    "data.head()"
   ]
  },
  {
   "cell_type": "code",
   "execution_count": 195,
   "metadata": {
    "collapsed": false,
    "scrolled": true
   },
   "outputs": [
    {
     "name": "stdout",
     "output_type": "stream",
     "text": [
      "01/01/2015\n",
      "12/31/2015\n"
     ]
    }
   ],
   "source": [
    "print min(data['Date'])\n",
    "print max(data['Date'])"
   ]
  },
  {
   "cell_type": "code",
   "execution_count": 196,
   "metadata": {
    "collapsed": false
   },
   "outputs": [
    {
     "data": {
      "text/plain": [
       "array(['SOUTHERN', 'INGLESIDE', 'CENTRAL', 'BAYVIEW', 'PARK', 'NORTHERN',\n",
       "       'MISSION', 'TENDERLOIN', 'TARAVAL', 'RICHMOND'], dtype=object)"
      ]
     },
     "execution_count": 196,
     "metadata": {},
     "output_type": "execute_result"
    }
   ],
   "source": [
    "data['PdDistrict'].unique()"
   ]
  },
  {
   "cell_type": "code",
   "execution_count": 197,
   "metadata": {
    "collapsed": false
   },
   "outputs": [
    {
     "data": {
      "text/plain": [
       "array(['ASSAULT', 'VANDALISM', 'OTHER OFFENSES', 'NON-CRIMINAL',\n",
       "       'LARCENY/THEFT', 'VEHICLE THEFT', 'BURGLARY', 'ROBBERY', 'WARRANTS',\n",
       "       'SUSPICIOUS OCC', 'WEAPON LAWS', 'DRUNKENNESS', 'TRESPASS',\n",
       "       'FORGERY/COUNTERFEITING', 'DRUG/NARCOTIC', 'MISSING PERSON',\n",
       "       'SECONDARY CODES', 'FRAUD', 'EMBEZZLEMENT',\n",
       "       'SEX OFFENSES, FORCIBLE', 'BRIBERY', 'STOLEN PROPERTY',\n",
       "       'DISORDERLY CONDUCT', 'ARSON', 'FAMILY OFFENSES', 'RUNAWAY',\n",
       "       'DRIVING UNDER THE INFLUENCE', 'KIDNAPPING', 'PROSTITUTION',\n",
       "       'SUICIDE', 'LIQUOR LAWS', 'EXTORTION', 'GAMBLING', 'BAD CHECKS',\n",
       "       'SEX OFFENSES, NON FORCIBLE', 'LOITERING',\n",
       "       'PORNOGRAPHY/OBSCENE MAT', 'TREA'], dtype=object)"
      ]
     },
     "execution_count": 197,
     "metadata": {},
     "output_type": "execute_result"
    }
   ],
   "source": [
    "data['Category'].unique()"
   ]
  },
  {
   "cell_type": "code",
   "execution_count": 198,
   "metadata": {
    "collapsed": false,
    "scrolled": true
   },
   "outputs": [
    {
     "data": {
      "text/html": [
       "<div>\n",
       "<table border=\"1\" class=\"dataframe\">\n",
       "  <thead>\n",
       "    <tr style=\"text-align: right;\">\n",
       "      <th></th>\n",
       "      <th>Category</th>\n",
       "      <th>Descript</th>\n",
       "      <th>DayOfWeek</th>\n",
       "      <th>Date</th>\n",
       "      <th>Time</th>\n",
       "      <th>PdDistrict</th>\n",
       "      <th>Resolution</th>\n",
       "      <th>Address</th>\n",
       "      <th>X</th>\n",
       "      <th>Y</th>\n",
       "      <th>Location</th>\n",
       "    </tr>\n",
       "    <tr>\n",
       "      <th>IncidntNum</th>\n",
       "      <th></th>\n",
       "      <th></th>\n",
       "      <th></th>\n",
       "      <th></th>\n",
       "      <th></th>\n",
       "      <th></th>\n",
       "      <th></th>\n",
       "      <th></th>\n",
       "      <th></th>\n",
       "      <th></th>\n",
       "      <th></th>\n",
       "    </tr>\n",
       "  </thead>\n",
       "  <tbody>\n",
       "    <tr>\n",
       "      <th>160000108</th>\n",
       "      <td>ASSAULT</td>\n",
       "      <td>BATTERY</td>\n",
       "      <td>Thursday</td>\n",
       "      <td>12/31/2015</td>\n",
       "      <td>23:58</td>\n",
       "      <td>SOUTHERN</td>\n",
       "      <td>ARREST, BOOKED</td>\n",
       "      <td>800 Block of BRYANT ST</td>\n",
       "      <td>-122.403405</td>\n",
       "      <td>37.775421</td>\n",
       "      <td>(37.775420706711, -122.403404791479)</td>\n",
       "    </tr>\n",
       "    <tr>\n",
       "      <th>166004914</th>\n",
       "      <td>VANDALISM</td>\n",
       "      <td>MALICIOUS MISCHIEF, VANDALISM</td>\n",
       "      <td>Thursday</td>\n",
       "      <td>12/31/2015</td>\n",
       "      <td>23:55</td>\n",
       "      <td>SOUTHERN</td>\n",
       "      <td>NONE</td>\n",
       "      <td>1100 Block of MISSION ST</td>\n",
       "      <td>-122.411626</td>\n",
       "      <td>37.778590</td>\n",
       "      <td>(37.7785895740312, -122.411626152299)</td>\n",
       "    </tr>\n",
       "    <tr>\n",
       "      <th>160000095</th>\n",
       "      <td>ASSAULT</td>\n",
       "      <td>INFLICT INJURY ON COHABITEE</td>\n",
       "      <td>Thursday</td>\n",
       "      <td>12/31/2015</td>\n",
       "      <td>23:54</td>\n",
       "      <td>INGLESIDE</td>\n",
       "      <td>ARREST, BOOKED</td>\n",
       "      <td>0 Block of LELAND AV</td>\n",
       "      <td>-122.404263</td>\n",
       "      <td>37.711339</td>\n",
       "      <td>(37.7113387848327, -122.404262861765)</td>\n",
       "    </tr>\n",
       "    <tr>\n",
       "      <th>160038137</th>\n",
       "      <td>OTHER OFFENSES</td>\n",
       "      <td>VIOLATION OF RESTRAINING ORDER</td>\n",
       "      <td>Thursday</td>\n",
       "      <td>12/31/2015</td>\n",
       "      <td>23:51</td>\n",
       "      <td>INGLESIDE</td>\n",
       "      <td>NONE</td>\n",
       "      <td>200 Block of BLYTHDALE AV</td>\n",
       "      <td>-122.420557</td>\n",
       "      <td>37.710895</td>\n",
       "      <td>(37.7108945814914, -122.420556751442)</td>\n",
       "    </tr>\n",
       "    <tr>\n",
       "      <th>166002930</th>\n",
       "      <td>NON-CRIMINAL</td>\n",
       "      <td>LOST PROPERTY</td>\n",
       "      <td>Thursday</td>\n",
       "      <td>12/31/2015</td>\n",
       "      <td>23:50</td>\n",
       "      <td>CENTRAL</td>\n",
       "      <td>NONE</td>\n",
       "      <td>800 Block of POST ST</td>\n",
       "      <td>-122.415844</td>\n",
       "      <td>37.787402</td>\n",
       "      <td>(37.7874017655636, -122.41584375719)</td>\n",
       "    </tr>\n",
       "  </tbody>\n",
       "</table>\n",
       "</div>"
      ],
      "text/plain": [
       "                  Category                        Descript DayOfWeek  \\\n",
       "IncidntNum                                                             \n",
       "160000108          ASSAULT                         BATTERY  Thursday   \n",
       "166004914        VANDALISM   MALICIOUS MISCHIEF, VANDALISM  Thursday   \n",
       "160000095          ASSAULT     INFLICT INJURY ON COHABITEE  Thursday   \n",
       "160038137   OTHER OFFENSES  VIOLATION OF RESTRAINING ORDER  Thursday   \n",
       "166002930     NON-CRIMINAL                   LOST PROPERTY  Thursday   \n",
       "\n",
       "                  Date   Time PdDistrict      Resolution  \\\n",
       "IncidntNum                                                 \n",
       "160000108   12/31/2015  23:58   SOUTHERN  ARREST, BOOKED   \n",
       "166004914   12/31/2015  23:55   SOUTHERN            NONE   \n",
       "160000095   12/31/2015  23:54  INGLESIDE  ARREST, BOOKED   \n",
       "160038137   12/31/2015  23:51  INGLESIDE            NONE   \n",
       "166002930   12/31/2015  23:50    CENTRAL            NONE   \n",
       "\n",
       "                              Address           X          Y  \\\n",
       "IncidntNum                                                     \n",
       "160000108      800 Block of BRYANT ST -122.403405  37.775421   \n",
       "166004914    1100 Block of MISSION ST -122.411626  37.778590   \n",
       "160000095        0 Block of LELAND AV -122.404263  37.711339   \n",
       "160038137   200 Block of BLYTHDALE AV -122.420557  37.710895   \n",
       "166002930        800 Block of POST ST -122.415844  37.787402   \n",
       "\n",
       "                                         Location  \n",
       "IncidntNum                                         \n",
       "160000108    (37.775420706711, -122.403404791479)  \n",
       "166004914   (37.7785895740312, -122.411626152299)  \n",
       "160000095   (37.7113387848327, -122.404262861765)  \n",
       "160038137   (37.7108945814914, -122.420556751442)  \n",
       "166002930    (37.7874017655636, -122.41584375719)  "
      ]
     },
     "execution_count": 198,
     "metadata": {},
     "output_type": "execute_result"
    }
   ],
   "source": [
    "data.head()"
   ]
  },
  {
   "cell_type": "code",
   "execution_count": 199,
   "metadata": {
    "collapsed": false
   },
   "outputs": [
    {
     "data": {
      "text/plain": [
       "array(['ARREST, BOOKED', 'NONE', 'UNFOUNDED', 'ARREST, CITED',\n",
       "       'JUVENILE BOOKED', 'EXCEPTIONAL CLEARANCE', 'PSYCHOPATHIC CASE',\n",
       "       'NOT PROSECUTED', 'LOCATED',\n",
       "       'CLEARED-CONTACT JUVENILE FOR MORE INFO', 'JUVENILE DIVERTED',\n",
       "       'JUVENILE CITED', 'COMPLAINANT REFUSES TO PROSECUTE',\n",
       "       'JUVENILE ADMONISHED'], dtype=object)"
      ]
     },
     "execution_count": 199,
     "metadata": {},
     "output_type": "execute_result"
    }
   ],
   "source": [
    "data['Resolution'].unique()"
   ]
  },
  {
   "cell_type": "code",
   "execution_count": 200,
   "metadata": {
    "collapsed": false
   },
   "outputs": [],
   "source": [
    "data = data.replace(to_replace=\"ARREST, BOOKED\", value=1)\n",
    "data = data.replace(to_replace=\"ARREST, CITED\", value=1)\n",
    "data = data.replace(to_replace=\"NONE\", value=0)\n",
    "data = data.replace(to_replace=\"UNFOUNDED\", value=0)\n",
    "data = data.replace(to_replace=\"JUVENILE BOOKED\", value=0)\n",
    "data = data.replace(to_replace=\"EXCEPTIONAL CLEARANCE\", value=0)\n",
    "data = data.replace(to_replace=\"PSYCHOPATHIC CASE\", value=0)\n",
    "data = data.replace(to_replace=\"NOT PROSECUTED\", value=0)\n",
    "data = data.replace(to_replace=\"LOCATED\", value=0)\n",
    "data = data.replace(to_replace=\"CLEARED-CONTACT JUVENILE FOR MORE INFO\", value=0)\n",
    "data = data.replace(to_replace=\"COMPLAINANT REFUSES TO PROSECUTE\", value=0)\n",
    "data = data.replace(to_replace=\"JUVENILE ADMONISHED\", value=0)\n",
    "data = data.replace(to_replace=\"JUVENILE DIVERTED\", value=0)\n",
    "data = data.replace(to_replace=\"JUVENILE CITED\", value=0)\n"
   ]
  },
  {
   "cell_type": "markdown",
   "metadata": {},
   "source": [
    "*** Remove a \"Address\" To samplifier***"
   ]
  },
  {
   "cell_type": "code",
   "execution_count": 201,
   "metadata": {
    "collapsed": false
   },
   "outputs": [],
   "source": [
    "data = data.drop('Address', 1)\n",
    "data = data.drop('Location', 1)\n"
   ]
  },
  {
   "cell_type": "code",
   "execution_count": 202,
   "metadata": {
    "collapsed": false
   },
   "outputs": [
    {
     "data": {
      "text/html": [
       "<div>\n",
       "<table border=\"1\" class=\"dataframe\">\n",
       "  <thead>\n",
       "    <tr style=\"text-align: right;\">\n",
       "      <th></th>\n",
       "      <th>Category</th>\n",
       "      <th>Descript</th>\n",
       "      <th>DayOfWeek</th>\n",
       "      <th>Date</th>\n",
       "      <th>Time</th>\n",
       "      <th>PdDistrict</th>\n",
       "      <th>Resolution</th>\n",
       "      <th>X</th>\n",
       "      <th>Y</th>\n",
       "    </tr>\n",
       "    <tr>\n",
       "      <th>IncidntNum</th>\n",
       "      <th></th>\n",
       "      <th></th>\n",
       "      <th></th>\n",
       "      <th></th>\n",
       "      <th></th>\n",
       "      <th></th>\n",
       "      <th></th>\n",
       "      <th></th>\n",
       "      <th></th>\n",
       "    </tr>\n",
       "  </thead>\n",
       "  <tbody>\n",
       "    <tr>\n",
       "      <th>160000108</th>\n",
       "      <td>ASSAULT</td>\n",
       "      <td>BATTERY</td>\n",
       "      <td>Thursday</td>\n",
       "      <td>12/31/2015</td>\n",
       "      <td>23:58</td>\n",
       "      <td>SOUTHERN</td>\n",
       "      <td>1</td>\n",
       "      <td>-122.403405</td>\n",
       "      <td>37.775421</td>\n",
       "    </tr>\n",
       "    <tr>\n",
       "      <th>166004914</th>\n",
       "      <td>VANDALISM</td>\n",
       "      <td>MALICIOUS MISCHIEF, VANDALISM</td>\n",
       "      <td>Thursday</td>\n",
       "      <td>12/31/2015</td>\n",
       "      <td>23:55</td>\n",
       "      <td>SOUTHERN</td>\n",
       "      <td>0</td>\n",
       "      <td>-122.411626</td>\n",
       "      <td>37.778590</td>\n",
       "    </tr>\n",
       "    <tr>\n",
       "      <th>160000095</th>\n",
       "      <td>ASSAULT</td>\n",
       "      <td>INFLICT INJURY ON COHABITEE</td>\n",
       "      <td>Thursday</td>\n",
       "      <td>12/31/2015</td>\n",
       "      <td>23:54</td>\n",
       "      <td>INGLESIDE</td>\n",
       "      <td>1</td>\n",
       "      <td>-122.404263</td>\n",
       "      <td>37.711339</td>\n",
       "    </tr>\n",
       "    <tr>\n",
       "      <th>160038137</th>\n",
       "      <td>OTHER OFFENSES</td>\n",
       "      <td>VIOLATION OF RESTRAINING ORDER</td>\n",
       "      <td>Thursday</td>\n",
       "      <td>12/31/2015</td>\n",
       "      <td>23:51</td>\n",
       "      <td>INGLESIDE</td>\n",
       "      <td>0</td>\n",
       "      <td>-122.420557</td>\n",
       "      <td>37.710895</td>\n",
       "    </tr>\n",
       "    <tr>\n",
       "      <th>166002930</th>\n",
       "      <td>NON-CRIMINAL</td>\n",
       "      <td>LOST PROPERTY</td>\n",
       "      <td>Thursday</td>\n",
       "      <td>12/31/2015</td>\n",
       "      <td>23:50</td>\n",
       "      <td>CENTRAL</td>\n",
       "      <td>0</td>\n",
       "      <td>-122.415844</td>\n",
       "      <td>37.787402</td>\n",
       "    </tr>\n",
       "  </tbody>\n",
       "</table>\n",
       "</div>"
      ],
      "text/plain": [
       "                  Category                        Descript DayOfWeek  \\\n",
       "IncidntNum                                                             \n",
       "160000108          ASSAULT                         BATTERY  Thursday   \n",
       "166004914        VANDALISM   MALICIOUS MISCHIEF, VANDALISM  Thursday   \n",
       "160000095          ASSAULT     INFLICT INJURY ON COHABITEE  Thursday   \n",
       "160038137   OTHER OFFENSES  VIOLATION OF RESTRAINING ORDER  Thursday   \n",
       "166002930     NON-CRIMINAL                   LOST PROPERTY  Thursday   \n",
       "\n",
       "                  Date   Time PdDistrict  Resolution           X          Y  \n",
       "IncidntNum                                                                   \n",
       "160000108   12/31/2015  23:58   SOUTHERN           1 -122.403405  37.775421  \n",
       "166004914   12/31/2015  23:55   SOUTHERN           0 -122.411626  37.778590  \n",
       "160000095   12/31/2015  23:54  INGLESIDE           1 -122.404263  37.711339  \n",
       "160038137   12/31/2015  23:51  INGLESIDE           0 -122.420557  37.710895  \n",
       "166002930   12/31/2015  23:50    CENTRAL           0 -122.415844  37.787402  "
      ]
     },
     "execution_count": 202,
     "metadata": {},
     "output_type": "execute_result"
    }
   ],
   "source": [
    "data.head()"
   ]
  },
  {
   "cell_type": "code",
   "execution_count": 203,
   "metadata": {
    "collapsed": false
   },
   "outputs": [
    {
     "data": {
      "text/plain": [
       "Category       object\n",
       "Descript       object\n",
       "DayOfWeek      object\n",
       "Date           object\n",
       "Time           object\n",
       "PdDistrict     object\n",
       "Resolution      int64\n",
       "X             float64\n",
       "Y             float64\n",
       "dtype: object"
      ]
     },
     "execution_count": 203,
     "metadata": {},
     "output_type": "execute_result"
    }
   ],
   "source": [
    "data.dtypes"
   ]
  },
  {
   "cell_type": "markdown",
   "metadata": {
    "collapsed": false
   },
   "source": [
    "*** Replace a San f PdDistrict with Gotham city district *** (<a>https://en.wikipedia.org/wiki/Gotham_City</a>)"
   ]
  },
  {
   "cell_type": "code",
   "execution_count": 204,
   "metadata": {
    "collapsed": false
   },
   "outputs": [
    {
     "data": {
      "text/plain": [
       "array(['SOUTHERN', 'INGLESIDE', 'CENTRAL', 'BAYVIEW', 'PARK', 'NORTHERN',\n",
       "       'MISSION', 'TENDERLOIN', 'TARAVAL', 'RICHMOND'], dtype=object)"
      ]
     },
     "execution_count": 204,
     "metadata": {},
     "output_type": "execute_result"
    }
   ],
   "source": [
    "data['PdDistrict'].unique()"
   ]
  },
  {
   "cell_type": "code",
   "execution_count": 205,
   "metadata": {
    "collapsed": true
   },
   "outputs": [],
   "source": [
    "data = data.replace(to_replace=\"SOUTHERN\", value=\"Otisburg\")\n",
    "data = data.replace(to_replace=\"INGLESIDE\", value=\"Burnley\")\n",
    "data = data.replace(to_replace=\"CENTRAL\", value=\"East End\")\n",
    "data = data.replace(to_replace=\"BAYVIEW\", value=\"Old Gotham\")\n",
    "data = data.replace(to_replace=\"PARK\", value=\"Robinson Park\")\n",
    "data = data.replace(to_replace=\"NORTHERN\", value=\"Chinatown\")\n",
    "data = data.replace(to_replace=\"MISSION\", value=\"Bristol County\")\n",
    "data = data.replace(to_replace=\"TENDERLOIN\", value=\"The Bowery\")\n",
    "data = data.replace(to_replace=\"TARAVAL\", value=\"Diamond\")\n",
    "data = data.replace(to_replace=\"RICHMOND\", value=\"Falcone Penthouse\")"
   ]
  },
  {
   "cell_type": "code",
   "execution_count": 250,
   "metadata": {
    "collapsed": false
   },
   "outputs": [
    {
     "data": {
      "text/html": [
       "<div>\n",
       "<table border=\"1\" class=\"dataframe\">\n",
       "  <thead>\n",
       "    <tr style=\"text-align: right;\">\n",
       "      <th></th>\n",
       "      <th>IncidntNum</th>\n",
       "      <th>Category</th>\n",
       "      <th>Descript</th>\n",
       "      <th>DayOfWeek</th>\n",
       "      <th>Date</th>\n",
       "      <th>Time</th>\n",
       "      <th>PdDistrict</th>\n",
       "      <th>Resolution</th>\n",
       "      <th>X</th>\n",
       "      <th>Y</th>\n",
       "    </tr>\n",
       "  </thead>\n",
       "  <tbody>\n",
       "    <tr>\n",
       "      <th>0</th>\n",
       "      <td>160000108</td>\n",
       "      <td>ASSAULT</td>\n",
       "      <td>BATTERY</td>\n",
       "      <td>Thursday</td>\n",
       "      <td>12/31/2015</td>\n",
       "      <td>23:58</td>\n",
       "      <td>Otisburg</td>\n",
       "      <td>1</td>\n",
       "      <td>-122.403405</td>\n",
       "      <td>37.775421</td>\n",
       "    </tr>\n",
       "    <tr>\n",
       "      <th>1</th>\n",
       "      <td>166004914</td>\n",
       "      <td>VANDALISM</td>\n",
       "      <td>MALICIOUS MISCHIEF, VANDALISM</td>\n",
       "      <td>Thursday</td>\n",
       "      <td>12/31/2015</td>\n",
       "      <td>23:55</td>\n",
       "      <td>Otisburg</td>\n",
       "      <td>0</td>\n",
       "      <td>-122.411626</td>\n",
       "      <td>37.778590</td>\n",
       "    </tr>\n",
       "    <tr>\n",
       "      <th>2</th>\n",
       "      <td>160000095</td>\n",
       "      <td>ASSAULT</td>\n",
       "      <td>INFLICT INJURY ON COHABITEE</td>\n",
       "      <td>Thursday</td>\n",
       "      <td>12/31/2015</td>\n",
       "      <td>23:54</td>\n",
       "      <td>Burnley</td>\n",
       "      <td>1</td>\n",
       "      <td>-122.404263</td>\n",
       "      <td>37.711339</td>\n",
       "    </tr>\n",
       "    <tr>\n",
       "      <th>3</th>\n",
       "      <td>160038137</td>\n",
       "      <td>OTHER OFFENSES</td>\n",
       "      <td>VIOLATION OF RESTRAINING ORDER</td>\n",
       "      <td>Thursday</td>\n",
       "      <td>12/31/2015</td>\n",
       "      <td>23:51</td>\n",
       "      <td>Burnley</td>\n",
       "      <td>0</td>\n",
       "      <td>-122.420557</td>\n",
       "      <td>37.710895</td>\n",
       "    </tr>\n",
       "    <tr>\n",
       "      <th>4</th>\n",
       "      <td>166002930</td>\n",
       "      <td>NON-CRIMINAL</td>\n",
       "      <td>LOST PROPERTY</td>\n",
       "      <td>Thursday</td>\n",
       "      <td>12/31/2015</td>\n",
       "      <td>23:50</td>\n",
       "      <td>East End</td>\n",
       "      <td>0</td>\n",
       "      <td>-122.415844</td>\n",
       "      <td>37.787402</td>\n",
       "    </tr>\n",
       "  </tbody>\n",
       "</table>\n",
       "</div>"
      ],
      "text/plain": [
       "   IncidntNum        Category                        Descript DayOfWeek  \\\n",
       "0   160000108         ASSAULT                         BATTERY  Thursday   \n",
       "1   166004914       VANDALISM   MALICIOUS MISCHIEF, VANDALISM  Thursday   \n",
       "2   160000095         ASSAULT     INFLICT INJURY ON COHABITEE  Thursday   \n",
       "3   160038137  OTHER OFFENSES  VIOLATION OF RESTRAINING ORDER  Thursday   \n",
       "4   166002930    NON-CRIMINAL                   LOST PROPERTY  Thursday   \n",
       "\n",
       "         Date   Time PdDistrict  Resolution           X          Y  \n",
       "0  12/31/2015  23:58   Otisburg           1 -122.403405  37.775421  \n",
       "1  12/31/2015  23:55   Otisburg           0 -122.411626  37.778590  \n",
       "2  12/31/2015  23:54    Burnley           1 -122.404263  37.711339  \n",
       "3  12/31/2015  23:51    Burnley           0 -122.420557  37.710895  \n",
       "4  12/31/2015  23:50   East End           0 -122.415844  37.787402  "
      ]
     },
     "execution_count": 250,
     "metadata": {},
     "output_type": "execute_result"
    }
   ],
   "source": [
    "data = data.reset_index()\n",
    "data.head()\n"
   ]
  },
  {
   "cell_type": "markdown",
   "metadata": {},
   "source": [
    "# Save a new data "
   ]
  },
  {
   "cell_type": "code",
   "execution_count": null,
   "metadata": {
    "collapsed": true
   },
   "outputs": [],
   "source": []
  },
  {
   "cell_type": "code",
   "execution_count": 251,
   "metadata": {
    "collapsed": true
   },
   "outputs": [],
   "source": [
    "data.to_csv('data/data_set.csv')"
   ]
  },
  {
   "cell_type": "markdown",
   "metadata": {},
   "source": [
    "### Split data\n"
   ]
  },
  {
   "cell_type": "code",
   "execution_count": null,
   "metadata": {
    "collapsed": false
   },
   "outputs": [],
   "source": []
  },
  {
   "cell_type": "code",
   "execution_count": 252,
   "metadata": {
    "collapsed": false
   },
   "outputs": [],
   "source": [
    "data_Train, data2  = np.array_split(data,2)\n",
    "data_Test, data_Valid = np.array_split(data2,2)"
   ]
  },
  {
   "cell_type": "markdown",
   "metadata": {},
   "source": [
    "# Train"
   ]
  },
  {
   "cell_type": "code",
   "execution_count": 253,
   "metadata": {
    "collapsed": false
   },
   "outputs": [],
   "source": [
    "y_train = data_Train.Resolution.reset_index()\n",
    "x_train = data_Train.drop([\"Resolution\"],axis = 1)"
   ]
  },
  {
   "cell_type": "code",
   "execution_count": 254,
   "metadata": {
    "collapsed": false
   },
   "outputs": [],
   "source": [
    "y_train.to_csv('data/y_train.csv')"
   ]
  },
  {
   "cell_type": "code",
   "execution_count": 255,
   "metadata": {
    "collapsed": false
   },
   "outputs": [],
   "source": [
    "x_train.to_csv('data/x_train.csv')"
   ]
  },
  {
   "cell_type": "code",
   "execution_count": 248,
   "metadata": {
    "collapsed": false
   },
   "outputs": [
    {
     "data": {
      "text/html": [
       "<div>\n",
       "<table border=\"1\" class=\"dataframe\">\n",
       "  <thead>\n",
       "    <tr style=\"text-align: right;\">\n",
       "      <th></th>\n",
       "      <th>Resolution</th>\n",
       "    </tr>\n",
       "  </thead>\n",
       "  <tbody>\n",
       "    <tr>\n",
       "      <th>0</th>\n",
       "      <td>1</td>\n",
       "    </tr>\n",
       "    <tr>\n",
       "      <th>1</th>\n",
       "      <td>0</td>\n",
       "    </tr>\n",
       "    <tr>\n",
       "      <th>2</th>\n",
       "      <td>1</td>\n",
       "    </tr>\n",
       "    <tr>\n",
       "      <th>3</th>\n",
       "      <td>0</td>\n",
       "    </tr>\n",
       "    <tr>\n",
       "      <th>4</th>\n",
       "      <td>0</td>\n",
       "    </tr>\n",
       "    <tr>\n",
       "      <th>5</th>\n",
       "      <td>0</td>\n",
       "    </tr>\n",
       "    <tr>\n",
       "      <th>6</th>\n",
       "      <td>0</td>\n",
       "    </tr>\n",
       "    <tr>\n",
       "      <th>7</th>\n",
       "      <td>0</td>\n",
       "    </tr>\n",
       "    <tr>\n",
       "      <th>8</th>\n",
       "      <td>0</td>\n",
       "    </tr>\n",
       "    <tr>\n",
       "      <th>9</th>\n",
       "      <td>0</td>\n",
       "    </tr>\n",
       "    <tr>\n",
       "      <th>10</th>\n",
       "      <td>0</td>\n",
       "    </tr>\n",
       "    <tr>\n",
       "      <th>11</th>\n",
       "      <td>0</td>\n",
       "    </tr>\n",
       "    <tr>\n",
       "      <th>12</th>\n",
       "      <td>0</td>\n",
       "    </tr>\n",
       "    <tr>\n",
       "      <th>13</th>\n",
       "      <td>0</td>\n",
       "    </tr>\n",
       "    <tr>\n",
       "      <th>14</th>\n",
       "      <td>0</td>\n",
       "    </tr>\n",
       "    <tr>\n",
       "      <th>15</th>\n",
       "      <td>0</td>\n",
       "    </tr>\n",
       "    <tr>\n",
       "      <th>16</th>\n",
       "      <td>0</td>\n",
       "    </tr>\n",
       "    <tr>\n",
       "      <th>17</th>\n",
       "      <td>0</td>\n",
       "    </tr>\n",
       "    <tr>\n",
       "      <th>18</th>\n",
       "      <td>0</td>\n",
       "    </tr>\n",
       "    <tr>\n",
       "      <th>19</th>\n",
       "      <td>0</td>\n",
       "    </tr>\n",
       "    <tr>\n",
       "      <th>20</th>\n",
       "      <td>1</td>\n",
       "    </tr>\n",
       "    <tr>\n",
       "      <th>21</th>\n",
       "      <td>1</td>\n",
       "    </tr>\n",
       "    <tr>\n",
       "      <th>22</th>\n",
       "      <td>0</td>\n",
       "    </tr>\n",
       "    <tr>\n",
       "      <th>23</th>\n",
       "      <td>0</td>\n",
       "    </tr>\n",
       "    <tr>\n",
       "      <th>24</th>\n",
       "      <td>0</td>\n",
       "    </tr>\n",
       "    <tr>\n",
       "      <th>25</th>\n",
       "      <td>1</td>\n",
       "    </tr>\n",
       "    <tr>\n",
       "      <th>26</th>\n",
       "      <td>1</td>\n",
       "    </tr>\n",
       "    <tr>\n",
       "      <th>27</th>\n",
       "      <td>0</td>\n",
       "    </tr>\n",
       "    <tr>\n",
       "      <th>28</th>\n",
       "      <td>1</td>\n",
       "    </tr>\n",
       "    <tr>\n",
       "      <th>29</th>\n",
       "      <td>0</td>\n",
       "    </tr>\n",
       "    <tr>\n",
       "      <th>...</th>\n",
       "      <td>...</td>\n",
       "    </tr>\n",
       "    <tr>\n",
       "      <th>76779</th>\n",
       "      <td>1</td>\n",
       "    </tr>\n",
       "    <tr>\n",
       "      <th>76780</th>\n",
       "      <td>1</td>\n",
       "    </tr>\n",
       "    <tr>\n",
       "      <th>76781</th>\n",
       "      <td>1</td>\n",
       "    </tr>\n",
       "    <tr>\n",
       "      <th>76782</th>\n",
       "      <td>1</td>\n",
       "    </tr>\n",
       "    <tr>\n",
       "      <th>76783</th>\n",
       "      <td>0</td>\n",
       "    </tr>\n",
       "    <tr>\n",
       "      <th>76784</th>\n",
       "      <td>0</td>\n",
       "    </tr>\n",
       "    <tr>\n",
       "      <th>76785</th>\n",
       "      <td>0</td>\n",
       "    </tr>\n",
       "    <tr>\n",
       "      <th>76786</th>\n",
       "      <td>0</td>\n",
       "    </tr>\n",
       "    <tr>\n",
       "      <th>76787</th>\n",
       "      <td>0</td>\n",
       "    </tr>\n",
       "    <tr>\n",
       "      <th>76788</th>\n",
       "      <td>0</td>\n",
       "    </tr>\n",
       "    <tr>\n",
       "      <th>76789</th>\n",
       "      <td>1</td>\n",
       "    </tr>\n",
       "    <tr>\n",
       "      <th>76790</th>\n",
       "      <td>1</td>\n",
       "    </tr>\n",
       "    <tr>\n",
       "      <th>76791</th>\n",
       "      <td>0</td>\n",
       "    </tr>\n",
       "    <tr>\n",
       "      <th>76792</th>\n",
       "      <td>1</td>\n",
       "    </tr>\n",
       "    <tr>\n",
       "      <th>76793</th>\n",
       "      <td>1</td>\n",
       "    </tr>\n",
       "    <tr>\n",
       "      <th>76794</th>\n",
       "      <td>0</td>\n",
       "    </tr>\n",
       "    <tr>\n",
       "      <th>76795</th>\n",
       "      <td>1</td>\n",
       "    </tr>\n",
       "    <tr>\n",
       "      <th>76796</th>\n",
       "      <td>0</td>\n",
       "    </tr>\n",
       "    <tr>\n",
       "      <th>76797</th>\n",
       "      <td>1</td>\n",
       "    </tr>\n",
       "    <tr>\n",
       "      <th>76798</th>\n",
       "      <td>0</td>\n",
       "    </tr>\n",
       "    <tr>\n",
       "      <th>76799</th>\n",
       "      <td>0</td>\n",
       "    </tr>\n",
       "    <tr>\n",
       "      <th>76800</th>\n",
       "      <td>0</td>\n",
       "    </tr>\n",
       "    <tr>\n",
       "      <th>76801</th>\n",
       "      <td>0</td>\n",
       "    </tr>\n",
       "    <tr>\n",
       "      <th>76802</th>\n",
       "      <td>0</td>\n",
       "    </tr>\n",
       "    <tr>\n",
       "      <th>76803</th>\n",
       "      <td>0</td>\n",
       "    </tr>\n",
       "    <tr>\n",
       "      <th>76804</th>\n",
       "      <td>1</td>\n",
       "    </tr>\n",
       "    <tr>\n",
       "      <th>76805</th>\n",
       "      <td>0</td>\n",
       "    </tr>\n",
       "    <tr>\n",
       "      <th>76806</th>\n",
       "      <td>0</td>\n",
       "    </tr>\n",
       "    <tr>\n",
       "      <th>76807</th>\n",
       "      <td>0</td>\n",
       "    </tr>\n",
       "    <tr>\n",
       "      <th>76808</th>\n",
       "      <td>0</td>\n",
       "    </tr>\n",
       "  </tbody>\n",
       "</table>\n",
       "<p>76809 rows × 1 columns</p>\n",
       "</div>"
      ],
      "text/plain": [
       "       Resolution\n",
       "0               1\n",
       "1               0\n",
       "2               1\n",
       "3               0\n",
       "4               0\n",
       "5               0\n",
       "6               0\n",
       "7               0\n",
       "8               0\n",
       "9               0\n",
       "10              0\n",
       "11              0\n",
       "12              0\n",
       "13              0\n",
       "14              0\n",
       "15              0\n",
       "16              0\n",
       "17              0\n",
       "18              0\n",
       "19              0\n",
       "20              1\n",
       "21              1\n",
       "22              0\n",
       "23              0\n",
       "24              0\n",
       "25              1\n",
       "26              1\n",
       "27              0\n",
       "28              1\n",
       "29              0\n",
       "...           ...\n",
       "76779           1\n",
       "76780           1\n",
       "76781           1\n",
       "76782           1\n",
       "76783           0\n",
       "76784           0\n",
       "76785           0\n",
       "76786           0\n",
       "76787           0\n",
       "76788           0\n",
       "76789           1\n",
       "76790           1\n",
       "76791           0\n",
       "76792           1\n",
       "76793           1\n",
       "76794           0\n",
       "76795           1\n",
       "76796           0\n",
       "76797           1\n",
       "76798           0\n",
       "76799           0\n",
       "76800           0\n",
       "76801           0\n",
       "76802           0\n",
       "76803           0\n",
       "76804           1\n",
       "76805           0\n",
       "76806           0\n",
       "76807           0\n",
       "76808           0\n",
       "\n",
       "[76809 rows x 1 columns]"
      ]
     },
     "execution_count": 248,
     "metadata": {},
     "output_type": "execute_result"
    }
   ],
   "source": [
    "y_train.drop([\"IncidntNum\"],axis = 1)"
   ]
  },
  {
   "cell_type": "markdown",
   "metadata": {},
   "source": [
    "# Validation"
   ]
  },
  {
   "cell_type": "code",
   "execution_count": 223,
   "metadata": {
    "collapsed": false,
    "scrolled": true
   },
   "outputs": [],
   "source": [
    "y_test = data_Test.Resolution\n",
    "x_test = data_Test.drop([\"Resolution\"],axis = 1)"
   ]
  },
  {
   "cell_type": "code",
   "execution_count": 224,
   "metadata": {
    "collapsed": false,
    "scrolled": true
   },
   "outputs": [],
   "source": [
    "y_test.to_csv('data/y_test.csv')"
   ]
  },
  {
   "cell_type": "code",
   "execution_count": 225,
   "metadata": {
    "collapsed": false,
    "scrolled": true
   },
   "outputs": [],
   "source": [
    "x_test.to_csv('data/x_test.csv')"
   ]
  },
  {
   "cell_type": "markdown",
   "metadata": {
    "collapsed": true
   },
   "source": [
    "# Test"
   ]
  },
  {
   "cell_type": "code",
   "execution_count": 226,
   "metadata": {
    "collapsed": true
   },
   "outputs": [],
   "source": [
    "y_valid = data_Valid.Resolution\n",
    "x_valid = data_Valid.drop([\"Resolution\"],axis = 1)"
   ]
  },
  {
   "cell_type": "code",
   "execution_count": 227,
   "metadata": {
    "collapsed": true
   },
   "outputs": [],
   "source": [
    "y_valid.to_csv('data/y_valid.csv')"
   ]
  },
  {
   "cell_type": "code",
   "execution_count": 228,
   "metadata": {
    "collapsed": true
   },
   "outputs": [],
   "source": [
    "x_valid.to_csv('data/x_valid.csv')"
   ]
  },
  {
   "cell_type": "code",
   "execution_count": 237,
   "metadata": {
    "collapsed": false
   },
   "outputs": [
    {
     "data": {
      "text/plain": [
       "IncidntNum\n",
       "160000108    1\n",
       "166004914    0\n",
       "160000095    1\n",
       "160038137    0\n",
       "166002930    0\n",
       "160002819    0\n",
       "166002980    0\n",
       "166008223    0\n",
       "160001485    0\n",
       "160000073    0\n",
       "160000299    0\n",
       "160002386    0\n",
       "160000249    0\n",
       "160000227    0\n",
       "151127305    0\n",
       "160000051    0\n",
       "160000932    0\n",
       "151127292    0\n",
       "160001429    0\n",
       "151127292    0\n",
       "151127311    1\n",
       "151127311    1\n",
       "151127292    0\n",
       "166002134    0\n",
       "160004031    0\n",
       "151127220    1\n",
       "151127220    1\n",
       "160000023    0\n",
       "151127208    1\n",
       "151127270    0\n",
       "            ..\n",
       "150556688    1\n",
       "150556688    1\n",
       "150556688    1\n",
       "150556741    1\n",
       "150556707    0\n",
       "150556713    0\n",
       "150556650    0\n",
       "150556531    0\n",
       "150556848    0\n",
       "156153797    0\n",
       "150556735    1\n",
       "150556735    1\n",
       "150559472    0\n",
       "150556666    1\n",
       "150556666    1\n",
       "150558628    0\n",
       "150556666    1\n",
       "156163194    0\n",
       "150556484    1\n",
       "150557454    0\n",
       "156154024    0\n",
       "150556478    0\n",
       "156153781    0\n",
       "156160015    0\n",
       "150556490    0\n",
       "150556434    1\n",
       "150749946    0\n",
       "150556440    0\n",
       "150559347    0\n",
       "156161502    0\n",
       "Name: Resolution, dtype: int64"
      ]
     },
     "execution_count": 237,
     "metadata": {},
     "output_type": "execute_result"
    }
   ],
   "source": [
    "y_train"
   ]
  },
  {
   "cell_type": "code",
   "execution_count": 231,
   "metadata": {
    "collapsed": false
   },
   "outputs": [
    {
     "data": {
      "text/html": [
       "<div>\n",
       "<table border=\"1\" class=\"dataframe\">\n",
       "  <thead>\n",
       "    <tr style=\"text-align: right;\">\n",
       "      <th></th>\n",
       "      <th>IncidntNum</th>\n",
       "      <th>Resolution</th>\n",
       "    </tr>\n",
       "  </thead>\n",
       "  <tbody>\n",
       "    <tr>\n",
       "      <th>0</th>\n",
       "      <td>150277107</td>\n",
       "      <td>0</td>\n",
       "    </tr>\n",
       "    <tr>\n",
       "      <th>1</th>\n",
       "      <td>156078082</td>\n",
       "      <td>0</td>\n",
       "    </tr>\n",
       "    <tr>\n",
       "      <th>2</th>\n",
       "      <td>156077589</td>\n",
       "      <td>0</td>\n",
       "    </tr>\n",
       "    <tr>\n",
       "      <th>3</th>\n",
       "      <td>156080300</td>\n",
       "      <td>0</td>\n",
       "    </tr>\n",
       "    <tr>\n",
       "      <th>4</th>\n",
       "      <td>150276820</td>\n",
       "      <td>0</td>\n",
       "    </tr>\n",
       "    <tr>\n",
       "      <th>5</th>\n",
       "      <td>150277492</td>\n",
       "      <td>0</td>\n",
       "    </tr>\n",
       "    <tr>\n",
       "      <th>6</th>\n",
       "      <td>150292791</td>\n",
       "      <td>0</td>\n",
       "    </tr>\n",
       "    <tr>\n",
       "      <th>7</th>\n",
       "      <td>150383986</td>\n",
       "      <td>0</td>\n",
       "    </tr>\n",
       "    <tr>\n",
       "      <th>8</th>\n",
       "      <td>150278020</td>\n",
       "      <td>0</td>\n",
       "    </tr>\n",
       "    <tr>\n",
       "      <th>9</th>\n",
       "      <td>150276773</td>\n",
       "      <td>1</td>\n",
       "    </tr>\n",
       "    <tr>\n",
       "      <th>10</th>\n",
       "      <td>150276773</td>\n",
       "      <td>1</td>\n",
       "    </tr>\n",
       "    <tr>\n",
       "      <th>11</th>\n",
       "      <td>156075759</td>\n",
       "      <td>0</td>\n",
       "    </tr>\n",
       "    <tr>\n",
       "      <th>12</th>\n",
       "      <td>156078753</td>\n",
       "      <td>0</td>\n",
       "    </tr>\n",
       "    <tr>\n",
       "      <th>13</th>\n",
       "      <td>150276739</td>\n",
       "      <td>1</td>\n",
       "    </tr>\n",
       "    <tr>\n",
       "      <th>14</th>\n",
       "      <td>150276682</td>\n",
       "      <td>1</td>\n",
       "    </tr>\n",
       "    <tr>\n",
       "      <th>15</th>\n",
       "      <td>156077175</td>\n",
       "      <td>0</td>\n",
       "    </tr>\n",
       "    <tr>\n",
       "      <th>16</th>\n",
       "      <td>156080281</td>\n",
       "      <td>0</td>\n",
       "    </tr>\n",
       "    <tr>\n",
       "      <th>17</th>\n",
       "      <td>150276983</td>\n",
       "      <td>0</td>\n",
       "    </tr>\n",
       "    <tr>\n",
       "      <th>18</th>\n",
       "      <td>150276983</td>\n",
       "      <td>0</td>\n",
       "    </tr>\n",
       "    <tr>\n",
       "      <th>19</th>\n",
       "      <td>150276745</td>\n",
       "      <td>0</td>\n",
       "    </tr>\n",
       "    <tr>\n",
       "      <th>20</th>\n",
       "      <td>150276961</td>\n",
       "      <td>0</td>\n",
       "    </tr>\n",
       "    <tr>\n",
       "      <th>21</th>\n",
       "      <td>150278882</td>\n",
       "      <td>0</td>\n",
       "    </tr>\n",
       "    <tr>\n",
       "      <th>22</th>\n",
       "      <td>150280586</td>\n",
       "      <td>0</td>\n",
       "    </tr>\n",
       "    <tr>\n",
       "      <th>23</th>\n",
       "      <td>150278412</td>\n",
       "      <td>0</td>\n",
       "    </tr>\n",
       "    <tr>\n",
       "      <th>24</th>\n",
       "      <td>156080598</td>\n",
       "      <td>0</td>\n",
       "    </tr>\n",
       "    <tr>\n",
       "      <th>25</th>\n",
       "      <td>150278939</td>\n",
       "      <td>0</td>\n",
       "    </tr>\n",
       "    <tr>\n",
       "      <th>26</th>\n",
       "      <td>150278882</td>\n",
       "      <td>0</td>\n",
       "    </tr>\n",
       "    <tr>\n",
       "      <th>27</th>\n",
       "      <td>156080297</td>\n",
       "      <td>0</td>\n",
       "    </tr>\n",
       "    <tr>\n",
       "      <th>28</th>\n",
       "      <td>150276676</td>\n",
       "      <td>1</td>\n",
       "    </tr>\n",
       "    <tr>\n",
       "      <th>29</th>\n",
       "      <td>156080269</td>\n",
       "      <td>0</td>\n",
       "    </tr>\n",
       "    <tr>\n",
       "      <th>...</th>\n",
       "      <td>...</td>\n",
       "      <td>...</td>\n",
       "    </tr>\n",
       "    <tr>\n",
       "      <th>38374</th>\n",
       "      <td>150015775</td>\n",
       "      <td>0</td>\n",
       "    </tr>\n",
       "    <tr>\n",
       "      <th>38375</th>\n",
       "      <td>151057069</td>\n",
       "      <td>0</td>\n",
       "    </tr>\n",
       "    <tr>\n",
       "      <th>38376</th>\n",
       "      <td>150307594</td>\n",
       "      <td>0</td>\n",
       "    </tr>\n",
       "    <tr>\n",
       "      <th>38377</th>\n",
       "      <td>150665182</td>\n",
       "      <td>0</td>\n",
       "    </tr>\n",
       "    <tr>\n",
       "      <th>38378</th>\n",
       "      <td>150357555</td>\n",
       "      <td>0</td>\n",
       "    </tr>\n",
       "    <tr>\n",
       "      <th>38379</th>\n",
       "      <td>156001180</td>\n",
       "      <td>0</td>\n",
       "    </tr>\n",
       "    <tr>\n",
       "      <th>38380</th>\n",
       "      <td>151082555</td>\n",
       "      <td>0</td>\n",
       "    </tr>\n",
       "    <tr>\n",
       "      <th>38381</th>\n",
       "      <td>156000530</td>\n",
       "      <td>0</td>\n",
       "    </tr>\n",
       "    <tr>\n",
       "      <th>38382</th>\n",
       "      <td>159003591</td>\n",
       "      <td>0</td>\n",
       "    </tr>\n",
       "    <tr>\n",
       "      <th>38383</th>\n",
       "      <td>150358177</td>\n",
       "      <td>0</td>\n",
       "    </tr>\n",
       "    <tr>\n",
       "      <th>38384</th>\n",
       "      <td>150947720</td>\n",
       "      <td>0</td>\n",
       "    </tr>\n",
       "    <tr>\n",
       "      <th>38385</th>\n",
       "      <td>150318591</td>\n",
       "      <td>0</td>\n",
       "    </tr>\n",
       "    <tr>\n",
       "      <th>38386</th>\n",
       "      <td>150499931</td>\n",
       "      <td>0</td>\n",
       "    </tr>\n",
       "    <tr>\n",
       "      <th>38387</th>\n",
       "      <td>150499931</td>\n",
       "      <td>0</td>\n",
       "    </tr>\n",
       "    <tr>\n",
       "      <th>38388</th>\n",
       "      <td>150499931</td>\n",
       "      <td>0</td>\n",
       "    </tr>\n",
       "    <tr>\n",
       "      <th>38389</th>\n",
       "      <td>150791812</td>\n",
       "      <td>0</td>\n",
       "    </tr>\n",
       "    <tr>\n",
       "      <th>38390</th>\n",
       "      <td>150369500</td>\n",
       "      <td>0</td>\n",
       "    </tr>\n",
       "    <tr>\n",
       "      <th>38391</th>\n",
       "      <td>150665182</td>\n",
       "      <td>0</td>\n",
       "    </tr>\n",
       "    <tr>\n",
       "      <th>38392</th>\n",
       "      <td>150331048</td>\n",
       "      <td>0</td>\n",
       "    </tr>\n",
       "    <tr>\n",
       "      <th>38393</th>\n",
       "      <td>156001685</td>\n",
       "      <td>0</td>\n",
       "    </tr>\n",
       "    <tr>\n",
       "      <th>38394</th>\n",
       "      <td>150199329</td>\n",
       "      <td>0</td>\n",
       "    </tr>\n",
       "    <tr>\n",
       "      <th>38395</th>\n",
       "      <td>150369500</td>\n",
       "      <td>0</td>\n",
       "    </tr>\n",
       "    <tr>\n",
       "      <th>38396</th>\n",
       "      <td>150166221</td>\n",
       "      <td>0</td>\n",
       "    </tr>\n",
       "    <tr>\n",
       "      <th>38397</th>\n",
       "      <td>150339199</td>\n",
       "      <td>0</td>\n",
       "    </tr>\n",
       "    <tr>\n",
       "      <th>38398</th>\n",
       "      <td>150600611</td>\n",
       "      <td>0</td>\n",
       "    </tr>\n",
       "    <tr>\n",
       "      <th>38399</th>\n",
       "      <td>150331048</td>\n",
       "      <td>0</td>\n",
       "    </tr>\n",
       "    <tr>\n",
       "      <th>38400</th>\n",
       "      <td>150182716</td>\n",
       "      <td>0</td>\n",
       "    </tr>\n",
       "    <tr>\n",
       "      <th>38401</th>\n",
       "      <td>150182716</td>\n",
       "      <td>0</td>\n",
       "    </tr>\n",
       "    <tr>\n",
       "      <th>38402</th>\n",
       "      <td>150176480</td>\n",
       "      <td>0</td>\n",
       "    </tr>\n",
       "    <tr>\n",
       "      <th>38403</th>\n",
       "      <td>150816595</td>\n",
       "      <td>0</td>\n",
       "    </tr>\n",
       "  </tbody>\n",
       "</table>\n",
       "<p>38404 rows × 2 columns</p>\n",
       "</div>"
      ],
      "text/plain": [
       "       IncidntNum  Resolution\n",
       "0       150277107           0\n",
       "1       156078082           0\n",
       "2       156077589           0\n",
       "3       156080300           0\n",
       "4       150276820           0\n",
       "5       150277492           0\n",
       "6       150292791           0\n",
       "7       150383986           0\n",
       "8       150278020           0\n",
       "9       150276773           1\n",
       "10      150276773           1\n",
       "11      156075759           0\n",
       "12      156078753           0\n",
       "13      150276739           1\n",
       "14      150276682           1\n",
       "15      156077175           0\n",
       "16      156080281           0\n",
       "17      150276983           0\n",
       "18      150276983           0\n",
       "19      150276745           0\n",
       "20      150276961           0\n",
       "21      150278882           0\n",
       "22      150280586           0\n",
       "23      150278412           0\n",
       "24      156080598           0\n",
       "25      150278939           0\n",
       "26      150278882           0\n",
       "27      156080297           0\n",
       "28      150276676           1\n",
       "29      156080269           0\n",
       "...           ...         ...\n",
       "38374   150015775           0\n",
       "38375   151057069           0\n",
       "38376   150307594           0\n",
       "38377   150665182           0\n",
       "38378   150357555           0\n",
       "38379   156001180           0\n",
       "38380   151082555           0\n",
       "38381   156000530           0\n",
       "38382   159003591           0\n",
       "38383   150358177           0\n",
       "38384   150947720           0\n",
       "38385   150318591           0\n",
       "38386   150499931           0\n",
       "38387   150499931           0\n",
       "38388   150499931           0\n",
       "38389   150791812           0\n",
       "38390   150369500           0\n",
       "38391   150665182           0\n",
       "38392   150331048           0\n",
       "38393   156001685           0\n",
       "38394   150199329           0\n",
       "38395   150369500           0\n",
       "38396   150166221           0\n",
       "38397   150339199           0\n",
       "38398   150600611           0\n",
       "38399   150331048           0\n",
       "38400   150182716           0\n",
       "38401   150182716           0\n",
       "38402   150176480           0\n",
       "38403   150816595           0\n",
       "\n",
       "[38404 rows x 2 columns]"
      ]
     },
     "execution_count": 231,
     "metadata": {},
     "output_type": "execute_result"
    }
   ],
   "source": [
    "y_valid.reset_index()"
   ]
  },
  {
   "cell_type": "code",
   "execution_count": null,
   "metadata": {
    "collapsed": true
   },
   "outputs": [],
   "source": []
  },
  {
   "cell_type": "code",
   "execution_count": null,
   "metadata": {
    "collapsed": true
   },
   "outputs": [],
   "source": []
  },
  {
   "cell_type": "code",
   "execution_count": null,
   "metadata": {
    "collapsed": true
   },
   "outputs": [],
   "source": []
  }
 ],
 "metadata": {
  "kernelspec": {
   "display_name": "Python 2",
   "language": "python",
   "name": "python2"
  },
  "language_info": {
   "codemirror_mode": {
    "name": "ipython",
    "version": 2
   },
   "file_extension": ".py",
   "mimetype": "text/x-python",
   "name": "python",
   "nbconvert_exporter": "python",
   "pygments_lexer": "ipython2",
   "version": "2.7.11"
  }
 },
 "nbformat": 4,
 "nbformat_minor": 0
}
