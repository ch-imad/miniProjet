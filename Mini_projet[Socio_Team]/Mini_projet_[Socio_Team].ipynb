{
 "cells": [
  {
   "cell_type": "markdown",
   "metadata": {
    "collapsed": true
   },
   "source": [
    "# Challenge on predicting of resolvability of crimes for BATMAN\n"
   ]
  },
  {
   "cell_type": "markdown",
   "metadata": {},
   "source": [
    "### Socio Team  or \"Bat\"Team "
   ]
  },
  {
   "cell_type": "markdown",
   "metadata": {},
   "source": [
    "<i>Goukam , Imad , Mohamed , Nassim (M2 AIC Paris_Sud) </i>"
   ]
  },
  {
   "cell_type": "markdown",
   "metadata": {},
   "source": [
    "## Introduction\n",
    "The data set was download in this url:<a>https://data.sfgov.org/Public-Safety/SFPD-Incidents-Current-Year-2015-/ritf-b9ki</a>. \n",
    "The data is thin, it contains\n",
    "\n",
    "* Dates - timestamp of the crime incident\n",
    "* Category - category of the crime incident (only in train.csv). This is the target variable you are going to predict.\n",
    "* Descript - detailed description of the crime incident (only in train.csv)\n",
    "* DayOfWeek - the day of the week\n",
    "* PdDistrict - name of the Police Department District\n",
    "* Resolution - how the crime incident was resolved (only in train.csv)\n",
    "* Address - the approximate street address of the crime incident \n",
    "* X - Longitude\n",
    "* Y - Latitude\n",
    "\n",
    "\n",
    "\n",
    "\n",
    "** The goal is to predict the <code>Resolution</code> column. The prediction quality is measured by RMSE**. \n",
    "\n"
   ]
  },
  {
   "cell_type": "code",
   "execution_count": 164,
   "metadata": {
    "collapsed": false
   },
   "outputs": [],
   "source": [
    "%matplotlib inline\n",
    "import numpy as np\n",
    "import pandas as pd\n",
    "import matplotlib.pyplot as plt\n",
    "import seaborn as sns; sns.set()"
   ]
  },
  {
   "cell_type": "markdown",
   "metadata": {},
   "source": [
    "## Fetch the data and load it in pandas"
   ]
  },
  {
   "cell_type": "code",
   "execution_count": 165,
   "metadata": {
    "collapsed": false
   },
   "outputs": [],
   "source": [
    "import os"
   ]
  },
  {
   "cell_type": "code",
   "execution_count": 166,
   "metadata": {
    "collapsed": false
   },
   "outputs": [],
   "source": [
    "local_filename = 'data/original_data.csv'\n",
    "data = pd.read_csv(local_filename)"
   ]
  },
  {
   "cell_type": "code",
   "execution_count": 167,
   "metadata": {
    "collapsed": false
   },
   "outputs": [
    {
     "data": {
      "text/plain": [
       "(153618, 12)"
      ]
     },
     "execution_count": 167,
     "metadata": {},
     "output_type": "execute_result"
    }
   ],
   "source": [
    "data.shape"
   ]
  },
  {
   "cell_type": "code",
   "execution_count": 168,
   "metadata": {
    "collapsed": false
   },
   "outputs": [
    {
     "data": {
      "text/plain": [
       "array(['IncidntNum', 'Category', 'Descript', 'DayOfWeek', 'Date', 'Time',\n",
       "       'PdDistrict', 'Resolution', 'Address', 'X', 'Y', 'Location'], dtype=object)"
      ]
     },
     "execution_count": 168,
     "metadata": {},
     "output_type": "execute_result"
    }
   ],
   "source": [
    "data.columns.values\n"
   ]
  },
  {
   "cell_type": "code",
   "execution_count": 169,
   "metadata": {
    "collapsed": false
   },
   "outputs": [
    {
     "data": {
      "text/html": [
       "<div>\n",
       "<table border=\"1\" class=\"dataframe\">\n",
       "  <thead>\n",
       "    <tr style=\"text-align: right;\">\n",
       "      <th></th>\n",
       "      <th>IncidntNum</th>\n",
       "      <th>Category</th>\n",
       "      <th>Descript</th>\n",
       "      <th>DayOfWeek</th>\n",
       "      <th>Date</th>\n",
       "      <th>Time</th>\n",
       "      <th>PdDistrict</th>\n",
       "      <th>Resolution</th>\n",
       "      <th>Address</th>\n",
       "      <th>X</th>\n",
       "      <th>Y</th>\n",
       "      <th>Location</th>\n",
       "    </tr>\n",
       "  </thead>\n",
       "  <tbody>\n",
       "    <tr>\n",
       "      <th>0</th>\n",
       "      <td>160000108</td>\n",
       "      <td>ASSAULT</td>\n",
       "      <td>BATTERY</td>\n",
       "      <td>Thursday</td>\n",
       "      <td>12/31/2015</td>\n",
       "      <td>23:58</td>\n",
       "      <td>SOUTHERN</td>\n",
       "      <td>ARREST, BOOKED</td>\n",
       "      <td>800 Block of BRYANT ST</td>\n",
       "      <td>-122.403405</td>\n",
       "      <td>37.775421</td>\n",
       "      <td>(37.775420706711, -122.403404791479)</td>\n",
       "    </tr>\n",
       "    <tr>\n",
       "      <th>1</th>\n",
       "      <td>166004914</td>\n",
       "      <td>VANDALISM</td>\n",
       "      <td>MALICIOUS MISCHIEF, VANDALISM</td>\n",
       "      <td>Thursday</td>\n",
       "      <td>12/31/2015</td>\n",
       "      <td>23:55</td>\n",
       "      <td>SOUTHERN</td>\n",
       "      <td>NONE</td>\n",
       "      <td>1100 Block of MISSION ST</td>\n",
       "      <td>-122.411626</td>\n",
       "      <td>37.778590</td>\n",
       "      <td>(37.7785895740312, -122.411626152299)</td>\n",
       "    </tr>\n",
       "    <tr>\n",
       "      <th>2</th>\n",
       "      <td>160000095</td>\n",
       "      <td>ASSAULT</td>\n",
       "      <td>INFLICT INJURY ON COHABITEE</td>\n",
       "      <td>Thursday</td>\n",
       "      <td>12/31/2015</td>\n",
       "      <td>23:54</td>\n",
       "      <td>INGLESIDE</td>\n",
       "      <td>ARREST, BOOKED</td>\n",
       "      <td>0 Block of LELAND AV</td>\n",
       "      <td>-122.404263</td>\n",
       "      <td>37.711339</td>\n",
       "      <td>(37.7113387848327, -122.404262861765)</td>\n",
       "    </tr>\n",
       "    <tr>\n",
       "      <th>3</th>\n",
       "      <td>160038137</td>\n",
       "      <td>OTHER OFFENSES</td>\n",
       "      <td>VIOLATION OF RESTRAINING ORDER</td>\n",
       "      <td>Thursday</td>\n",
       "      <td>12/31/2015</td>\n",
       "      <td>23:51</td>\n",
       "      <td>INGLESIDE</td>\n",
       "      <td>NONE</td>\n",
       "      <td>200 Block of BLYTHDALE AV</td>\n",
       "      <td>-122.420557</td>\n",
       "      <td>37.710895</td>\n",
       "      <td>(37.7108945814914, -122.420556751442)</td>\n",
       "    </tr>\n",
       "    <tr>\n",
       "      <th>4</th>\n",
       "      <td>166002930</td>\n",
       "      <td>NON-CRIMINAL</td>\n",
       "      <td>LOST PROPERTY</td>\n",
       "      <td>Thursday</td>\n",
       "      <td>12/31/2015</td>\n",
       "      <td>23:50</td>\n",
       "      <td>CENTRAL</td>\n",
       "      <td>NONE</td>\n",
       "      <td>800 Block of POST ST</td>\n",
       "      <td>-122.415844</td>\n",
       "      <td>37.787402</td>\n",
       "      <td>(37.7874017655636, -122.41584375719)</td>\n",
       "    </tr>\n",
       "  </tbody>\n",
       "</table>\n",
       "</div>"
      ],
      "text/plain": [
       "   IncidntNum        Category                        Descript DayOfWeek  \\\n",
       "0   160000108         ASSAULT                         BATTERY  Thursday   \n",
       "1   166004914       VANDALISM   MALICIOUS MISCHIEF, VANDALISM  Thursday   \n",
       "2   160000095         ASSAULT     INFLICT INJURY ON COHABITEE  Thursday   \n",
       "3   160038137  OTHER OFFENSES  VIOLATION OF RESTRAINING ORDER  Thursday   \n",
       "4   166002930    NON-CRIMINAL                   LOST PROPERTY  Thursday   \n",
       "\n",
       "         Date   Time PdDistrict      Resolution                    Address  \\\n",
       "0  12/31/2015  23:58   SOUTHERN  ARREST, BOOKED     800 Block of BRYANT ST   \n",
       "1  12/31/2015  23:55   SOUTHERN            NONE   1100 Block of MISSION ST   \n",
       "2  12/31/2015  23:54  INGLESIDE  ARREST, BOOKED       0 Block of LELAND AV   \n",
       "3  12/31/2015  23:51  INGLESIDE            NONE  200 Block of BLYTHDALE AV   \n",
       "4  12/31/2015  23:50    CENTRAL            NONE       800 Block of POST ST   \n",
       "\n",
       "            X          Y                               Location  \n",
       "0 -122.403405  37.775421   (37.775420706711, -122.403404791479)  \n",
       "1 -122.411626  37.778590  (37.7785895740312, -122.411626152299)  \n",
       "2 -122.404263  37.711339  (37.7113387848327, -122.404262861765)  \n",
       "3 -122.420557  37.710895  (37.7108945814914, -122.420556751442)  \n",
       "4 -122.415844  37.787402   (37.7874017655636, -122.41584375719)  "
      ]
     },
     "execution_count": 169,
     "metadata": {},
     "output_type": "execute_result"
    }
   ],
   "source": [
    "data.head()"
   ]
  },
  {
   "cell_type": "code",
   "execution_count": 170,
   "metadata": {
    "collapsed": false,
    "scrolled": true
   },
   "outputs": [
    {
     "name": "stdout",
     "output_type": "stream",
     "text": [
      "01/01/2015\n",
      "12/31/2015\n"
     ]
    }
   ],
   "source": [
    "print min(data['Date'])\n",
    "print max(data['Date'])"
   ]
  },
  {
   "cell_type": "code",
   "execution_count": 171,
   "metadata": {
    "collapsed": false
   },
   "outputs": [
    {
     "data": {
      "text/plain": [
       "array(['SOUTHERN', 'INGLESIDE', 'CENTRAL', 'BAYVIEW', 'PARK', 'NORTHERN',\n",
       "       'MISSION', 'TENDERLOIN', 'TARAVAL', 'RICHMOND'], dtype=object)"
      ]
     },
     "execution_count": 171,
     "metadata": {},
     "output_type": "execute_result"
    }
   ],
   "source": [
    "data['PdDistrict'].unique()"
   ]
  },
  {
   "cell_type": "code",
   "execution_count": 172,
   "metadata": {
    "collapsed": false
   },
   "outputs": [
    {
     "data": {
      "text/plain": [
       "array(['ASSAULT', 'VANDALISM', 'OTHER OFFENSES', 'NON-CRIMINAL',\n",
       "       'LARCENY/THEFT', 'VEHICLE THEFT', 'BURGLARY', 'ROBBERY', 'WARRANTS',\n",
       "       'SUSPICIOUS OCC', 'WEAPON LAWS', 'DRUNKENNESS', 'TRESPASS',\n",
       "       'FORGERY/COUNTERFEITING', 'DRUG/NARCOTIC', 'MISSING PERSON',\n",
       "       'SECONDARY CODES', 'FRAUD', 'EMBEZZLEMENT',\n",
       "       'SEX OFFENSES, FORCIBLE', 'BRIBERY', 'STOLEN PROPERTY',\n",
       "       'DISORDERLY CONDUCT', 'ARSON', 'FAMILY OFFENSES', 'RUNAWAY',\n",
       "       'DRIVING UNDER THE INFLUENCE', 'KIDNAPPING', 'PROSTITUTION',\n",
       "       'SUICIDE', 'LIQUOR LAWS', 'EXTORTION', 'GAMBLING', 'BAD CHECKS',\n",
       "       'SEX OFFENSES, NON FORCIBLE', 'LOITERING',\n",
       "       'PORNOGRAPHY/OBSCENE MAT', 'TREA'], dtype=object)"
      ]
     },
     "execution_count": 172,
     "metadata": {},
     "output_type": "execute_result"
    }
   ],
   "source": [
    "data['Category'].unique()"
   ]
  },
  {
   "cell_type": "code",
   "execution_count": 173,
   "metadata": {
    "collapsed": false,
    "scrolled": true
   },
   "outputs": [
    {
     "data": {
      "text/html": [
       "<div>\n",
       "<table border=\"1\" class=\"dataframe\">\n",
       "  <thead>\n",
       "    <tr style=\"text-align: right;\">\n",
       "      <th></th>\n",
       "      <th>IncidntNum</th>\n",
       "      <th>Category</th>\n",
       "      <th>Descript</th>\n",
       "      <th>DayOfWeek</th>\n",
       "      <th>Date</th>\n",
       "      <th>Time</th>\n",
       "      <th>PdDistrict</th>\n",
       "      <th>Resolution</th>\n",
       "      <th>Address</th>\n",
       "      <th>X</th>\n",
       "      <th>Y</th>\n",
       "      <th>Location</th>\n",
       "    </tr>\n",
       "  </thead>\n",
       "  <tbody>\n",
       "    <tr>\n",
       "      <th>0</th>\n",
       "      <td>160000108</td>\n",
       "      <td>ASSAULT</td>\n",
       "      <td>BATTERY</td>\n",
       "      <td>Thursday</td>\n",
       "      <td>12/31/2015</td>\n",
       "      <td>23:58</td>\n",
       "      <td>SOUTHERN</td>\n",
       "      <td>ARREST, BOOKED</td>\n",
       "      <td>800 Block of BRYANT ST</td>\n",
       "      <td>-122.403405</td>\n",
       "      <td>37.775421</td>\n",
       "      <td>(37.775420706711, -122.403404791479)</td>\n",
       "    </tr>\n",
       "    <tr>\n",
       "      <th>1</th>\n",
       "      <td>166004914</td>\n",
       "      <td>VANDALISM</td>\n",
       "      <td>MALICIOUS MISCHIEF, VANDALISM</td>\n",
       "      <td>Thursday</td>\n",
       "      <td>12/31/2015</td>\n",
       "      <td>23:55</td>\n",
       "      <td>SOUTHERN</td>\n",
       "      <td>NONE</td>\n",
       "      <td>1100 Block of MISSION ST</td>\n",
       "      <td>-122.411626</td>\n",
       "      <td>37.778590</td>\n",
       "      <td>(37.7785895740312, -122.411626152299)</td>\n",
       "    </tr>\n",
       "    <tr>\n",
       "      <th>2</th>\n",
       "      <td>160000095</td>\n",
       "      <td>ASSAULT</td>\n",
       "      <td>INFLICT INJURY ON COHABITEE</td>\n",
       "      <td>Thursday</td>\n",
       "      <td>12/31/2015</td>\n",
       "      <td>23:54</td>\n",
       "      <td>INGLESIDE</td>\n",
       "      <td>ARREST, BOOKED</td>\n",
       "      <td>0 Block of LELAND AV</td>\n",
       "      <td>-122.404263</td>\n",
       "      <td>37.711339</td>\n",
       "      <td>(37.7113387848327, -122.404262861765)</td>\n",
       "    </tr>\n",
       "    <tr>\n",
       "      <th>3</th>\n",
       "      <td>160038137</td>\n",
       "      <td>OTHER OFFENSES</td>\n",
       "      <td>VIOLATION OF RESTRAINING ORDER</td>\n",
       "      <td>Thursday</td>\n",
       "      <td>12/31/2015</td>\n",
       "      <td>23:51</td>\n",
       "      <td>INGLESIDE</td>\n",
       "      <td>NONE</td>\n",
       "      <td>200 Block of BLYTHDALE AV</td>\n",
       "      <td>-122.420557</td>\n",
       "      <td>37.710895</td>\n",
       "      <td>(37.7108945814914, -122.420556751442)</td>\n",
       "    </tr>\n",
       "    <tr>\n",
       "      <th>4</th>\n",
       "      <td>166002930</td>\n",
       "      <td>NON-CRIMINAL</td>\n",
       "      <td>LOST PROPERTY</td>\n",
       "      <td>Thursday</td>\n",
       "      <td>12/31/2015</td>\n",
       "      <td>23:50</td>\n",
       "      <td>CENTRAL</td>\n",
       "      <td>NONE</td>\n",
       "      <td>800 Block of POST ST</td>\n",
       "      <td>-122.415844</td>\n",
       "      <td>37.787402</td>\n",
       "      <td>(37.7874017655636, -122.41584375719)</td>\n",
       "    </tr>\n",
       "  </tbody>\n",
       "</table>\n",
       "</div>"
      ],
      "text/plain": [
       "   IncidntNum        Category                        Descript DayOfWeek  \\\n",
       "0   160000108         ASSAULT                         BATTERY  Thursday   \n",
       "1   166004914       VANDALISM   MALICIOUS MISCHIEF, VANDALISM  Thursday   \n",
       "2   160000095         ASSAULT     INFLICT INJURY ON COHABITEE  Thursday   \n",
       "3   160038137  OTHER OFFENSES  VIOLATION OF RESTRAINING ORDER  Thursday   \n",
       "4   166002930    NON-CRIMINAL                   LOST PROPERTY  Thursday   \n",
       "\n",
       "         Date   Time PdDistrict      Resolution                    Address  \\\n",
       "0  12/31/2015  23:58   SOUTHERN  ARREST, BOOKED     800 Block of BRYANT ST   \n",
       "1  12/31/2015  23:55   SOUTHERN            NONE   1100 Block of MISSION ST   \n",
       "2  12/31/2015  23:54  INGLESIDE  ARREST, BOOKED       0 Block of LELAND AV   \n",
       "3  12/31/2015  23:51  INGLESIDE            NONE  200 Block of BLYTHDALE AV   \n",
       "4  12/31/2015  23:50    CENTRAL            NONE       800 Block of POST ST   \n",
       "\n",
       "            X          Y                               Location  \n",
       "0 -122.403405  37.775421   (37.775420706711, -122.403404791479)  \n",
       "1 -122.411626  37.778590  (37.7785895740312, -122.411626152299)  \n",
       "2 -122.404263  37.711339  (37.7113387848327, -122.404262861765)  \n",
       "3 -122.420557  37.710895  (37.7108945814914, -122.420556751442)  \n",
       "4 -122.415844  37.787402   (37.7874017655636, -122.41584375719)  "
      ]
     },
     "execution_count": 173,
     "metadata": {},
     "output_type": "execute_result"
    }
   ],
   "source": [
    "data.head()"
   ]
  },
  {
   "cell_type": "code",
   "execution_count": 174,
   "metadata": {
    "collapsed": false
   },
   "outputs": [
    {
     "data": {
      "text/plain": [
       "array(['ARREST, BOOKED', 'NONE', 'UNFOUNDED', 'ARREST, CITED',\n",
       "       'JUVENILE BOOKED', 'EXCEPTIONAL CLEARANCE', 'PSYCHOPATHIC CASE',\n",
       "       'NOT PROSECUTED', 'LOCATED',\n",
       "       'CLEARED-CONTACT JUVENILE FOR MORE INFO', 'JUVENILE DIVERTED',\n",
       "       'JUVENILE CITED', 'COMPLAINANT REFUSES TO PROSECUTE',\n",
       "       'JUVENILE ADMONISHED'], dtype=object)"
      ]
     },
     "execution_count": 174,
     "metadata": {},
     "output_type": "execute_result"
    }
   ],
   "source": [
    "data['Resolution'].unique()"
   ]
  },
  {
   "cell_type": "code",
   "execution_count": 175,
   "metadata": {
    "collapsed": false
   },
   "outputs": [],
   "source": [
    "data = data.replace(to_replace=\"ARREST, BOOKED\", value=1)\n",
    "data = data.replace(to_replace=\"ARREST, CITED\", value=1)\n",
    "data = data.replace(to_replace=\"NONE\", value=0)\n",
    "data = data.replace(to_replace=\"UNFOUNDED\", value=0)\n",
    "data = data.replace(to_replace=\"JUVENILE BOOKED\", value=0)\n",
    "data = data.replace(to_replace=\"EXCEPTIONAL CLEARANCE\", value=0)\n",
    "data = data.replace(to_replace=\"PSYCHOPATHIC CASE\", value=0)\n",
    "data = data.replace(to_replace=\"NOT PROSECUTED\", value=0)\n",
    "data = data.replace(to_replace=\"LOCATED\", value=0)\n",
    "data = data.replace(to_replace=\"CLEARED-CONTACT JUVENILE FOR MORE INFO\", value=0)\n",
    "data = data.replace(to_replace=\"COMPLAINANT REFUSES TO PROSECUTE\", value=0)\n",
    "data = data.replace(to_replace=\"JUVENILE ADMONISHED\", value=0)\n",
    "data = data.replace(to_replace=\"JUVENILE DIVERTED\", value=0)\n",
    "data = data.replace(to_replace=\"JUVENILE CITED\", value=0)\n"
   ]
  },
  {
   "cell_type": "markdown",
   "metadata": {},
   "source": [
    "*** Remove a \"Address\" To samplifier***"
   ]
  },
  {
   "cell_type": "code",
   "execution_count": 176,
   "metadata": {
    "collapsed": false
   },
   "outputs": [],
   "source": [
    "data = data.drop('Address', 1)\n",
    "data = data.drop('Location', 1)\n"
   ]
  },
  {
   "cell_type": "code",
   "execution_count": 177,
   "metadata": {
    "collapsed": false
   },
   "outputs": [
    {
     "data": {
      "text/html": [
       "<div>\n",
       "<table border=\"1\" class=\"dataframe\">\n",
       "  <thead>\n",
       "    <tr style=\"text-align: right;\">\n",
       "      <th></th>\n",
       "      <th>IncidntNum</th>\n",
       "      <th>Category</th>\n",
       "      <th>Descript</th>\n",
       "      <th>DayOfWeek</th>\n",
       "      <th>Date</th>\n",
       "      <th>Time</th>\n",
       "      <th>PdDistrict</th>\n",
       "      <th>Resolution</th>\n",
       "      <th>X</th>\n",
       "      <th>Y</th>\n",
       "    </tr>\n",
       "  </thead>\n",
       "  <tbody>\n",
       "    <tr>\n",
       "      <th>0</th>\n",
       "      <td>160000108</td>\n",
       "      <td>ASSAULT</td>\n",
       "      <td>BATTERY</td>\n",
       "      <td>Thursday</td>\n",
       "      <td>12/31/2015</td>\n",
       "      <td>23:58</td>\n",
       "      <td>SOUTHERN</td>\n",
       "      <td>1</td>\n",
       "      <td>-122.403405</td>\n",
       "      <td>37.775421</td>\n",
       "    </tr>\n",
       "    <tr>\n",
       "      <th>1</th>\n",
       "      <td>166004914</td>\n",
       "      <td>VANDALISM</td>\n",
       "      <td>MALICIOUS MISCHIEF, VANDALISM</td>\n",
       "      <td>Thursday</td>\n",
       "      <td>12/31/2015</td>\n",
       "      <td>23:55</td>\n",
       "      <td>SOUTHERN</td>\n",
       "      <td>0</td>\n",
       "      <td>-122.411626</td>\n",
       "      <td>37.778590</td>\n",
       "    </tr>\n",
       "    <tr>\n",
       "      <th>2</th>\n",
       "      <td>160000095</td>\n",
       "      <td>ASSAULT</td>\n",
       "      <td>INFLICT INJURY ON COHABITEE</td>\n",
       "      <td>Thursday</td>\n",
       "      <td>12/31/2015</td>\n",
       "      <td>23:54</td>\n",
       "      <td>INGLESIDE</td>\n",
       "      <td>1</td>\n",
       "      <td>-122.404263</td>\n",
       "      <td>37.711339</td>\n",
       "    </tr>\n",
       "    <tr>\n",
       "      <th>3</th>\n",
       "      <td>160038137</td>\n",
       "      <td>OTHER OFFENSES</td>\n",
       "      <td>VIOLATION OF RESTRAINING ORDER</td>\n",
       "      <td>Thursday</td>\n",
       "      <td>12/31/2015</td>\n",
       "      <td>23:51</td>\n",
       "      <td>INGLESIDE</td>\n",
       "      <td>0</td>\n",
       "      <td>-122.420557</td>\n",
       "      <td>37.710895</td>\n",
       "    </tr>\n",
       "    <tr>\n",
       "      <th>4</th>\n",
       "      <td>166002930</td>\n",
       "      <td>NON-CRIMINAL</td>\n",
       "      <td>LOST PROPERTY</td>\n",
       "      <td>Thursday</td>\n",
       "      <td>12/31/2015</td>\n",
       "      <td>23:50</td>\n",
       "      <td>CENTRAL</td>\n",
       "      <td>0</td>\n",
       "      <td>-122.415844</td>\n",
       "      <td>37.787402</td>\n",
       "    </tr>\n",
       "  </tbody>\n",
       "</table>\n",
       "</div>"
      ],
      "text/plain": [
       "   IncidntNum        Category                        Descript DayOfWeek  \\\n",
       "0   160000108         ASSAULT                         BATTERY  Thursday   \n",
       "1   166004914       VANDALISM   MALICIOUS MISCHIEF, VANDALISM  Thursday   \n",
       "2   160000095         ASSAULT     INFLICT INJURY ON COHABITEE  Thursday   \n",
       "3   160038137  OTHER OFFENSES  VIOLATION OF RESTRAINING ORDER  Thursday   \n",
       "4   166002930    NON-CRIMINAL                   LOST PROPERTY  Thursday   \n",
       "\n",
       "         Date   Time PdDistrict  Resolution           X          Y  \n",
       "0  12/31/2015  23:58   SOUTHERN           1 -122.403405  37.775421  \n",
       "1  12/31/2015  23:55   SOUTHERN           0 -122.411626  37.778590  \n",
       "2  12/31/2015  23:54  INGLESIDE           1 -122.404263  37.711339  \n",
       "3  12/31/2015  23:51  INGLESIDE           0 -122.420557  37.710895  \n",
       "4  12/31/2015  23:50    CENTRAL           0 -122.415844  37.787402  "
      ]
     },
     "execution_count": 177,
     "metadata": {},
     "output_type": "execute_result"
    }
   ],
   "source": [
    "data.head()"
   ]
  },
  {
   "cell_type": "code",
   "execution_count": 178,
   "metadata": {
    "collapsed": false
   },
   "outputs": [
    {
     "data": {
      "text/plain": [
       "IncidntNum      int64\n",
       "Category       object\n",
       "Descript       object\n",
       "DayOfWeek      object\n",
       "Date           object\n",
       "Time           object\n",
       "PdDistrict     object\n",
       "Resolution      int64\n",
       "X             float64\n",
       "Y             float64\n",
       "dtype: object"
      ]
     },
     "execution_count": 178,
     "metadata": {},
     "output_type": "execute_result"
    }
   ],
   "source": [
    "data.dtypes"
   ]
  },
  {
   "cell_type": "markdown",
   "metadata": {
    "collapsed": false
   },
   "source": [
    "*** Replace a San f PdDistrict with Gotham city district *** (<a>https://en.wikipedia.org/wiki/Gotham_City</a>)"
   ]
  },
  {
   "cell_type": "code",
   "execution_count": 179,
   "metadata": {
    "collapsed": false
   },
   "outputs": [
    {
     "data": {
      "text/plain": [
       "array(['SOUTHERN', 'INGLESIDE', 'CENTRAL', 'BAYVIEW', 'PARK', 'NORTHERN',\n",
       "       'MISSION', 'TENDERLOIN', 'TARAVAL', 'RICHMOND'], dtype=object)"
      ]
     },
     "execution_count": 179,
     "metadata": {},
     "output_type": "execute_result"
    }
   ],
   "source": [
    "data['PdDistrict'].unique()"
   ]
  },
  {
   "cell_type": "code",
   "execution_count": 180,
   "metadata": {
    "collapsed": true
   },
   "outputs": [],
   "source": [
    "data = data.replace(to_replace=\"SOUTHERN\", value=\"Otisburg\")\n",
    "data = data.replace(to_replace=\"INGLESIDE\", value=\"Burnley\")\n",
    "data = data.replace(to_replace=\"CENTRAL\", value=\"East End\")\n",
    "data = data.replace(to_replace=\"BAYVIEW\", value=\"Old Gotham\")\n",
    "data = data.replace(to_replace=\"PARK\", value=\"Robinson Park\")\n",
    "data = data.replace(to_replace=\"NORTHERN\", value=\"Chinatown\")\n",
    "data = data.replace(to_replace=\"MISSION\", value=\"Bristol County\")\n",
    "data = data.replace(to_replace=\"TENDERLOIN\", value=\"The Bowery\")\n",
    "data = data.replace(to_replace=\"TARAVAL\", value=\"Diamond\")\n",
    "data = data.replace(to_replace=\"RICHMOND\", value=\"Falcone Penthouse\")"
   ]
  },
  {
   "cell_type": "code",
   "execution_count": 181,
   "metadata": {
    "collapsed": false
   },
   "outputs": [
    {
     "data": {
      "text/html": [
       "<div>\n",
       "<table border=\"1\" class=\"dataframe\">\n",
       "  <thead>\n",
       "    <tr style=\"text-align: right;\">\n",
       "      <th></th>\n",
       "      <th>IncidntNum</th>\n",
       "      <th>Category</th>\n",
       "      <th>Descript</th>\n",
       "      <th>DayOfWeek</th>\n",
       "      <th>Date</th>\n",
       "      <th>Time</th>\n",
       "      <th>PdDistrict</th>\n",
       "      <th>Resolution</th>\n",
       "      <th>X</th>\n",
       "      <th>Y</th>\n",
       "    </tr>\n",
       "  </thead>\n",
       "  <tbody>\n",
       "    <tr>\n",
       "      <th>0</th>\n",
       "      <td>160000108</td>\n",
       "      <td>ASSAULT</td>\n",
       "      <td>BATTERY</td>\n",
       "      <td>Thursday</td>\n",
       "      <td>12/31/2015</td>\n",
       "      <td>23:58</td>\n",
       "      <td>Otisburg</td>\n",
       "      <td>1</td>\n",
       "      <td>-122.403405</td>\n",
       "      <td>37.775421</td>\n",
       "    </tr>\n",
       "    <tr>\n",
       "      <th>1</th>\n",
       "      <td>166004914</td>\n",
       "      <td>VANDALISM</td>\n",
       "      <td>MALICIOUS MISCHIEF, VANDALISM</td>\n",
       "      <td>Thursday</td>\n",
       "      <td>12/31/2015</td>\n",
       "      <td>23:55</td>\n",
       "      <td>Otisburg</td>\n",
       "      <td>0</td>\n",
       "      <td>-122.411626</td>\n",
       "      <td>37.778590</td>\n",
       "    </tr>\n",
       "    <tr>\n",
       "      <th>2</th>\n",
       "      <td>160000095</td>\n",
       "      <td>ASSAULT</td>\n",
       "      <td>INFLICT INJURY ON COHABITEE</td>\n",
       "      <td>Thursday</td>\n",
       "      <td>12/31/2015</td>\n",
       "      <td>23:54</td>\n",
       "      <td>Burnley</td>\n",
       "      <td>1</td>\n",
       "      <td>-122.404263</td>\n",
       "      <td>37.711339</td>\n",
       "    </tr>\n",
       "    <tr>\n",
       "      <th>3</th>\n",
       "      <td>160038137</td>\n",
       "      <td>OTHER OFFENSES</td>\n",
       "      <td>VIOLATION OF RESTRAINING ORDER</td>\n",
       "      <td>Thursday</td>\n",
       "      <td>12/31/2015</td>\n",
       "      <td>23:51</td>\n",
       "      <td>Burnley</td>\n",
       "      <td>0</td>\n",
       "      <td>-122.420557</td>\n",
       "      <td>37.710895</td>\n",
       "    </tr>\n",
       "    <tr>\n",
       "      <th>4</th>\n",
       "      <td>166002930</td>\n",
       "      <td>NON-CRIMINAL</td>\n",
       "      <td>LOST PROPERTY</td>\n",
       "      <td>Thursday</td>\n",
       "      <td>12/31/2015</td>\n",
       "      <td>23:50</td>\n",
       "      <td>East End</td>\n",
       "      <td>0</td>\n",
       "      <td>-122.415844</td>\n",
       "      <td>37.787402</td>\n",
       "    </tr>\n",
       "  </tbody>\n",
       "</table>\n",
       "</div>"
      ],
      "text/plain": [
       "   IncidntNum        Category                        Descript DayOfWeek  \\\n",
       "0   160000108         ASSAULT                         BATTERY  Thursday   \n",
       "1   166004914       VANDALISM   MALICIOUS MISCHIEF, VANDALISM  Thursday   \n",
       "2   160000095         ASSAULT     INFLICT INJURY ON COHABITEE  Thursday   \n",
       "3   160038137  OTHER OFFENSES  VIOLATION OF RESTRAINING ORDER  Thursday   \n",
       "4   166002930    NON-CRIMINAL                   LOST PROPERTY  Thursday   \n",
       "\n",
       "         Date   Time PdDistrict  Resolution           X          Y  \n",
       "0  12/31/2015  23:58   Otisburg           1 -122.403405  37.775421  \n",
       "1  12/31/2015  23:55   Otisburg           0 -122.411626  37.778590  \n",
       "2  12/31/2015  23:54    Burnley           1 -122.404263  37.711339  \n",
       "3  12/31/2015  23:51    Burnley           0 -122.420557  37.710895  \n",
       "4  12/31/2015  23:50   East End           0 -122.415844  37.787402  "
      ]
     },
     "execution_count": 181,
     "metadata": {},
     "output_type": "execute_result"
    }
   ],
   "source": [
    "data.head()\n"
   ]
  },
  {
   "cell_type": "markdown",
   "metadata": {},
   "source": [
    "# Save a new data "
   ]
  },
  {
   "cell_type": "code",
   "execution_count": null,
   "metadata": {
    "collapsed": true
   },
   "outputs": [],
   "source": []
  },
  {
   "cell_type": "code",
   "execution_count": 183,
   "metadata": {
    "collapsed": false
   },
   "outputs": [],
   "source": [
    "data.to_csv('data/data_set.csv',index=False)"
   ]
  },
  {
   "cell_type": "code",
   "execution_count": 184,
   "metadata": {
    "collapsed": false
   },
   "outputs": [
    {
     "data": {
      "text/html": [
       "<div>\n",
       "<table border=\"1\" class=\"dataframe\">\n",
       "  <thead>\n",
       "    <tr style=\"text-align: right;\">\n",
       "      <th></th>\n",
       "      <th>IncidntNum</th>\n",
       "      <th>Category</th>\n",
       "      <th>Descript</th>\n",
       "      <th>DayOfWeek</th>\n",
       "      <th>Date</th>\n",
       "      <th>Time</th>\n",
       "      <th>PdDistrict</th>\n",
       "      <th>Resolution</th>\n",
       "      <th>X</th>\n",
       "      <th>Y</th>\n",
       "    </tr>\n",
       "  </thead>\n",
       "  <tbody>\n",
       "    <tr>\n",
       "      <th>0</th>\n",
       "      <td>160000108</td>\n",
       "      <td>ASSAULT</td>\n",
       "      <td>BATTERY</td>\n",
       "      <td>Thursday</td>\n",
       "      <td>12/31/2015</td>\n",
       "      <td>23:58</td>\n",
       "      <td>Otisburg</td>\n",
       "      <td>1</td>\n",
       "      <td>-122.403405</td>\n",
       "      <td>37.775421</td>\n",
       "    </tr>\n",
       "    <tr>\n",
       "      <th>1</th>\n",
       "      <td>166004914</td>\n",
       "      <td>VANDALISM</td>\n",
       "      <td>MALICIOUS MISCHIEF, VANDALISM</td>\n",
       "      <td>Thursday</td>\n",
       "      <td>12/31/2015</td>\n",
       "      <td>23:55</td>\n",
       "      <td>Otisburg</td>\n",
       "      <td>0</td>\n",
       "      <td>-122.411626</td>\n",
       "      <td>37.778590</td>\n",
       "    </tr>\n",
       "    <tr>\n",
       "      <th>2</th>\n",
       "      <td>160000095</td>\n",
       "      <td>ASSAULT</td>\n",
       "      <td>INFLICT INJURY ON COHABITEE</td>\n",
       "      <td>Thursday</td>\n",
       "      <td>12/31/2015</td>\n",
       "      <td>23:54</td>\n",
       "      <td>Burnley</td>\n",
       "      <td>1</td>\n",
       "      <td>-122.404263</td>\n",
       "      <td>37.711339</td>\n",
       "    </tr>\n",
       "    <tr>\n",
       "      <th>3</th>\n",
       "      <td>160038137</td>\n",
       "      <td>OTHER OFFENSES</td>\n",
       "      <td>VIOLATION OF RESTRAINING ORDER</td>\n",
       "      <td>Thursday</td>\n",
       "      <td>12/31/2015</td>\n",
       "      <td>23:51</td>\n",
       "      <td>Burnley</td>\n",
       "      <td>0</td>\n",
       "      <td>-122.420557</td>\n",
       "      <td>37.710895</td>\n",
       "    </tr>\n",
       "    <tr>\n",
       "      <th>4</th>\n",
       "      <td>166002930</td>\n",
       "      <td>NON-CRIMINAL</td>\n",
       "      <td>LOST PROPERTY</td>\n",
       "      <td>Thursday</td>\n",
       "      <td>12/31/2015</td>\n",
       "      <td>23:50</td>\n",
       "      <td>East End</td>\n",
       "      <td>0</td>\n",
       "      <td>-122.415844</td>\n",
       "      <td>37.787402</td>\n",
       "    </tr>\n",
       "  </tbody>\n",
       "</table>\n",
       "</div>"
      ],
      "text/plain": [
       "   IncidntNum        Category                        Descript DayOfWeek  \\\n",
       "0   160000108         ASSAULT                         BATTERY  Thursday   \n",
       "1   166004914       VANDALISM   MALICIOUS MISCHIEF, VANDALISM  Thursday   \n",
       "2   160000095         ASSAULT     INFLICT INJURY ON COHABITEE  Thursday   \n",
       "3   160038137  OTHER OFFENSES  VIOLATION OF RESTRAINING ORDER  Thursday   \n",
       "4   166002930    NON-CRIMINAL                   LOST PROPERTY  Thursday   \n",
       "\n",
       "         Date   Time PdDistrict  Resolution           X          Y  \n",
       "0  12/31/2015  23:58   Otisburg           1 -122.403405  37.775421  \n",
       "1  12/31/2015  23:55   Otisburg           0 -122.411626  37.778590  \n",
       "2  12/31/2015  23:54    Burnley           1 -122.404263  37.711339  \n",
       "3  12/31/2015  23:51    Burnley           0 -122.420557  37.710895  \n",
       "4  12/31/2015  23:50   East End           0 -122.415844  37.787402  "
      ]
     },
     "execution_count": 184,
     "metadata": {},
     "output_type": "execute_result"
    }
   ],
   "source": [
    "data = pd.read_csv('data/data_set.csv')\n",
    "data.head()"
   ]
  },
  {
   "cell_type": "markdown",
   "metadata": {},
   "source": [
    "### Split data\n"
   ]
  },
  {
   "cell_type": "code",
   "execution_count": 199,
   "metadata": {
    "collapsed": false
   },
   "outputs": [
    {
     "data": {
      "text/html": [
       "<div>\n",
       "<table border=\"1\" class=\"dataframe\">\n",
       "  <thead>\n",
       "    <tr style=\"text-align: right;\">\n",
       "      <th></th>\n",
       "      <th>IncidntNum</th>\n",
       "      <th>Category</th>\n",
       "      <th>Descript</th>\n",
       "      <th>DayOfWeek</th>\n",
       "      <th>Date</th>\n",
       "      <th>Time</th>\n",
       "      <th>PdDistrict</th>\n",
       "      <th>Resolution</th>\n",
       "      <th>X</th>\n",
       "      <th>Y</th>\n",
       "    </tr>\n",
       "  </thead>\n",
       "  <tbody>\n",
       "    <tr>\n",
       "      <th>0</th>\n",
       "      <td>160000108</td>\n",
       "      <td>ASSAULT</td>\n",
       "      <td>BATTERY</td>\n",
       "      <td>Thursday</td>\n",
       "      <td>12/31/2015</td>\n",
       "      <td>23:58</td>\n",
       "      <td>Otisburg</td>\n",
       "      <td>1</td>\n",
       "      <td>-122.403405</td>\n",
       "      <td>37.775421</td>\n",
       "    </tr>\n",
       "    <tr>\n",
       "      <th>1</th>\n",
       "      <td>166004914</td>\n",
       "      <td>VANDALISM</td>\n",
       "      <td>MALICIOUS MISCHIEF, VANDALISM</td>\n",
       "      <td>Thursday</td>\n",
       "      <td>12/31/2015</td>\n",
       "      <td>23:55</td>\n",
       "      <td>Otisburg</td>\n",
       "      <td>0</td>\n",
       "      <td>-122.411626</td>\n",
       "      <td>37.778590</td>\n",
       "    </tr>\n",
       "    <tr>\n",
       "      <th>2</th>\n",
       "      <td>160000095</td>\n",
       "      <td>ASSAULT</td>\n",
       "      <td>INFLICT INJURY ON COHABITEE</td>\n",
       "      <td>Thursday</td>\n",
       "      <td>12/31/2015</td>\n",
       "      <td>23:54</td>\n",
       "      <td>Burnley</td>\n",
       "      <td>1</td>\n",
       "      <td>-122.404263</td>\n",
       "      <td>37.711339</td>\n",
       "    </tr>\n",
       "    <tr>\n",
       "      <th>3</th>\n",
       "      <td>160038137</td>\n",
       "      <td>OTHER OFFENSES</td>\n",
       "      <td>VIOLATION OF RESTRAINING ORDER</td>\n",
       "      <td>Thursday</td>\n",
       "      <td>12/31/2015</td>\n",
       "      <td>23:51</td>\n",
       "      <td>Burnley</td>\n",
       "      <td>0</td>\n",
       "      <td>-122.420557</td>\n",
       "      <td>37.710895</td>\n",
       "    </tr>\n",
       "    <tr>\n",
       "      <th>4</th>\n",
       "      <td>166002930</td>\n",
       "      <td>NON-CRIMINAL</td>\n",
       "      <td>LOST PROPERTY</td>\n",
       "      <td>Thursday</td>\n",
       "      <td>12/31/2015</td>\n",
       "      <td>23:50</td>\n",
       "      <td>East End</td>\n",
       "      <td>0</td>\n",
       "      <td>-122.415844</td>\n",
       "      <td>37.787402</td>\n",
       "    </tr>\n",
       "  </tbody>\n",
       "</table>\n",
       "</div>"
      ],
      "text/plain": [
       "   IncidntNum        Category                        Descript DayOfWeek  \\\n",
       "0   160000108         ASSAULT                         BATTERY  Thursday   \n",
       "1   166004914       VANDALISM   MALICIOUS MISCHIEF, VANDALISM  Thursday   \n",
       "2   160000095         ASSAULT     INFLICT INJURY ON COHABITEE  Thursday   \n",
       "3   160038137  OTHER OFFENSES  VIOLATION OF RESTRAINING ORDER  Thursday   \n",
       "4   166002930    NON-CRIMINAL                   LOST PROPERTY  Thursday   \n",
       "\n",
       "         Date   Time PdDistrict  Resolution           X          Y  \n",
       "0  12/31/2015  23:58   Otisburg           1 -122.403405  37.775421  \n",
       "1  12/31/2015  23:55   Otisburg           0 -122.411626  37.778590  \n",
       "2  12/31/2015  23:54    Burnley           1 -122.404263  37.711339  \n",
       "3  12/31/2015  23:51    Burnley           0 -122.420557  37.710895  \n",
       "4  12/31/2015  23:50   East End           0 -122.415844  37.787402  "
      ]
     },
     "execution_count": 199,
     "metadata": {},
     "output_type": "execute_result"
    }
   ],
   "source": [
    "from sklearn.cross_validation import ShuffleSplit\n",
    "len(np.array(data['Resolution']))\n",
    "#a=np.array(data['Resolution'].values).shape\n",
    "#print \n",
    "data = pd.read_csv('data/data_set.csv')\n",
    "data.head()"
   ]
  },
  {
   "cell_type": "code",
   "execution_count": 186,
   "metadata": {
    "collapsed": false
   },
   "outputs": [],
   "source": [
    "#data_Train, data2  = np.array_split(data,2)\n",
    "#data_Test, data_Valid = np.array_split(data2,2)"
   ]
  },
  {
   "cell_type": "code",
   "execution_count": 187,
   "metadata": {
    "collapsed": true
   },
   "outputs": [],
   "source": [
    "train = data[0:153618/3]\n",
    "test_val = data[153618/3 +1:153618-1]"
   ]
  },
  {
   "cell_type": "code",
   "execution_count": 188,
   "metadata": {
    "collapsed": true
   },
   "outputs": [],
   "source": [
    "valid = test_val[0:2*len(test_val)/3]\n",
    "test = test_val[2*len(test_val)/3+1:len(test_val)] "
   ]
  },
  {
   "cell_type": "code",
   "execution_count": 189,
   "metadata": {
    "collapsed": false
   },
   "outputs": [
    {
     "name": "stdout",
     "output_type": "stream",
     "text": [
      "size of train : 0.333333333333 %\n",
      "size of validation set: 0.444433595021 %\n",
      "size of test set: 0.222213542684 %\n"
     ]
    }
   ],
   "source": [
    "print \"size of train :\", len(train)/153618.0 ,\"%\"\n",
    "print \"size of validation set:\" , len(valid)/153618.0,\"%\"\n",
    "print \"size of test set:\", len(test)/153618.0,\"%\""
   ]
  },
  {
   "cell_type": "code",
   "execution_count": 190,
   "metadata": {
    "collapsed": false
   },
   "outputs": [],
   "source": [
    "data_Train = train\n",
    "data_Valid = valid\n",
    "data_Test = test"
   ]
  },
  {
   "cell_type": "markdown",
   "metadata": {},
   "source": [
    "# Train"
   ]
  },
  {
   "cell_type": "code",
   "execution_count": 191,
   "metadata": {
    "collapsed": false
   },
   "outputs": [],
   "source": [
    "y_train = data_Train.Resolution\n",
    "#x_train = data_Train.drop([\"Resolution\"],axis = 1)"
   ]
  },
  {
   "cell_type": "code",
   "execution_count": 192,
   "metadata": {
    "collapsed": false
   },
   "outputs": [],
   "source": [
    "#y_train.to_csv('data/ref_train.solution',)"
   ]
  },
  {
   "cell_type": "code",
   "execution_count": 202,
   "metadata": {
    "collapsed": false
   },
   "outputs": [],
   "source": [
    "data_Train.to_csv('data/x_train.data',index=False)"
   ]
  },
  {
   "cell_type": "code",
   "execution_count": 194,
   "metadata": {
    "collapsed": false
   },
   "outputs": [
    {
     "data": {
      "text/html": [
       "<div>\n",
       "<table border=\"1\" class=\"dataframe\">\n",
       "  <thead>\n",
       "    <tr style=\"text-align: right;\">\n",
       "      <th></th>\n",
       "      <th>IncidntNum</th>\n",
       "      <th>Category</th>\n",
       "      <th>Descript</th>\n",
       "      <th>DayOfWeek</th>\n",
       "      <th>Date</th>\n",
       "      <th>Time</th>\n",
       "      <th>PdDistrict</th>\n",
       "      <th>Resolution</th>\n",
       "      <th>X</th>\n",
       "      <th>Y</th>\n",
       "    </tr>\n",
       "  </thead>\n",
       "  <tbody>\n",
       "    <tr>\n",
       "      <th>0</th>\n",
       "      <td>160000108</td>\n",
       "      <td>ASSAULT</td>\n",
       "      <td>BATTERY</td>\n",
       "      <td>Thursday</td>\n",
       "      <td>12/31/2015</td>\n",
       "      <td>23:58</td>\n",
       "      <td>Otisburg</td>\n",
       "      <td>1</td>\n",
       "      <td>-122.403405</td>\n",
       "      <td>37.775421</td>\n",
       "    </tr>\n",
       "    <tr>\n",
       "      <th>1</th>\n",
       "      <td>166004914</td>\n",
       "      <td>VANDALISM</td>\n",
       "      <td>MALICIOUS MISCHIEF, VANDALISM</td>\n",
       "      <td>Thursday</td>\n",
       "      <td>12/31/2015</td>\n",
       "      <td>23:55</td>\n",
       "      <td>Otisburg</td>\n",
       "      <td>0</td>\n",
       "      <td>-122.411626</td>\n",
       "      <td>37.778590</td>\n",
       "    </tr>\n",
       "    <tr>\n",
       "      <th>2</th>\n",
       "      <td>160000095</td>\n",
       "      <td>ASSAULT</td>\n",
       "      <td>INFLICT INJURY ON COHABITEE</td>\n",
       "      <td>Thursday</td>\n",
       "      <td>12/31/2015</td>\n",
       "      <td>23:54</td>\n",
       "      <td>Burnley</td>\n",
       "      <td>1</td>\n",
       "      <td>-122.404263</td>\n",
       "      <td>37.711339</td>\n",
       "    </tr>\n",
       "    <tr>\n",
       "      <th>3</th>\n",
       "      <td>160038137</td>\n",
       "      <td>OTHER OFFENSES</td>\n",
       "      <td>VIOLATION OF RESTRAINING ORDER</td>\n",
       "      <td>Thursday</td>\n",
       "      <td>12/31/2015</td>\n",
       "      <td>23:51</td>\n",
       "      <td>Burnley</td>\n",
       "      <td>0</td>\n",
       "      <td>-122.420557</td>\n",
       "      <td>37.710895</td>\n",
       "    </tr>\n",
       "    <tr>\n",
       "      <th>4</th>\n",
       "      <td>166002930</td>\n",
       "      <td>NON-CRIMINAL</td>\n",
       "      <td>LOST PROPERTY</td>\n",
       "      <td>Thursday</td>\n",
       "      <td>12/31/2015</td>\n",
       "      <td>23:50</td>\n",
       "      <td>East End</td>\n",
       "      <td>0</td>\n",
       "      <td>-122.415844</td>\n",
       "      <td>37.787402</td>\n",
       "    </tr>\n",
       "  </tbody>\n",
       "</table>\n",
       "</div>"
      ],
      "text/plain": [
       "   IncidntNum        Category                        Descript DayOfWeek  \\\n",
       "0   160000108         ASSAULT                         BATTERY  Thursday   \n",
       "1   166004914       VANDALISM   MALICIOUS MISCHIEF, VANDALISM  Thursday   \n",
       "2   160000095         ASSAULT     INFLICT INJURY ON COHABITEE  Thursday   \n",
       "3   160038137  OTHER OFFENSES  VIOLATION OF RESTRAINING ORDER  Thursday   \n",
       "4   166002930    NON-CRIMINAL                   LOST PROPERTY  Thursday   \n",
       "\n",
       "         Date   Time PdDistrict  Resolution           X          Y  \n",
       "0  12/31/2015  23:58   Otisburg           1 -122.403405  37.775421  \n",
       "1  12/31/2015  23:55   Otisburg           0 -122.411626  37.778590  \n",
       "2  12/31/2015  23:54    Burnley           1 -122.404263  37.711339  \n",
       "3  12/31/2015  23:51    Burnley           0 -122.420557  37.710895  \n",
       "4  12/31/2015  23:50   East End           0 -122.415844  37.787402  "
      ]
     },
     "execution_count": 194,
     "metadata": {},
     "output_type": "execute_result"
    }
   ],
   "source": [
    "train.head()"
   ]
  },
  {
   "cell_type": "markdown",
   "metadata": {},
   "source": [
    "# Test"
   ]
  },
  {
   "cell_type": "code",
   "execution_count": 203,
   "metadata": {
    "collapsed": false,
    "scrolled": true
   },
   "outputs": [],
   "source": [
    "y_test = data_Test.Resolution\n",
    "x_test = data_Test.drop([\"Resolution\"],axis = 1)"
   ]
  },
  {
   "cell_type": "code",
   "execution_count": 204,
   "metadata": {
    "collapsed": false,
    "scrolled": true
   },
   "outputs": [],
   "source": [
    "y_test.to_csv('data/ref_test.solution',index=False)"
   ]
  },
  {
   "cell_type": "code",
   "execution_count": 205,
   "metadata": {
    "collapsed": false,
    "scrolled": true
   },
   "outputs": [],
   "source": [
    "x_test.to_csv('data/x_test.data',index=False)"
   ]
  },
  {
   "cell_type": "code",
   "execution_count": 206,
   "metadata": {
    "collapsed": false
   },
   "outputs": [
    {
     "data": {
      "text/plain": [
       "119481    0\n",
       "119482    0\n",
       "119483    1\n",
       "119484    0\n",
       "119485    0\n",
       "Name: Resolution, dtype: int64"
      ]
     },
     "execution_count": 206,
     "metadata": {},
     "output_type": "execute_result"
    }
   ],
   "source": [
    "y_test.head()"
   ]
  },
  {
   "cell_type": "markdown",
   "metadata": {
    "collapsed": true
   },
   "source": [
    "# Validation"
   ]
  },
  {
   "cell_type": "code",
   "execution_count": 207,
   "metadata": {
    "collapsed": true
   },
   "outputs": [],
   "source": [
    "y_valid = data_Valid.Resolution\n",
    "x_valid = data_Valid.drop([\"Resolution\"],axis = 1)"
   ]
  },
  {
   "cell_type": "code",
   "execution_count": 208,
   "metadata": {
    "collapsed": true
   },
   "outputs": [],
   "source": [
    "y_valid.to_csv('data/ref_valid.solution',index=False)"
   ]
  },
  {
   "cell_type": "code",
   "execution_count": 209,
   "metadata": {
    "collapsed": true
   },
   "outputs": [],
   "source": [
    "x_valid.to_csv('data/x_valid.data',index=False)"
   ]
  },
  {
   "cell_type": "code",
   "execution_count": null,
   "metadata": {
    "collapsed": false
   },
   "outputs": [],
   "source": []
  },
  {
   "cell_type": "code",
   "execution_count": null,
   "metadata": {
    "collapsed": false
   },
   "outputs": [],
   "source": []
  },
  {
   "cell_type": "code",
   "execution_count": null,
   "metadata": {
    "collapsed": true
   },
   "outputs": [],
   "source": []
  },
  {
   "cell_type": "code",
   "execution_count": null,
   "metadata": {
    "collapsed": true
   },
   "outputs": [],
   "source": []
  },
  {
   "cell_type": "code",
   "execution_count": null,
   "metadata": {
    "collapsed": true
   },
   "outputs": [],
   "source": []
  }
 ],
 "metadata": {
  "kernelspec": {
   "display_name": "Python 2",
   "language": "python",
   "name": "python2"
  },
  "language_info": {
   "codemirror_mode": {
    "name": "ipython",
    "version": 2
   },
   "file_extension": ".py",
   "mimetype": "text/x-python",
   "name": "python",
   "nbconvert_exporter": "python",
   "pygments_lexer": "ipython2",
   "version": "2.7.11"
  }
 },
 "nbformat": 4,
 "nbformat_minor": 0
}
